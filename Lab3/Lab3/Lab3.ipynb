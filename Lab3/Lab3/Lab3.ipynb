{
 "cells": [
  {
   "cell_type": "markdown",
   "metadata": {},
   "source": [
    "## Lab3"
   ]
  },
  {
   "cell_type": "markdown",
   "metadata": {},
   "source": [
    "## Experiment 1: Observing the Single-Slit Diffraction Pattern\n",
    "\n",
    "The lab manual instructed us to submit our answers like we would for a normal homework assignment, so I will simply include our responses to the Analysis sections of this experiment in the order they appear.\n",
    "\n",
    "#### Answers:\n",
    "\n",
    "<u> Analysis 1: </u>\n",
    "\n",
    "We measured the width of the outer fringes to be $2.3$ mm, and we measured the distance between the grating and the screen to be $870$ mm, so the difference between the small angle approximation and the actual angle is given by:\n",
    "\n",
    "$$ \\frac{2.3}{870} - \\tan ^{-1}\\left(\\frac{2.3}{870}\\right) = 6.16 \\cdot 10^{-9}$$\n",
    "\n",
    "From the prelab questions, we saw that a difference between $\\theta$ and $\\tan(\\theta)$ of $\\pm0.1730$ corresponds to a relative of error in the small angle approximation of 1%. Therefore dividing the $ 6.16 \\cdot 10^{-9}$ by $0.1730$ yields $3.56 \\cdot 10^{-8}$.  Therefore, given the length scales we are using, the order of magnitude of the relative error incurred by the small-angle approximation is about:\n",
    "\n",
    "$$\\boxed{Magnitude\\text{ }of\\text{ }Relative\\text{ } Error = -8}$$\n"
   ]
  },
  {
   "cell_type": "markdown",
   "metadata": {},
   "source": [
    "<u> Analysis 2: </u>\n",
    "\n",
    "Using $\\displaystyle \\Delta y_{cent} = \\frac{2L\\lambda}{a}$, and using the fact that we measured $\\Delta y_{cent} = 5.5 \\pm 0.05 \\text{ mm}$, and $L = 87.0 \\pm 0.05 \\text{ cm}$, we use the above expression to calculate the slit width $a$ to be:\n",
    "\n",
    "$$\\boxed{a = 0.20 \\pm 0.0018 \\text{ mm}}$$\n",
    "\n",
    "The accepted value of $a$ is 4 points, which translates to 0.17572 mm, which clearly does not agree with the result we calculated.  The two values have the same order of magnitude and are close enough that even a slight manufacturing mistake may have lead to this discrepancy.\n",
    "\n"
   ]
  },
  {
   "cell_type": "markdown",
   "metadata": {},
   "source": [
    "## Experiment 2 - Varying the Single Slit Diffraction Pattern \n",
    "\n",
    "#### Objective:\n",
    "\n",
    "* In this experiment, we looking at different ways that we can alter the single-slit diffraction pattern that shows up on the screen. In this lab, we change the slit width, the wavelength of the light $\\lambda$, and we use a diverging lens to learn how different factors change the diffraction pattern.\n",
    "\n",
    "#### Method:\n",
    "\n",
    "* Set up materials according to the figure in section 1.1 of the lab manual.\n",
    "\n",
    "* In this lab, the main equations we were testing were: \n",
    "\n",
    "$$ \\Delta y_{cent} = \\frac{2L\\lambda}{a}$$\n",
    "\n",
    "\n",
    "$$ \\Delta y_{side} = \\frac{L\\lambda}{a}$$\n",
    "\n",
    "* In order to determine the effect changing the slit width has on the pattern on the screen, we simply observed the diffraction pattern resulting from different slit widths on the grating plate.  Based on the above equations, we predicted that $y_{cent}$ should decrease when we increased slit length.\n",
    "\n",
    "* In order to test the effect changing the wavelength of the light $\\lambda$ had on the diffraction pattern, we used a green laser in addition to the red laser, and noted the differences between the resultant diffraction patterns. Based on the above equation, we predicted that $y_{cent}$ would decrease when we decreased wavelength.\n",
    "\n",
    "* Finally, to test the effect of the diverging lens on the diffraction pattern, we placed the diverging lens in front of the grating plate, and then behind the grating plate and observed the changes each placement of the grating plate had on the resultant diffraction pattern.  "
   ]
  },
  {
   "cell_type": "markdown",
   "metadata": {},
   "source": [
    "#### Answers to Data Analysis:\n",
    "\n",
    "a) Based on your your observations and the theoretical dependence of the diffraction pattern width on slit width, determine if any of your data points significantly deviates from what you would expect given the listed slit widths. Discuss whether or not it would be appropriate to “ignore” this data point in our data analysis.\n",
    "\n",
    "Answer:\n",
    "\n",
    "The following data table represents the data we took for $y_1$-vs-$a$.  Here \"a\" represents the slit width measured in points, \"y1\" represents the location of the first minimum in centimeters, and \"delta_y1\" represents the uncertainty in the measurement of \"y1\"."
   ]
  },
  {
   "cell_type": "code",
   "execution_count": 5,
   "metadata": {},
   "outputs": [
    {
     "data": {
      "text/html": [
       "<div>\n",
       "<style scoped>\n",
       "    .dataframe tbody tr th:only-of-type {\n",
       "        vertical-align: middle;\n",
       "    }\n",
       "\n",
       "    .dataframe tbody tr th {\n",
       "        vertical-align: top;\n",
       "    }\n",
       "\n",
       "    .dataframe thead th {\n",
       "        text-align: right;\n",
       "    }\n",
       "</style>\n",
       "<table border=\"1\" class=\"dataframe\">\n",
       "  <thead>\n",
       "    <tr style=\"text-align: right;\">\n",
       "      <th></th>\n",
       "      <th>a</th>\n",
       "      <th>y1</th>\n",
       "      <th>delta_y1</th>\n",
       "    </tr>\n",
       "  </thead>\n",
       "  <tbody>\n",
       "    <tr>\n",
       "      <th>0</th>\n",
       "      <td>2</td>\n",
       "      <td>0.350</td>\n",
       "      <td>0.000625</td>\n",
       "    </tr>\n",
       "    <tr>\n",
       "      <th>1</th>\n",
       "      <td>4</td>\n",
       "      <td>0.209</td>\n",
       "      <td>0.000625</td>\n",
       "    </tr>\n",
       "    <tr>\n",
       "      <th>2</th>\n",
       "      <td>8</td>\n",
       "      <td>0.130</td>\n",
       "      <td>0.000410</td>\n",
       "    </tr>\n",
       "    <tr>\n",
       "      <th>3</th>\n",
       "      <td>16</td>\n",
       "      <td>0.060</td>\n",
       "      <td>0.000500</td>\n",
       "    </tr>\n",
       "  </tbody>\n",
       "</table>\n",
       "</div>"
      ],
      "text/plain": [
       "    a     y1  delta_y1\n",
       "0   2  0.350  0.000625\n",
       "1   4  0.209  0.000625\n",
       "2   8  0.130  0.000410\n",
       "3  16  0.060  0.000500"
      ]
     },
     "execution_count": 5,
     "metadata": {},
     "output_type": "execute_result"
    }
   ],
   "source": [
    "exp3_data"
   ]
  },
  {
   "cell_type": "markdown",
   "metadata": {},
   "source": [
    "We also measured the distance between the grating plate and the screen to be $67.4 \\pm 0.05$ cm."
   ]
  },
  {
   "cell_type": "markdown",
   "metadata": {},
   "source": [
    "In order to determine whether any data points significantly deviate from the expected value, I'll use the our data to calculate slit width and compare it to the listed value.  The following script performs this calculation.  \"a\" is the same value as in the previous data table, and \"Listed Value\" is just the value of \"a\" from the previous data table times 0.004393 mm to find the listed slit width in millimeters.  \"Actual Value\" and \"Actual Value Uncertainty\" also both have units of millimeters."
   ]
  },
  {
   "cell_type": "code",
   "execution_count": 7,
   "metadata": {},
   "outputs": [
    {
     "data": {
      "text/html": [
       "<div>\n",
       "<style scoped>\n",
       "    .dataframe tbody tr th:only-of-type {\n",
       "        vertical-align: middle;\n",
       "    }\n",
       "\n",
       "    .dataframe tbody tr th {\n",
       "        vertical-align: top;\n",
       "    }\n",
       "\n",
       "    .dataframe thead th {\n",
       "        text-align: right;\n",
       "    }\n",
       "</style>\n",
       "<table border=\"1\" class=\"dataframe\">\n",
       "  <thead>\n",
       "    <tr style=\"text-align: right;\">\n",
       "      <th></th>\n",
       "      <th>a</th>\n",
       "      <th>Listed Value</th>\n",
       "      <th>Actual Value</th>\n",
       "      <th>Actual Value Uncertainty</th>\n",
       "    </tr>\n",
       "  </thead>\n",
       "  <tbody>\n",
       "    <tr>\n",
       "      <th>0</th>\n",
       "      <td>2</td>\n",
       "      <td>0.08786</td>\n",
       "      <td>0.122206</td>\n",
       "      <td>0.000236</td>\n",
       "    </tr>\n",
       "    <tr>\n",
       "      <th>1</th>\n",
       "      <td>4</td>\n",
       "      <td>0.17572</td>\n",
       "      <td>0.204651</td>\n",
       "      <td>0.000631</td>\n",
       "    </tr>\n",
       "    <tr>\n",
       "      <th>2</th>\n",
       "      <td>8</td>\n",
       "      <td>0.35144</td>\n",
       "      <td>0.329016</td>\n",
       "      <td>0.001066</td>\n",
       "    </tr>\n",
       "    <tr>\n",
       "      <th>3</th>\n",
       "      <td>16</td>\n",
       "      <td>0.70288</td>\n",
       "      <td>0.712867</td>\n",
       "      <td>0.005964</td>\n",
       "    </tr>\n",
       "  </tbody>\n",
       "</table>\n",
       "</div>"
      ],
      "text/plain": [
       "    a  Listed Value  Actual Value  Actual Value Uncertainty\n",
       "0   2       0.08786      0.122206                  0.000236\n",
       "1   4       0.17572      0.204651                  0.000631\n",
       "2   8       0.35144      0.329016                  0.001066\n",
       "3  16       0.70288      0.712867                  0.005964"
      ]
     },
     "execution_count": 7,
     "metadata": {},
     "output_type": "execute_result"
    }
   ],
   "source": [
    "compare = pd.DataFrame()\n",
    "ex = exp3_data\n",
    "compare['a'] = exp3_data.a\n",
    "compare['Listed Value'] = exp3_data.a * 0.04393\n",
    "compare['Actual Value'] = 674 * (6.346e-5) / exp3_data.y1\n",
    "compare['Actual Value Uncertainty'] = compare['Actual Value'] * ((ex.delta_y1 / ex.y1)**2 + (0.05 / 67.4)**2)**0.5\n",
    "compare"
   ]
  },
  {
   "cell_type": "markdown",
   "metadata": {},
   "source": [
    "This final data plots the difference between the Listed and Actual Values of slit width from the previous table:"
   ]
  },
  {
   "cell_type": "code",
   "execution_count": 15,
   "metadata": {},
   "outputs": [
    {
     "data": {
      "text/html": [
       "<div>\n",
       "<style scoped>\n",
       "    .dataframe tbody tr th:only-of-type {\n",
       "        vertical-align: middle;\n",
       "    }\n",
       "\n",
       "    .dataframe tbody tr th {\n",
       "        vertical-align: top;\n",
       "    }\n",
       "\n",
       "    .dataframe thead th {\n",
       "        text-align: right;\n",
       "    }\n",
       "</style>\n",
       "<table border=\"1\" class=\"dataframe\">\n",
       "  <thead>\n",
       "    <tr style=\"text-align: right;\">\n",
       "      <th></th>\n",
       "      <th>a</th>\n",
       "      <th>Percent Difference</th>\n",
       "    </tr>\n",
       "  </thead>\n",
       "  <tbody>\n",
       "    <tr>\n",
       "      <th>0</th>\n",
       "      <td>2</td>\n",
       "      <td>28.104902</td>\n",
       "    </tr>\n",
       "    <tr>\n",
       "      <th>1</th>\n",
       "      <td>4</td>\n",
       "      <td>14.136712</td>\n",
       "    </tr>\n",
       "    <tr>\n",
       "      <th>2</th>\n",
       "      <td>8</td>\n",
       "      <td>6.815574</td>\n",
       "    </tr>\n",
       "    <tr>\n",
       "      <th>3</th>\n",
       "      <td>16</td>\n",
       "      <td>1.401009</td>\n",
       "    </tr>\n",
       "  </tbody>\n",
       "</table>\n",
       "</div>"
      ],
      "text/plain": [
       "    a  Percent Difference\n",
       "0   2           28.104902\n",
       "1   4           14.136712\n",
       "2   8            6.815574\n",
       "3  16            1.401009"
      ]
     },
     "execution_count": 15,
     "metadata": {},
     "output_type": "execute_result"
    }
   ],
   "source": [
    "final = pd.DataFrame()\n",
    "final['a'] = ex.a\n",
    "final['Percent Difference'] = 100 * abs(compare['Actual Value'] - compare['Listed Value']) / compare['Actual Value']\n",
    "final"
   ]
  },
  {
   "cell_type": "markdown",
   "metadata": {},
   "source": [
    "We therefore see that the $a=2$ slit has the largest discrepancy between the listed and actual slit width.  It would be appropriate to drop this data point simply because the actual difference between the actual and listed value of slit width is about 0.04 mm, which is an extremely small length based on the size of the equipment used to manufacture the grating plate.  Also the fact that the listed value is 28% smaller than our experimentally determined value means it might have a detrimental effect on the rest of our data.  However, because we have so few data points already, we will keep this data point in the following analysis."
   ]
  },
  {
   "cell_type": "markdown",
   "metadata": {},
   "source": [
    "b) Define the new quantities z ≡ ln(y1/mm) and w ≡ ln(a/pt) and make a data table and scatter-plot of z-vs-w with error bars for the uncertainty in z.\n",
    "\n",
    "\n",
    "The following table shows the calculated values of \"w\" and \"z\", and it also includes the uncertainty in \"z\", denoted \"dz\"."
   ]
  },
  {
   "cell_type": "code",
   "execution_count": 5,
   "metadata": {},
   "outputs": [
    {
     "ename": "NameError",
     "evalue": "name 'wz' is not defined",
     "output_type": "error",
     "traceback": [
      "\u001b[1;31m---------------------------------------------------------------------------\u001b[0m",
      "\u001b[1;31mNameError\u001b[0m                                 Traceback (most recent call last)",
      "\u001b[1;32m<ipython-input-5-11ae8c58e360>\u001b[0m in \u001b[0;36m<module>\u001b[1;34m\u001b[0m\n\u001b[1;32m----> 1\u001b[1;33m \u001b[0mwz\u001b[0m\u001b[1;33m\u001b[0m\u001b[0m\n\u001b[0m",
      "\u001b[1;31mNameError\u001b[0m: name 'wz' is not defined"
     ]
    }
   ],
   "source": [
    "wz"
   ]
  },
  {
   "cell_type": "code",
   "execution_count": 9,
   "metadata": {},
   "outputs": [
    {
     "data": {
      "image/png": "[encoded data removed]",
      "text/plain": [
       "<Figure size 432x288 with 1 Axes>"
      ]
     },
     "metadata": {
      "needs_background": "light"
     },
     "output_type": "display_data"
    }
   ],
   "source": [
    "plt.errorbar(wz.w, wz.z, yerr = wz.dz, fmt='.')\n",
    "plt.title('W vs Z')\n",
    "plt.xlabel('w')\n",
    "plt.ylabel('z')\n",
    "plt.show()"
   ]
  },
  {
   "cell_type": "markdown",
   "metadata": {},
   "source": [
    "c) Determine the theoretically expected values for the slope m and intercept b.\n",
    "\n",
    "\n",
    "Based on the equation:\n",
    "\n",
    "$$ y_1 = \\frac{L\\lambda}{a}$$\n",
    "\n",
    "We see, \n",
    "\n",
    "$$ \\ln(y_1) = \\ln(L\\lambda) - \\ln(a)$$\n",
    "$$ \\implies z = -w + \\ln(L\\lambda)$$\n",
    "\n",
    "So then, we theoretically expect that:\n",
    "\n",
    "$$\\boxed{m = -1 \\text{,   } b = \\ln(L\\lambda) = -3.15}$$\n",
    "\n"
   ]
  },
  {
   "cell_type": "markdown",
   "metadata": {},
   "source": [
    "c) Use a least-squares fit to determine the fit values (with uncertainties) for your data.\n",
    "\n",
    "The following script uses least squares to calculate $m$, $b$ and their corresponding uncertainties."
   ]
  },
  {
   "cell_type": "code",
   "execution_count": 41,
   "metadata": {},
   "outputs": [
    {
     "name": "stdout",
     "output_type": "stream",
     "text": [
      "m:  -0.8317952867723865  +-  0.0681904187269391\n",
      "b:  -0.4258272796273217  +- 0.1294432623801534\n"
     ]
    }
   ],
   "source": [
    "denom = (wz.w ** 2).mean() - (wz.w.mean() **2)\n",
    "m= ((wz.z * wz.w).mean() - (wz.z.mean() * wz.w.mean()))  / denom\n",
    "b = wz.z.mean() - (m * wz.w.mean())\n",
    "dy = (0.5*((wz.z - (wz.w * m + b))**2).sum())**0.5\n",
    "dm = dy / sqrt(4 * denom)\n",
    "db = sqrt((wz.w**2).mean()) * dm\n",
    "\n",
    "print(\"m: \", m, \" +- \", dm)\n",
    "print(\"b: \", b, \" +-\", db)"
   ]
  },
  {
   "cell_type": "markdown",
   "metadata": {},
   "source": [
    "Therefore the least-squares fit yields best fit values of:\n",
    "\n",
    "$$\\boxed{m = -0.832 \\pm 0.068 \\text{, } b = -0.426 \\pm 0.129}$$"
   ]
  },
  {
   "cell_type": "markdown",
   "metadata": {},
   "source": [
    "## Experiment 4\n",
    "\n",
    "#### Objective\n",
    "\n",
    "In this experiment, we decided to test the equation that states when Intensity Maxima occur for multiple thin-slit interference.  This equation is given by:\n",
    "\n",
    "$$d\\sin(\\theta) = m\\lambda\\text{, }m\\in \\mathbb{Z}$$\n",
    "\n",
    "Specifically, we wished to show that the locations of the bright maxima should not change when we varied N, the number of slits.\n",
    "\n",
    "#### Method\n",
    "\n",
    "First we set up the materials according to the figure in section 1.1 of the Lab Manual.  We used the method from earlier labs to align the laser.  Then we adjusted the light so that it would go through the 3/1/2 slit pattern.  Finally we measured the distance between the center of the pattern to the first intensity maximum.\n",
    "\n",
    "We then repeated this procedure for the 4/1/2, 10/1/2, and 20/1/2 slits. \n",
    "\n",
    "#### Data Analysis\n",
    "\n",
    "The following table shows the data we collected for this experiment. In this table, 'n' stands for the number of slits used; 'a' stands for the thickness of slits in pts; 'd' stands for the widths of slits in pts; 'w' and 'dw' stand for the location and uncertainty of the first bright maxima in millimeters.\n",
    "\n",
    "\n"
   ]
  },
  {
   "cell_type": "code",
   "execution_count": 26,
   "metadata": {},
   "outputs": [
    {
     "data": {
      "text/html": [
       "<div>\n",
       "<style scoped>\n",
       "    .dataframe tbody tr th:only-of-type {\n",
       "        vertical-align: middle;\n",
       "    }\n",
       "\n",
       "    .dataframe tbody tr th {\n",
       "        vertical-align: top;\n",
       "    }\n",
       "\n",
       "    .dataframe thead th {\n",
       "        text-align: right;\n",
       "    }\n",
       "</style>\n",
       "<table border=\"1\" class=\"dataframe\">\n",
       "  <thead>\n",
       "    <tr style=\"text-align: right;\">\n",
       "      <th></th>\n",
       "      <th>n</th>\n",
       "      <th>a</th>\n",
       "      <th>d</th>\n",
       "      <th>w</th>\n",
       "      <th>dw</th>\n",
       "    </tr>\n",
       "  </thead>\n",
       "  <tbody>\n",
       "    <tr>\n",
       "      <th>0</th>\n",
       "      <td>3</td>\n",
       "      <td>1</td>\n",
       "      <td>2</td>\n",
       "      <td>3.46</td>\n",
       "      <td>0.005</td>\n",
       "    </tr>\n",
       "    <tr>\n",
       "      <th>1</th>\n",
       "      <td>4</td>\n",
       "      <td>1</td>\n",
       "      <td>2</td>\n",
       "      <td>3.48</td>\n",
       "      <td>0.005</td>\n",
       "    </tr>\n",
       "    <tr>\n",
       "      <th>2</th>\n",
       "      <td>10</td>\n",
       "      <td>1</td>\n",
       "      <td>2</td>\n",
       "      <td>3.51</td>\n",
       "      <td>0.005</td>\n",
       "    </tr>\n",
       "    <tr>\n",
       "      <th>3</th>\n",
       "      <td>20</td>\n",
       "      <td>1</td>\n",
       "      <td>2</td>\n",
       "      <td>3.52</td>\n",
       "      <td>0.005</td>\n",
       "    </tr>\n",
       "  </tbody>\n",
       "</table>\n",
       "</div>"
      ],
      "text/plain": [
       "    n  a  d     w     dw\n",
       "0   3  1  2  3.46  0.005\n",
       "1   4  1  2  3.48  0.005\n",
       "2  10  1  2  3.51  0.005\n",
       "3  20  1  2  3.52  0.005"
      ]
     },
     "execution_count": 26,
     "metadata": {},
     "output_type": "execute_result"
    }
   ],
   "source": [
    "df"
   ]
  },
  {
   "cell_type": "markdown",
   "metadata": {},
   "source": [
    "Because we are specifically trying to show that there is no dependence between the number of slits and the location of the first bright maximum, we fitted our data to a linear hypothesis $y=\\hat{m}x+\\hat{b}$ with the intention of showing $\\hat{m} = 0$ and $\\hat{b} \\approx 3.5 $  Using scripts found in appendix, we found that:\n",
    "\n",
    "\n",
    "$$\\hat{m}=0.003\\pm0.0009 \\text{, } \\hat{b}=3.463\\pm0.0104$$\n",
    "\n",
    "Clearly these values of $\\hat{m}$ and $\\hat{b}$ match our expectations with small error.  In order to determine if this hypothesis was a good fit of the data, we used a residuals test.  The following script plots the residuals:"
   ]
  },
  {
   "cell_type": "code",
   "execution_count": 29,
   "metadata": {},
   "outputs": [
    {
     "data": {
      "image/png": "[encoded data removed]",
      "text/plain": [
       "<Figure size 432x288 with 1 Axes>"
      ]
     },
     "metadata": {
      "needs_background": "light"
     },
     "output_type": "display_data"
    }
   ],
   "source": [
    "plt.errorbar(df.n, df.residual, yerr = df.delresid, fmt = '.')\n",
    "plt.xlabel('slit number')\n",
    "plt.ylabel('residual')\n",
    "plt.title('residual scatter plot')\n",
    "plt.axhline(0, 0, 1, color = 'red')\n",
    "plt.show()"
   ]
  },
  {
   "cell_type": "markdown",
   "metadata": {},
   "source": [
    "Clearly more than 2/3 of the error bars cross the x-axis, and in fact all the error bars cross the x-axis, so we can say that this hypothesis is a very good fit of the data.  Therefore our data analysis strongly supports the theoretical prediction that the location of the first bright maximum should not depend on the number of slits in the grating. "
   ]
  },
  {
   "cell_type": "markdown",
   "metadata": {},
   "source": [
    "## Summary and Conclusions\n",
    "\n",
    "The purpose of this lab was to explore the qualitative features of the interference and diffraction patterns formed by slits, and to Use the quantitative features of interference and diffraction patterns to measure small lengths.  The very nature of this lab allowed us to explore different features of interference and diffraction patterns, and we used measurements of the location of a pattern's maxima together with the distances between the different pieces of equipment to measure the slit width, which is indeed a small quantity.  Therefore we fulfilled the purpose of this lab.  \n",
    "\n",
    "More specifically, through this lab we were able to test the various equations governing the widths of maxima in interference and diffraction patterns, and we were able to verify that these equations hold for various setups.  \n",
    "\n",
    "Finally, to reiterate the findings of the two experiments listed in this report, in the first experiment we showed that one of the slit widths had a large discrepancy between the listed value and the experimentally determined value.  We also showed that we could take a natural log of the equation governing the system in order to fit our data to linear hypothesis.  In the fourth experiment, we showed that the location of the first bright maximum of a multiple-slit interference pattern does not depend of the number of slits in the grating.\n",
    "\n",
    "## Contributions of Each Member\n",
    "\n",
    "Danny and Heidi each did 50% of the lab work and the data analysis.  Danny did 70% of the work writing out the actual findings of the data analysis.\n",
    "\n",
    "## References\n",
    "\n",
    "We used python, and the open source python libraries MatPlotLib, Pandas, and NumPy."
   ]
  },
  {
   "cell_type": "code",
   "execution_count": 2,
   "metadata": {},
   "outputs": [],
   "source": [
    "import pandas as pd\n",
    "import numpy as np\n",
    "import matplotlib.pyplot as plt\n",
    "from math import *"
   ]
  },
  {
   "cell_type": "markdown",
   "metadata": {},
   "source": [
    "The following scripts were used to do the linear fitting in Experiment 4:"
   ]
  },
  {
   "cell_type": "code",
   "execution_count": 4,
   "metadata": {},
   "outputs": [],
   "source": [
    "data_dict = {\"a\" : [2, 4, 8, 16], \"y1\": [0.35, 0.209, 0.13, 0.06], \"delta_y1\": [0.000625, 0.000625, 0.00041, 0.0005]}\n",
    "exp3_data = pd.DataFrame(data_dict)"
   ]
  },
  {
   "cell_type": "code",
   "execution_count": 8,
   "metadata": {},
   "outputs": [],
   "source": [
    "w = []\n",
    "z = []\n",
    "for index, row in list(exp3_data.iterrows()):\n",
    "    w.append(log(row['a']))\n",
    "    z.append(log(row['y1']))\n",
    "wz = pd.DataFrame({'w': w, 'z': z})\n",
    "wz['dz'] = ex.delta_y1 / wz.z"
   ]
  },
  {
   "cell_type": "code",
   "execution_count": 16,
   "metadata": {},
   "outputs": [],
   "source": [
    "data = {'n':[3, 4, 10, 20],\n",
    "        'a':[1, 1, 1, 1],\n",
    "        'd':[2, 2, 2, 2],\n",
    "       'w':[3.46, 3.48, 3.51, 3.52],\n",
    "       'dw':[.005, .005, .005, .005]}\n",
    "df = pd.DataFrame(data)"
   ]
  },
  {
   "cell_type": "code",
   "execution_count": 10,
   "metadata": {},
   "outputs": [],
   "source": [
    "df['nw'] = df['n'] * df['w']\n",
    "df['n2'] = df['n']**2\n",
    "\n",
    "nwmean = np.mean(df['nw'])\n",
    "n2mean = np.mean(df['n2'])\n",
    "nmean = np.mean(df['n'])\n",
    "wmean = np.mean(df['w'])\n",
    "nmean2 = nmean **2\n",
    "sigman2 = n2mean - nmean2"
   ]
  },
  {
   "cell_type": "markdown",
   "metadata": {},
   "source": [
    "The following script outputs the values of $\\hat{m}$ and $\\hat{b}$."
   ]
  },
  {
   "cell_type": "code",
   "execution_count": 11,
   "metadata": {},
   "outputs": [
    {
     "name": "stdout",
     "output_type": "stream",
     "text": [
      "0.0031600547195623245\n",
      "3.4632694938440474\n"
     ]
    }
   ],
   "source": [
    "mhat = (nwmean - nmean * wmean)/sigman2\n",
    "bhat = (n2mean * wmean - nmean * nwmean)/sigman2\n",
    "print(mhat)\n",
    "print(bhat)"
   ]
  },
  {
   "cell_type": "markdown",
   "metadata": {},
   "source": [
    "The following script outputs the uncertainties in the above quantities:"
   ]
  },
  {
   "cell_type": "code",
   "execution_count": 22,
   "metadata": {},
   "outputs": [
    {
     "name": "stdout",
     "output_type": "stream",
     "text": [
      "0.012248379477204379\n",
      "0.0009060453593812888\n",
      "0.010380053606070557\n"
     ]
    }
   ],
   "source": [
    "df['expw'] = df['n'] * mhat + bhat\n",
    "delw = np.sqrt(np.sum((df['w'] - df['expw'])**2)/3)\n",
    "delmhat = delw/np.sqrt(4 * sigman2)\n",
    "delbhat = delmhat * np.sqrt(n2mean)\n",
    "print(delw)\n",
    "print(delmhat)\n",
    "print(delbhat)"
   ]
  },
  {
   "cell_type": "code",
   "execution_count": 23,
   "metadata": {
    "scrolled": true
   },
   "outputs": [],
   "source": [
    "df['residual'] = df['w'] - df['expw']\n",
    "df['delresid'] = df['dw'] + delw"
   ]
  }
 ],
 "metadata": {
  "kernelspec": {
   "display_name": "Python 3",
   "language": "python",
   "name": "python3"
  },
  "language_info": {
   "codemirror_mode": {
    "name": "ipython",
    "version": 3
   },
   "file_extension": ".py",
   "mimetype": "text/x-python",
   "name": "python",
   "nbconvert_exporter": "python",
   "pygments_lexer": "ipython3",
   "version": "3.6.2"
  }
 },
 "nbformat": 4,
 "nbformat_minor": 2
}
