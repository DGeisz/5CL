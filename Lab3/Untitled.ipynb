{
 "cells": [
  {
   "cell_type": "code",
   "execution_count": 4,
   "metadata": {},
   "outputs": [],
   "source": [
    "import pandas as pd\n",
    "import matplotlib.pyplot as plt\n",
    "import numpy as np\n",
    "from sklearn.linear_model import LinearRegression\n",
    "from IPython.display import Image\n",
    "im2 = Image('fig2.jpg')\n",
    "im1 = Image('fig1.jpg')"
   ]
  },
  {
   "cell_type": "markdown",
   "metadata": {},
   "source": [
    "# Experiment 3 - The Double Thick-Slit Experiment\n",
    "\n",
    "\n",
    "## Answers\n",
    "a). There are small spectrums wrapped in a larger spectrum: wiggle of light intensity forming smaller fringes within each fringe, formed by superposition of many small fringes from double slit interference and large fringes from diffraction.   \n",
    "\n",
    "b). We measured the width of fringes formed by diffraction and interference, as well as the distance from the screen to the gratings as shown in the table below.    \n",
    "\n",
    "In this table, 'SlitNumber' is the number slits; 'SlitThickness' is the thickness of slits, with unit of pts; 'SlitWidth' is the distance between slits, with unit of pts; 'ds' is the width of small fringes, with unit of cm; 'del_ds' is the error associated with the small fringe width, with unit of cm; 'dl' is the width of large fringes, with unit of cm; 'del_dl' is the error associated with large fringe widths, with unit of cm; 'L' is the distance between the screen and the grating plate, with unit of cm; 'del_L' is the error associated with screen-grating plate distance, with unit of cm. "
   ]
  },
  {
   "cell_type": "code",
   "execution_count": 12,
   "metadata": {},
   "outputs": [
    {
     "data": {
      "text/html": [
       "<div>\n",
       "<style scoped>\n",
       "    .dataframe tbody tr th:only-of-type {\n",
       "        vertical-align: middle;\n",
       "    }\n",
       "\n",
       "    .dataframe tbody tr th {\n",
       "        vertical-align: top;\n",
       "    }\n",
       "\n",
       "    .dataframe thead th {\n",
       "        text-align: right;\n",
       "    }\n",
       "</style>\n",
       "<table border=\"1\" class=\"dataframe\">\n",
       "  <thead>\n",
       "    <tr style=\"text-align: right;\">\n",
       "      <th></th>\n",
       "      <th>SlitNumber</th>\n",
       "      <th>SlitThickness</th>\n",
       "      <th>SlitWidth</th>\n",
       "      <th>ds</th>\n",
       "      <th>del_ds</th>\n",
       "      <th>dl</th>\n",
       "      <th>del_dl</th>\n",
       "      <th>L</th>\n",
       "      <th>del_L</th>\n",
       "    </tr>\n",
       "  </thead>\n",
       "  <tbody>\n",
       "    <tr>\n",
       "      <th>0</th>\n",
       "      <td>2</td>\n",
       "      <td>2</td>\n",
       "      <td>6</td>\n",
       "      <td>0.356</td>\n",
       "      <td>0.01</td>\n",
       "      <td>0.109</td>\n",
       "      <td>0.01</td>\n",
       "      <td>73.6</td>\n",
       "      <td>0.05</td>\n",
       "    </tr>\n",
       "    <tr>\n",
       "      <th>1</th>\n",
       "      <td>2</td>\n",
       "      <td>2</td>\n",
       "      <td>14</td>\n",
       "      <td>0.350</td>\n",
       "      <td>0.01</td>\n",
       "      <td>0.056</td>\n",
       "      <td>0.01</td>\n",
       "      <td>73.6</td>\n",
       "      <td>0.05</td>\n",
       "    </tr>\n",
       "  </tbody>\n",
       "</table>\n",
       "</div>"
      ],
      "text/plain": [
       "   SlitNumber  SlitThickness  SlitWidth     ds  del_ds     dl  del_dl     L  \\\n",
       "0           2              2          6  0.356    0.01  0.109    0.01  73.6   \n",
       "1           2              2         14  0.350    0.01  0.056    0.01  73.6   \n",
       "\n",
       "   del_L  \n",
       "0   0.05  \n",
       "1   0.05  "
      ]
     },
     "execution_count": 12,
     "metadata": {},
     "output_type": "execute_result"
    }
   ],
   "source": [
    "df"
   ]
  },
  {
   "cell_type": "markdown",
   "metadata": {},
   "source": [
    "`"
   ]
  },
  {
   "cell_type": "code",
   "execution_count": null,
   "metadata": {},
   "outputs": [],
   "source": []
  },
  {
   "cell_type": "code",
   "execution_count": null,
   "metadata": {},
   "outputs": [],
   "source": []
  },
  {
   "cell_type": "code",
   "execution_count": 11,
   "metadata": {},
   "outputs": [],
   "source": [
    "data = {'SlitNumber':[2, 2],\n",
    "        'SlitThickness':[2, 2],\n",
    "    'SlitWidth':[6, 14], \n",
    "        'ds':[0.356, 0.350], \n",
    "        'del_ds':[0.01,0.01],\n",
    "        'dl':[0.109, 0.056], \n",
    "        'del_dl':[0.01,0.01],\n",
    "        'L':[73.6, 73.6],\n",
    "        'del_L':[0.05, 0.05]}\n",
    "df = pd.DataFrame(data)"
   ]
  },
  {
   "cell_type": "code",
   "execution_count": null,
   "metadata": {},
   "outputs": [],
   "source": []
  }
 ],
 "metadata": {
  "kernelspec": {
   "display_name": "Python 3",
   "language": "python",
   "name": "python3"
  },
  "language_info": {
   "codemirror_mode": {
    "name": "ipython",
    "version": 3
   },
   "file_extension": ".py",
   "mimetype": "text/x-python",
   "name": "python",
   "nbconvert_exporter": "python",
   "pygments_lexer": "ipython3",
   "version": "3.7.3"
  }
 },
 "nbformat": 4,
 "nbformat_minor": 2
}
