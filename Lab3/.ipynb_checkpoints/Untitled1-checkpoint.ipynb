{
 "cells": [
  {
   "cell_type": "markdown",
   "metadata": {},
   "source": [
    "# Experiment 4\n",
    "## Qualitatively \n",
    "We studied the multi-slit setups on the grating plate and observed that:\n",
    "1. The larger the number of slits is, the larger the number of dim maxima is, the smaller the spacings between dim maxima are. \n",
    "2. The wider the slits are, the narrower the central maximum is. \n",
    "3. The further away slits are from each other, the smaller the spacings between dim maxima are. \n",
    "## Quantitatively\n",
    "### Theoretical prediction: \n",
    "The widths of bright maxima do not depend on number of slits. \n",
    "### Data Collection\n",
    "Keeping the thickness of slits at 1 pts and distance of slits at 2 pts, we altered the number of slits and measured widths of bright maxima, shown in the table below. One extra group of collection with n = 80, a = 0.25, d = 0.5, w = 0.282, dw = 0.005 is not included in the table for ease of calculation.\n",
    "\n",
    "In this table, 'n' stands for the number of slits used; 'a' stands for the thickness of slits in pts; 'd' stands for the sitance of slits in pts; 'w' and 'dw' stands for the widths of bright maxima and its associated uncertainties in millimeter."
   ]
  },
  {
   "cell_type": "code",
   "execution_count": 26,
   "metadata": {},
   "outputs": [
    {
     "data": {
      "text/html": [
       "<div>\n",
       "<style scoped>\n",
       "    .dataframe tbody tr th:only-of-type {\n",
       "        vertical-align: middle;\n",
       "    }\n",
       "\n",
       "    .dataframe tbody tr th {\n",
       "        vertical-align: top;\n",
       "    }\n",
       "\n",
       "    .dataframe thead th {\n",
       "        text-align: right;\n",
       "    }\n",
       "</style>\n",
       "<table border=\"1\" class=\"dataframe\">\n",
       "  <thead>\n",
       "    <tr style=\"text-align: right;\">\n",
       "      <th></th>\n",
       "      <th>n</th>\n",
       "      <th>a</th>\n",
       "      <th>d</th>\n",
       "      <th>w</th>\n",
       "      <th>dw</th>\n",
       "    </tr>\n",
       "  </thead>\n",
       "  <tbody>\n",
       "    <tr>\n",
       "      <th>0</th>\n",
       "      <td>3</td>\n",
       "      <td>1</td>\n",
       "      <td>2</td>\n",
       "      <td>3.46</td>\n",
       "      <td>0.005</td>\n",
       "    </tr>\n",
       "    <tr>\n",
       "      <th>1</th>\n",
       "      <td>4</td>\n",
       "      <td>1</td>\n",
       "      <td>2</td>\n",
       "      <td>3.48</td>\n",
       "      <td>0.005</td>\n",
       "    </tr>\n",
       "    <tr>\n",
       "      <th>2</th>\n",
       "      <td>10</td>\n",
       "      <td>1</td>\n",
       "      <td>2</td>\n",
       "      <td>3.51</td>\n",
       "      <td>0.005</td>\n",
       "    </tr>\n",
       "    <tr>\n",
       "      <th>3</th>\n",
       "      <td>20</td>\n",
       "      <td>1</td>\n",
       "      <td>2</td>\n",
       "      <td>3.52</td>\n",
       "      <td>0.005</td>\n",
       "    </tr>\n",
       "  </tbody>\n",
       "</table>\n",
       "</div>"
      ],
      "text/plain": [
       "    n  a  d     w     dw\n",
       "0   3  1  2  3.46  0.005\n",
       "1   4  1  2  3.48  0.005\n",
       "2  10  1  2  3.51  0.005\n",
       "3  20  1  2  3.52  0.005"
      ]
     },
     "execution_count": 26,
     "metadata": {},
     "output_type": "execute_result"
    }
   ],
   "source": [
    "df"
   ]
  },
  {
   "cell_type": "markdown",
   "metadata": {},
   "source": [
    "### Data Analysis\n",
    "We conducted the Linear Hypothesis and yielded that the best fitted gradient $\\hat{m}=0.003\\pm0.298$.   \n",
    "\n",
    "Then we conducted the test \"Goodness of Fit\", creating "
   ]
  },
  {
   "cell_type": "code",
   "execution_count": 20,
   "metadata": {},
   "outputs": [
    {
     "data": {
      "image/png": "[encoded data removed]",
      "text/plain": [
       "<Figure size 432x288 with 1 Axes>"
      ]
     },
     "metadata": {
      "needs_background": "light"
     },
     "output_type": "display_data"
    }
   ],
   "source": [
    "df['residual'] = df['w'] - df['expw']\n",
    "df['delresid'] = df['dw'] + delw\n",
    "plt.errorbar(df.n, df.residual, yerr = df.delresid)\n",
    "plt.xlabel('slit number')\n",
    "plt.ylabel('residual')\n",
    "plt.title('residual scatter plot')\n",
    "plt.show()"
   ]
  },
  {
   "cell_type": "code",
   "execution_count": null,
   "metadata": {},
   "outputs": [],
   "source": []
  },
  {
   "cell_type": "code",
   "execution_count": null,
   "metadata": {},
   "outputs": [],
   "source": []
  },
  {
   "cell_type": "code",
   "execution_count": null,
   "metadata": {},
   "outputs": [],
   "source": []
  },
  {
   "cell_type": "code",
   "execution_count": 16,
   "metadata": {},
   "outputs": [],
   "source": [
    "import pandas as pd\n",
    "import numpy as np\n",
    "import matplotlib.pyplot as plt\n",
    "data = {'n':[3, 4, 10, 20],\n",
    "        'a':[1, 1, 1, 1],\n",
    "        'd':[2, 2, 2, 2],\n",
    "       'w':[3.46, 3.48, 3.51, 3.52],\n",
    "       'dw':[.005, .005, .005, .005]}\n",
    "df = pd.DataFrame(data)"
   ]
  },
  {
   "cell_type": "code",
   "execution_count": 10,
   "metadata": {},
   "outputs": [],
   "source": [
    "df['nw'] = df['n'] * df['w']\n",
    "df['n2'] = df['n']**2\n",
    "\n",
    "nwmean = np.mean(df['nw'])\n",
    "n2mean = np.mean(df['n2'])\n",
    "nmean = np.mean(df['n'])\n",
    "wmean = np.mean(df['w'])\n",
    "nmean2 = nmean **2\n",
    "sigman2 = n2mean - nmean2"
   ]
  },
  {
   "cell_type": "code",
   "execution_count": 11,
   "metadata": {},
   "outputs": [
    {
     "name": "stdout",
     "output_type": "stream",
     "text": [
      "0.0031600547195623245\n",
      "3.4632694938440474\n"
     ]
    }
   ],
   "source": [
    "mhat = (nwmean - nmean * wmean)/sigman2\n",
    "bhat = (n2mean * wmean - nmean * nwmean)/sigman2\n",
    "print(mhat)\n",
    "print(bhat)"
   ]
  },
  {
   "cell_type": "code",
   "execution_count": 18,
   "metadata": {},
   "outputs": [
    {
     "name": "stdout",
     "output_type": "stream",
     "text": [
      "4.032867050110484\n",
      "0.2983219521043372\n",
      "3.4177073174627894\n"
     ]
    }
   ],
   "source": [
    "df['expw'] = df['n'] * mhat + bhat\n",
    "delw = np.sqrt(np.sum(df['expw']**2)/3)\n",
    "delmhat = delw/np.sqrt(4 * sigman2)\n",
    "delbhat = delmhat * np.sqrt(n2mean)\n",
    "print(delw)\n",
    "print(delmhat)\n",
    "print(delbhat)"
   ]
  },
  {
   "cell_type": "code",
   "execution_count": null,
   "metadata": {
    "scrolled": true
   },
   "outputs": [],
   "source": []
  },
  {
   "cell_type": "code",
   "execution_count": null,
   "metadata": {},
   "outputs": [],
   "source": []
  }
 ],
 "metadata": {
  "kernelspec": {
   "display_name": "Python 3",
   "language": "python",
   "name": "python3"
  },
  "language_info": {
   "codemirror_mode": {
    "name": "ipython",
    "version": 3
   },
   "file_extension": ".py",
   "mimetype": "text/x-python",
   "name": "python",
   "nbconvert_exporter": "python",
   "pygments_lexer": "ipython3",
   "version": "3.7.3"
  }
 },
 "nbformat": 4,
 "nbformat_minor": 2
}
