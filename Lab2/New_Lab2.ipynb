{
 "cells": [
  {
   "cell_type": "code",
   "execution_count": 60,
   "metadata": {},
   "outputs": [],
   "source": [
    "import pandas as pd\n",
    "import matplotlib.pyplot as plt\n",
    "import numpy as np\n",
    "from sklearn.linear_model import LinearRegression\n",
    "from IPython.display import Image\n",
    "im2 = Image('fig2.jpg')\n",
    "im1 = Image('fig1.jpg')"
   ]
  },
  {
   "cell_type": "markdown",
   "metadata": {},
   "source": [
    "# Experiment 2 - Circular Polarization\n",
    "## Objective\n",
    "Explore the effect of different combinations of quarter wave plates on linearly polarized light.  \n",
    "\n",
    "## Method\n",
    "1. For the first Observation/Analysis, arrange the laser, Polarizer 1, Quarter-Wave Plate (abbrieviated as QWP below) 1 and 2 in the correct order to create a HWP as illustrated in the diagram below:   \n",
    "\n",
    "![Experiment 2](fig2.jpg)\n",
    "\n",
    "2. Place a screen where the eye is in the diagram, and place another linear polarizer between the second QWP and the screen.\n",
    "\n",
    "3. Rotate the second linear polarizer to determine if the light is at least roughly linearly polarized.\n",
    "\n",
    "4. For the second Observation/Analysis, set up materials again according to the above diagram, but this time turn the second QWP so its fast axis is perpendicular to the first QWP's fast axis.  Place a photodetector where the eye is in the diagram.\n",
    "\n",
    "5. Take data to demonstrate that when the fast axis of QWP 2 is perpendicular to the fast axis of QWP 1, the transmitted light is still linearly polarized. Determine the orientation of the polarization axis. Compare the measured polarization axis to the predicted polarization axis. \n",
    "\n",
    "### Answer\n",
    "\n",
    "#### Observation/Analysis 1:\n",
    "By turning the second linear polarizer, we observed that the brightness of the transmitted beam varied sinusoidally as we turned the linear polarizer.  We also observed the transmitted beam was brightest when the second linear polarizer was horizontal, which indicates the transmitted beam was horizontally polarized.  \n",
    "\n",
    "This result agreed with theoretical prediction, because a half-wave plate should decrease the phase of one component of linearly-polarized light by a factor of $\\frac{\\pi}{2}$, and if the half-wave plate is oriented with fast axis making a $\\frac{\\pi}{4}$ with the polarization angle of the incident light, we expect the transmitted light to be perpendicularly polarized to the incident light.  \n",
    "\n",
    "#### Observation/Analysis 2\n",
    "\n",
    "We predict that the polarization axis will be the same as its original orientation, because the combination of two QWP will shift both wave components  faster by $\\frac{\\pi}{2}$ phase, which has no effect on the transmission axis of the light. \n",
    "\n",
    "In the data table below, 'theta' denotes the clockwise angle difference between QWP 2's fast axis and the vertical axis, with unit degree; 'delta_theta' denotes the error associated with the angle difference, with unit degree; 'I' denotes the intensity of transmitted light, with unit lux; 'delta_I' denotes the error associated with the intensity, with unit lux.\n"
   ]
  },
  {
   "cell_type": "code",
   "execution_count": 9,
   "metadata": {
    "scrolled": false
   },
   "outputs": [
    {
     "data": {
      "text/html": [
       "<div>\n",
       "<style scoped>\n",
       "    .dataframe tbody tr th:only-of-type {\n",
       "        vertical-align: middle;\n",
       "    }\n",
       "\n",
       "    .dataframe tbody tr th {\n",
       "        vertical-align: top;\n",
       "    }\n",
       "\n",
       "    .dataframe thead th {\n",
       "        text-align: right;\n",
       "    }\n",
       "</style>\n",
       "<table border=\"1\" class=\"dataframe\">\n",
       "  <thead>\n",
       "    <tr style=\"text-align: right;\">\n",
       "      <th></th>\n",
       "      <th>theta</th>\n",
       "      <th>delta_theta</th>\n",
       "      <th>I</th>\n",
       "      <th>delta_I</th>\n",
       "    </tr>\n",
       "  </thead>\n",
       "  <tbody>\n",
       "    <tr>\n",
       "      <th>0</th>\n",
       "      <td>0</td>\n",
       "      <td>1</td>\n",
       "      <td>4270</td>\n",
       "      <td>5</td>\n",
       "    </tr>\n",
       "    <tr>\n",
       "      <th>1</th>\n",
       "      <td>15</td>\n",
       "      <td>1</td>\n",
       "      <td>3470</td>\n",
       "      <td>5</td>\n",
       "    </tr>\n",
       "    <tr>\n",
       "      <th>2</th>\n",
       "      <td>30</td>\n",
       "      <td>1</td>\n",
       "      <td>2647</td>\n",
       "      <td>5</td>\n",
       "    </tr>\n",
       "    <tr>\n",
       "      <th>3</th>\n",
       "      <td>45</td>\n",
       "      <td>1</td>\n",
       "      <td>1392</td>\n",
       "      <td>5</td>\n",
       "    </tr>\n",
       "    <tr>\n",
       "      <th>4</th>\n",
       "      <td>60</td>\n",
       "      <td>1</td>\n",
       "      <td>298</td>\n",
       "      <td>5</td>\n",
       "    </tr>\n",
       "    <tr>\n",
       "      <th>5</th>\n",
       "      <td>75</td>\n",
       "      <td>1</td>\n",
       "      <td>34</td>\n",
       "      <td>5</td>\n",
       "    </tr>\n",
       "    <tr>\n",
       "      <th>6</th>\n",
       "      <td>90</td>\n",
       "      <td>1</td>\n",
       "      <td>6</td>\n",
       "      <td>5</td>\n",
       "    </tr>\n",
       "  </tbody>\n",
       "</table>\n",
       "</div>"
      ],
      "text/plain": [
       "   theta  delta_theta     I  delta_I\n",
       "0      0            1  4270        5\n",
       "1     15            1  3470        5\n",
       "2     30            1  2647        5\n",
       "3     45            1  1392        5\n",
       "4     60            1   298        5\n",
       "5     75            1    34        5\n",
       "6     90            1     6        5"
      ]
     },
     "execution_count": 9,
     "metadata": {},
     "output_type": "execute_result"
    }
   ],
   "source": [
    "df"
   ]
  },
  {
   "cell_type": "code",
   "execution_count": 15,
   "metadata": {
    "scrolled": true
   },
   "outputs": [
    {
     "data": {
      "image/png": "[encoded data removed]",
      "text/plain": [
       "<Figure size 432x288 with 1 Axes>"
      ]
     },
     "metadata": {
      "needs_background": "light"
     },
     "output_type": "display_data"
    }
   ],
   "source": [
    "plt.errorbar(df.theta, df.I, yerr = df.delta_I)\n",
    "plt.xlabel('theta(degrees)')\n",
    "plt.ylabel('Intensity(lux)')\n",
    "plt.title('intensity vs. theta')\n",
    "plt.show()"
   ]
  },
  {
   "cell_type": "markdown",
   "metadata": {},
   "source": [
    "Note: Because the error bars for intensity is very small, they're hardly visible in the graph above."
   ]
  },
  {
   "cell_type": "markdown",
   "metadata": {},
   "source": [
    "From the data table, we observed that the intensity of transmitted light varies sinusoidally as the axis of Polarizer 2 rotates, and reaches its maximum when the axis is vertically oriented. This shows that the light is still linearly polarized with its polarization axis vertically oriented, which agrees with our prediction.  "
   ]
  },
  {
   "cell_type": "markdown",
   "metadata": {},
   "source": [
    "# Experiment 3 - Optical Activity of Corn Syrup\n",
    "\n",
    "## Objective\n",
    "Explore the optical activity of a given sample of corn syrup rotating the polarization axis of linearly polarized light\n",
    "\n",
    "## Method\n",
    "Setup as illustrated in the diagram below:\n",
    "\n",
    "![Experiment 3](fig1.jpg)\n",
    "\n",
    "Measure the height $l$ of the corn syrup in each cylinder\n",
    "Determine the __optical rotation angle__ $\\alpha$ for each corn syrup sample. \n",
    "\n",
    "In the data table below, 'l' denotes the height of corn syrup, with unit centimeter; 'delta_l' denotes the error associated with the height, with unit centimeter; 'alpha' denotes the optical rotation angle clockwise from the positive vertical axis for each corn syrup sample, with unit degrees; 'delta_alpha' denotes the error associated with the optical rotation angle, with unit degrees.\n"
   ]
  },
  {
   "cell_type": "code",
   "execution_count": 27,
   "metadata": {},
   "outputs": [
    {
     "data": {
      "text/html": [
       "<div>\n",
       "<style scoped>\n",
       "    .dataframe tbody tr th:only-of-type {\n",
       "        vertical-align: middle;\n",
       "    }\n",
       "\n",
       "    .dataframe tbody tr th {\n",
       "        vertical-align: top;\n",
       "    }\n",
       "\n",
       "    .dataframe thead th {\n",
       "        text-align: right;\n",
       "    }\n",
       "</style>\n",
       "<table border=\"1\" class=\"dataframe\">\n",
       "  <thead>\n",
       "    <tr style=\"text-align: right;\">\n",
       "      <th></th>\n",
       "      <th>l</th>\n",
       "      <th>delta_l</th>\n",
       "      <th>alpha</th>\n",
       "      <th>delta_alpha</th>\n",
       "    </tr>\n",
       "  </thead>\n",
       "  <tbody>\n",
       "    <tr>\n",
       "      <th>0</th>\n",
       "      <td>5.1</td>\n",
       "      <td>0.1</td>\n",
       "      <td>-65</td>\n",
       "      <td>1</td>\n",
       "    </tr>\n",
       "    <tr>\n",
       "      <th>1</th>\n",
       "      <td>3.4</td>\n",
       "      <td>0.1</td>\n",
       "      <td>74</td>\n",
       "      <td>1</td>\n",
       "    </tr>\n",
       "    <tr>\n",
       "      <th>2</th>\n",
       "      <td>2.5</td>\n",
       "      <td>0.1</td>\n",
       "      <td>61</td>\n",
       "      <td>1</td>\n",
       "    </tr>\n",
       "    <tr>\n",
       "      <th>3</th>\n",
       "      <td>1.4</td>\n",
       "      <td>0.1</td>\n",
       "      <td>19</td>\n",
       "      <td>1</td>\n",
       "    </tr>\n",
       "  </tbody>\n",
       "</table>\n",
       "</div>"
      ],
      "text/plain": [
       "     l  delta_l  alpha  delta_alpha\n",
       "0  5.1      0.1    -65            1\n",
       "1  3.4      0.1     74            1\n",
       "2  2.5      0.1     61            1\n",
       "3  1.4      0.1     19            1"
      ]
     },
     "execution_count": 27,
     "metadata": {},
     "output_type": "execute_result"
    }
   ],
   "source": [
    "df1"
   ]
  },
  {
   "cell_type": "markdown",
   "metadata": {},
   "source": [
    "## Data Analysis"
   ]
  },
  {
   "cell_type": "code",
   "execution_count": 39,
   "metadata": {},
   "outputs": [
    {
     "data": {
      "image/png": "[encoded data removed]",
      "text/plain": [
       "<Figure size 432x288 with 1 Axes>"
      ]
     },
     "metadata": {
      "needs_background": "light"
     },
     "output_type": "display_data"
    }
   ],
   "source": [
    "plt.errorbar(df1.l, df1.alpha, yerr = df1.delta_alpha, fmt = '.')\n",
    "plt.xlabel('height(cm)')\n",
    "plt.ylabel('alpha(degrees)')\n",
    "plt.title('alpha vs. height')\n",
    "plt.show()"
   ]
  },
  {
   "cell_type": "markdown",
   "metadata": {},
   "source": [
    "Note: Because the error bars for alpha are very small, they're hardly visible in the graph above.\n",
    "\n",
    "b). Using the direct proportionality hypothesis, we yielded that the gradient of this linear fit model $c[\\alpha] = 22.22\\pm3.45$, with a coefficient of determination of $0.975$, which is a fairly good fit. \n",
    "\n",
    "c). From the given corn syrup concentration, the specific rotation is $[\\alpha] = gradient/c = 66.7\\pm10.4$   \n",
    "\n",
    "d). Using accepted value of $52.7^{\\circ}mL/dm  \\cdot g$, the agreement test value is 0.67. This value is smaller than 1, so our result is in agreement with the accepted value.\n",
    "\n"
   ]
  },
  {
   "cell_type": "code",
   "execution_count": 48,
   "metadata": {},
   "outputs": [
    {
     "name": "stdout",
     "output_type": "stream",
     "text": [
      "22.219309742245525\n"
     ]
    }
   ],
   "source": [
    "df1['xy'] = df1['l'] * df1['alpha']\n",
    "df1['x_square'] = df1['l']**2\n",
    "xy_mean = np.mean(df1['xy'])\n",
    "x_square_mean = np.mean(df1['x_square'])\n",
    "m_hat = xy_mean / x_square_mean\n",
    "print(m_hat)"
   ]
  },
  {
   "cell_type": "code",
   "execution_count": 54,
   "metadata": {},
   "outputs": [
    {
     "name": "stdout",
     "output_type": "stream",
     "text": [
      "3.448916959069044\n"
     ]
    }
   ],
   "source": [
    "df1['y_mhatx'] = df1['alpha'] - m_hat * df1['l']\n",
    "df1['ymx_square'] = df1['y_mhatx']**2\n",
    "ymxsq_sum = np.sum(df1['ymx_square'])\n",
    "y_error = np.sqrt(3 * ymxsq_sum)\n",
    "mhat_error = y_error/(np.sqrt(4 * x_square_mean))\n",
    "print(mhat_error)"
   ]
  },
  {
   "cell_type": "code",
   "execution_count": 41,
   "metadata": {},
   "outputs": [
    {
     "name": "stdout",
     "output_type": "stream",
     "text": [
      "coefficient of determination: 0.9754420008718302\n",
      "intercept: -10.165531335149865\n",
      "slope: [24.97275204]\n"
     ]
    }
   ],
   "source": [
    "x = np.array(df1['l']).reshape(-1, 1)\n",
    "y = df1['alpha']\n",
    "model = LinearRegression().fit(x, y)\n",
    "r_sq = model.score(x, y)\n",
    "print('coefficient of determination:', r_sq)\n",
    "print('intercept:', model.intercept_)\n",
    "print('slope:', model.coef_)"
   ]
  },
  {
   "cell_type": "code",
   "execution_count": 8,
   "metadata": {},
   "outputs": [],
   "source": [
    "data = {'theta': [0, 15, 30, 45, 60, 75, 90], \n",
    "        'delta_theta':[1, 1, 1, 1, 1, 1, 1], \n",
    "        'I': [4270, 3470, 2647, 1392, 298, 34, 6], \n",
    "        'delta_I': [5, 5, 5, 5, 5, 5, 5]}\n",
    "df = pd.DataFrame(data)"
   ]
  },
  {
   "cell_type": "code",
   "execution_count": 38,
   "metadata": {},
   "outputs": [],
   "source": [
    "data = {'l': [5.1, 3.4, 2.5, 1.4], \n",
    "        'delta_l': [0.1, 0.1, 0.1, 0.1], \n",
    "        'alpha': [115, 74, 61, 19], \n",
    "        'delta_alpha': [1, 1, 1, 1]}\n",
    "df1 = pd.DataFrame(data)"
   ]
  },
  {
   "cell_type": "code",
   "execution_count": 55,
   "metadata": {},
   "outputs": [
    {
     "data": {
      "text/plain": [
       "66.66"
      ]
     },
     "execution_count": 55,
     "metadata": {},
     "output_type": "execute_result"
    }
   ],
   "source": [
    "22.22/(1/3)"
   ]
  },
  {
   "cell_type": "code",
   "execution_count": 56,
   "metadata": {},
   "outputs": [
    {
     "data": {
      "text/plain": [
       "10.350000000000001"
      ]
     },
     "execution_count": 56,
     "metadata": {},
     "output_type": "execute_result"
    }
   ],
   "source": [
    "3.45*3"
   ]
  },
  {
   "cell_type": "code",
   "execution_count": 57,
   "metadata": {},
   "outputs": [
    {
     "data": {
      "text/plain": [
       "0.673076923076923"
      ]
     },
     "execution_count": 57,
     "metadata": {},
     "output_type": "execute_result"
    }
   ],
   "source": [
    "(66.7 - 52.7)/(2*10.4)"
   ]
  },
  {
   "cell_type": "code",
   "execution_count": null,
   "metadata": {},
   "outputs": [],
   "source": []
  }
 ],
 "metadata": {
  "kernelspec": {
   "display_name": "Python 3",
   "language": "python",
   "name": "python3"
  },
  "language_info": {
   "codemirror_mode": {
    "name": "ipython",
    "version": 3
   },
   "file_extension": ".py",
   "mimetype": "text/x-python",
   "name": "python",
   "nbconvert_exporter": "python",
   "pygments_lexer": "ipython3",
   "version": "3.7.4"
  }
 },
 "nbformat": 4,
 "nbformat_minor": 2
}
