{
 "cells": [
  {
   "cell_type": "markdown",
   "metadata": {},
   "source": [
    "## Experiment 1 - Linear Polarization and Malus's Law\n",
    "\n",
    "#### Objective:\n",
    "\n",
    "* Learn to recognize linearly polarized light from unpolarized light\n",
    "* Test Malus's Law for linearly polarized light\n",
    "\n",
    "#### Method:\n",
    "\n",
    "First objective: \n",
    "\n",
    "We used the setups shown in the diagrams of part 1.1 in the lab manual.  To sum up this part of the experiment, we essentially used linear polarizers together with various light sources to determine the polarization of the light coming from different sources.\n",
    "\n",
    "Second Objective:\n",
    "\n",
    "Malus's law takes the form, \n",
    "\n",
    "$$I = I_o \\cos^2(\\theta_{rel}) + I_{bg}$$\n",
    "\n",
    "Therefore to test this law we needed to first determine $I_{bg}$, and then take data for $I$ at a variety of $\\theta_{rel}$. \n",
    "\n",
    "We first set up materials according to the second diagram in section 1.1 of the lab manual, but we substituted the bench lamp for the laser.  To find $I_{bg}$, we turned off the laser and simply took a reading of the photodetector in the unlit room.\n",
    "\n",
    "To test Malus's Law, we fixed the first linear polarizer to emit vertically polarized light, and then we used the photodetector to measure the intensity of light coming from the second polarizer at different angles of the second polarizer.  Here the angle of the second polarizer corresponds to $\\theta_{rel}$ in Malus's law.  In the data analysis section below, we give our experimentally determined value for $I_o$.\n"
   ]
  },
  {
   "cell_type": "markdown",
   "metadata": {},
   "source": [
    "#### Analysis:\n",
    "\n",
    "I will answer each analysis question in the order they appeared in the lab manual.\n",
    "\n",
    "\n",
    "Analysis 1: Based on our observations from the first part of the experiment, the laser beam is neither unpolarized nor fully polarized, but it appears to be mostly linearly polarized (The beam never fully vanishes as we rotate the polarizer, but the brightness of the beam varies sinusoidally with $\\theta_{rel}$).\n",
    "\n",
    "\n",
    "Observation/Analysis 2: My laptop screen is emitting linearly polarized light. At a certain $\\theta_{rel}$, no light is transmitted through the polarizer, and the brightness of the light varies sinusoidally in a manner expected by Malus's Law.  Together these observations show that the light is linearly polarized.\n",
    "\n",
    "\n",
    "Analysis 3:  $I_{max}$ was less than $I_{full}$.  This effect occurs because our polarizers are not perfect, and will always filter at least some of the light, even when the transmission axis is parallel to the light's polarization.  To minimize this effect we would simply need to purchase more precise linear polarizers."
   ]
  },
  {
   "cell_type": "markdown",
   "metadata": {},
   "source": [
    "<u> Analysis 4: Malus's Law </u>\n",
    "\n",
    "Our data for this section is shown below.  Here \"theta\" represents the angle relative angle between the transmission axis of polarizer 1 and polarizer 2, \"I\" represents the intensity of the light incident on the photodetector, and \"delta_theta\" and \"delta_I\" represent the uncertainty in \"theta\" and \"I\" respectively.  \"theta\" has units of degrees and \"I\" has units of lux.  Also note that \"delta_theta\" takes into account calibration uncertainties."
   ]
  },
  {
   "cell_type": "code",
   "execution_count": 10,
   "metadata": {},
   "outputs": [
    {
     "data": {
      "text/html": [
       "<div>\n",
       "<style scoped>\n",
       "    .dataframe tbody tr th:only-of-type {\n",
       "        vertical-align: middle;\n",
       "    }\n",
       "\n",
       "    .dataframe tbody tr th {\n",
       "        vertical-align: top;\n",
       "    }\n",
       "\n",
       "    .dataframe thead th {\n",
       "        text-align: right;\n",
       "    }\n",
       "</style>\n",
       "<table border=\"1\" class=\"dataframe\">\n",
       "  <thead>\n",
       "    <tr style=\"text-align: right;\">\n",
       "      <th></th>\n",
       "      <th>theta</th>\n",
       "      <th>delta_theta</th>\n",
       "      <th>I</th>\n",
       "      <th>delta_I</th>\n",
       "    </tr>\n",
       "  </thead>\n",
       "  <tbody>\n",
       "    <tr>\n",
       "      <th>0</th>\n",
       "      <td>0</td>\n",
       "      <td>2</td>\n",
       "      <td>6842</td>\n",
       "      <td>30</td>\n",
       "    </tr>\n",
       "    <tr>\n",
       "      <th>1</th>\n",
       "      <td>10</td>\n",
       "      <td>2</td>\n",
       "      <td>6430</td>\n",
       "      <td>30</td>\n",
       "    </tr>\n",
       "    <tr>\n",
       "      <th>2</th>\n",
       "      <td>20</td>\n",
       "      <td>2</td>\n",
       "      <td>6060</td>\n",
       "      <td>30</td>\n",
       "    </tr>\n",
       "    <tr>\n",
       "      <th>3</th>\n",
       "      <td>30</td>\n",
       "      <td>2</td>\n",
       "      <td>5130</td>\n",
       "      <td>30</td>\n",
       "    </tr>\n",
       "    <tr>\n",
       "      <th>4</th>\n",
       "      <td>40</td>\n",
       "      <td>2</td>\n",
       "      <td>4155</td>\n",
       "      <td>30</td>\n",
       "    </tr>\n",
       "    <tr>\n",
       "      <th>5</th>\n",
       "      <td>50</td>\n",
       "      <td>2</td>\n",
       "      <td>3060</td>\n",
       "      <td>20</td>\n",
       "    </tr>\n",
       "    <tr>\n",
       "      <th>6</th>\n",
       "      <td>60</td>\n",
       "      <td>2</td>\n",
       "      <td>1868</td>\n",
       "      <td>20</td>\n",
       "    </tr>\n",
       "    <tr>\n",
       "      <th>7</th>\n",
       "      <td>70</td>\n",
       "      <td>2</td>\n",
       "      <td>1029</td>\n",
       "      <td>10</td>\n",
       "    </tr>\n",
       "    <tr>\n",
       "      <th>8</th>\n",
       "      <td>80</td>\n",
       "      <td>2</td>\n",
       "      <td>350</td>\n",
       "      <td>10</td>\n",
       "    </tr>\n",
       "    <tr>\n",
       "      <th>9</th>\n",
       "      <td>90</td>\n",
       "      <td>2</td>\n",
       "      <td>54</td>\n",
       "      <td>5</td>\n",
       "    </tr>\n",
       "  </tbody>\n",
       "</table>\n",
       "</div>"
      ],
      "text/plain": [
       "   theta  delta_theta     I  delta_I\n",
       "0      0            2  6842       30\n",
       "1     10            2  6430       30\n",
       "2     20            2  6060       30\n",
       "3     30            2  5130       30\n",
       "4     40            2  4155       30\n",
       "5     50            2  3060       20\n",
       "6     60            2  1868       20\n",
       "7     70            2  1029       10\n",
       "8     80            2   350       10\n",
       "9     90            2    54        5"
      ]
     },
     "execution_count": 10,
     "metadata": {},
     "output_type": "execute_result"
    }
   ],
   "source": [
    "data1"
   ]
  },
  {
   "cell_type": "markdown",
   "metadata": {},
   "source": [
    "a) If $x = \\cos^2(\\theta_{rel})$, then $\\delta x = -\\sin(2 \\theta_{rel}) \\cdot \\delta\\theta_{rel}$  These equations yield the following data table:"
   ]
  },
  {
   "cell_type": "code",
   "execution_count": 18,
   "metadata": {},
   "outputs": [
    {
     "data": {
      "text/html": [
       "<div>\n",
       "<style scoped>\n",
       "    .dataframe tbody tr th:only-of-type {\n",
       "        vertical-align: middle;\n",
       "    }\n",
       "\n",
       "    .dataframe tbody tr th {\n",
       "        vertical-align: top;\n",
       "    }\n",
       "\n",
       "    .dataframe thead th {\n",
       "        text-align: right;\n",
       "    }\n",
       "</style>\n",
       "<table border=\"1\" class=\"dataframe\">\n",
       "  <thead>\n",
       "    <tr style=\"text-align: right;\">\n",
       "      <th></th>\n",
       "      <th>x</th>\n",
       "      <th>delta_x</th>\n",
       "      <th>I</th>\n",
       "      <th>delta_I</th>\n",
       "    </tr>\n",
       "  </thead>\n",
       "  <tbody>\n",
       "    <tr>\n",
       "      <th>0</th>\n",
       "      <td>1.000000e+00</td>\n",
       "      <td>0.139513</td>\n",
       "      <td>6842</td>\n",
       "      <td>30</td>\n",
       "    </tr>\n",
       "    <tr>\n",
       "      <th>1</th>\n",
       "      <td>9.698463e-01</td>\n",
       "      <td>0.139513</td>\n",
       "      <td>6430</td>\n",
       "      <td>30</td>\n",
       "    </tr>\n",
       "    <tr>\n",
       "      <th>2</th>\n",
       "      <td>8.830222e-01</td>\n",
       "      <td>0.139513</td>\n",
       "      <td>6060</td>\n",
       "      <td>30</td>\n",
       "    </tr>\n",
       "    <tr>\n",
       "      <th>3</th>\n",
       "      <td>7.500000e-01</td>\n",
       "      <td>0.139513</td>\n",
       "      <td>5130</td>\n",
       "      <td>30</td>\n",
       "    </tr>\n",
       "    <tr>\n",
       "      <th>4</th>\n",
       "      <td>5.868241e-01</td>\n",
       "      <td>0.139513</td>\n",
       "      <td>4155</td>\n",
       "      <td>30</td>\n",
       "    </tr>\n",
       "    <tr>\n",
       "      <th>5</th>\n",
       "      <td>4.131759e-01</td>\n",
       "      <td>0.139513</td>\n",
       "      <td>3060</td>\n",
       "      <td>20</td>\n",
       "    </tr>\n",
       "    <tr>\n",
       "      <th>6</th>\n",
       "      <td>2.500000e-01</td>\n",
       "      <td>0.139513</td>\n",
       "      <td>1868</td>\n",
       "      <td>20</td>\n",
       "    </tr>\n",
       "    <tr>\n",
       "      <th>7</th>\n",
       "      <td>1.169778e-01</td>\n",
       "      <td>0.139513</td>\n",
       "      <td>1029</td>\n",
       "      <td>10</td>\n",
       "    </tr>\n",
       "    <tr>\n",
       "      <th>8</th>\n",
       "      <td>3.015369e-02</td>\n",
       "      <td>0.139513</td>\n",
       "      <td>350</td>\n",
       "      <td>10</td>\n",
       "    </tr>\n",
       "    <tr>\n",
       "      <th>9</th>\n",
       "      <td>3.749399e-33</td>\n",
       "      <td>0.139513</td>\n",
       "      <td>54</td>\n",
       "      <td>5</td>\n",
       "    </tr>\n",
       "  </tbody>\n",
       "</table>\n",
       "</div>"
      ],
      "text/plain": [
       "              x   delta_x     I  delta_I\n",
       "0  1.000000e+00  0.139513  6842       30\n",
       "1  9.698463e-01  0.139513  6430       30\n",
       "2  8.830222e-01  0.139513  6060       30\n",
       "3  7.500000e-01  0.139513  5130       30\n",
       "4  5.868241e-01  0.139513  4155       30\n",
       "5  4.131759e-01  0.139513  3060       20\n",
       "6  2.500000e-01  0.139513  1868       20\n",
       "7  1.169778e-01  0.139513  1029       10\n",
       "8  3.015369e-02  0.139513   350       10\n",
       "9  3.749399e-33  0.139513    54        5"
      ]
     },
     "execution_count": 18,
     "metadata": {},
     "output_type": "execute_result"
    }
   ],
   "source": [
    "datax"
   ]
  },
  {
   "cell_type": "markdown",
   "metadata": {},
   "source": [
    "b) The following script calculates $\\hat{I}_{o, simple}$."
   ]
  },
  {
   "cell_type": "code",
   "execution_count": 57,
   "metadata": {},
   "outputs": [
    {
     "name": "stdout",
     "output_type": "stream",
     "text": [
      "I:  6609.616539001889\n",
      "dI:  87.3624946103506\n",
      "b:  192.99173049905585\n",
      "db:  54.38271432643483\n"
     ]
    }
   ],
   "source": [
    "dd = datax\n",
    "I_o = ((dd.x * dd.I).mean() - (dd.x.mean() * dd.I.mean())) /  ((dd.x **2).mean() - (dd.x.mean() **2))\n",
    "b = dd.I.mean() - I_o*dd.x.mean()\n",
    "dy = ((1/8) * ((dd.I - ((I_o * dd.x + b)))**2).sum())**.5\n",
    "dI = dy / sqrt(10 * ((dd.x **2).mean() - (dd.x.mean() **2)))\n",
    "db = dI * sqrt((dd.x **2).mean())\n",
    "print(\"I: \", I_o)\n",
    "print(\"dI: \", dI)\n",
    "print(\"b: \", b)\n",
    "print(\"db: \", db)"
   ]
  },
  {
   "cell_type": "markdown",
   "metadata": {},
   "source": [
    "We see that a simple least squares fit yields, \n",
    "\n",
    "\n",
    "$$\\hat{I}_{o, simple} = 6609 \\pm 87\\text{ Lux}$$\n",
    "\n",
    "$$\\hat{I}_{bg} = 192 \\pm 54\\text{ Lux}$$\n",
    "\n",
    "The following plot shows the residuals of this graph:"
   ]
  },
  {
   "cell_type": "code",
   "execution_count": 59,
   "metadata": {},
   "outputs": [
    {
     "data": {
      "image/png": "[encoded data removed]",
      "text/plain": [
       "<Figure size 432x288 with 1 Axes>"
      ]
     },
     "metadata": {
      "needs_background": "light"
     },
     "output_type": "display_data"
    }
   ],
   "source": [
    "res = dd.I - (dd.x * 6609 + dd.I.mean() - 6609*dd.x.mean())\n",
    "plt.errorbar(dd.x, res, yerr=dd.delta_I, fmt='.')\n",
    "plt.axhline(0, 0, 1, color='red')\n",
    "plt.xlabel('x')\n",
    "plt.ylabel('Residual')\n",
    "plt.title('Residuals vs. x')\n",
    "plt.show()"
   ]
  },
  {
   "cell_type": "markdown",
   "metadata": {},
   "source": [
    "Clearly this simple hypothesis does not do a sufficient job of matching the data."
   ]
  },
  {
   "cell_type": "markdown",
   "metadata": {},
   "source": [
    "c) The following script calculates $\\hat{I}_o, \\hat{I}_{bg}, \\delta \\hat{I}_o$ and $\\delta \\hat{I}_{bg}$:"
   ]
  },
  {
   "cell_type": "code",
   "execution_count": 67,
   "metadata": {},
   "outputs": [
    {
     "name": "stdout",
     "output_type": "stream",
     "text": [
      "I:  6786.997519205405  +-  16.01217544550497\n",
      "b:  102.52202448868258  +-  4.15863507140962\n"
     ]
    }
   ],
   "source": [
    "wi = 1 / dd.delta_I ** 2\n",
    "new_m_t = ((wi.sum() * (wi*dd.x*dd.I).sum()) - ((wi*dd.x).sum()) * (wi*dd.I).sum()) \n",
    "new_m_b = wi.sum()*(wi*dd.x*dd.x).sum() - ((wi*dd.x).sum())**2\n",
    "new_m = new_m_t / new_m_b\n",
    "b = (((wi*dd.x*dd.x).sum()*(wi*dd.I).sum()) - (wi*dd.x).sum()*(wi*dd.x*dd.I).sum()) / new_m_b\n",
    "dm = sqrt(wi.sum() / new_m_b)\n",
    "db = sqrt((wi*dd.x*dd.x).sum() / new_m_b)\n",
    "print(\"I: \", new_m, \" +- \", dm)\n",
    "print(\"b: \", b, \" +- \", db)"
   ]
  },
  {
   "cell_type": "markdown",
   "metadata": {},
   "source": [
    "So we see that: \n",
    "\n",
    "$$ \\hat{I}_o = 6787 \\pm 16 \\text{ Lux}$$\n",
    "$$\\hat{I}_{bg} = 102 \\pm 4\\text{ Lux} $$\n",
    "\n",
    "Plotting the residuals we see:"
   ]
  },
  {
   "cell_type": "code",
   "execution_count": 69,
   "metadata": {},
   "outputs": [
    {
     "data": {
      "image/png": "[encoded data removed]",
      "text/plain": [
       "<Figure size 432x288 with 1 Axes>"
      ]
     },
     "metadata": {
      "needs_background": "light"
     },
     "output_type": "display_data"
    }
   ],
   "source": [
    "res = dd.I - ((dd.x * new_m) + b)\n",
    "plt.errorbar(dd.x, res, yerr=dd.delta_I, fmt='.')\n",
    "plt.axhline(0, 0, 1, color='red')\n",
    "plt.xlabel('x')\n",
    "plt.ylabel('Residual')\n",
    "plt.title('Residuals vs. x')\n",
    "plt.show()"
   ]
  },
  {
   "cell_type": "markdown",
   "metadata": {},
   "source": [
    "We therefore see that the unweighted least squares approach gives a better fit of the data.  This may be because the different settings of the photodetector had vastly different measurement uncertainties, and this may have affected the weighting.  However, I will continue to use the values of $\\hat{I}_o$ and $\\hat{I}_{bg}$ from the weighted fit because they agreed more with our experimentally determined values of $\\hat{I}_o$ and $\\hat{I}_{bg}$."
   ]
  },
  {
   "cell_type": "markdown",
   "metadata": {},
   "source": [
    "d) We experimentally measured that $\\hat{I}_o = 6842 \\pm 30$ Lux, and $\\hat{I}_{bg} = 48.0 \\pm 10$ Lux.  A standard agreement test in $\\hat{I}_o$ between our experimentally determined value and calculated value yields 0.8, and therefore our values for $\\hat{I}_o$ agree with one another.  An agreement test between our values of $\\hat{I}_{bg}$ yields a value of 2.5, which shows these values do not agree.  I would attribute this lack of agreement the fact that the weighted least squares approach yielded a model in which none of the residuals crossed the origin.  This would insinuate that there is perhaps a better method for calculating the various regression coefficients, or that the large differences in uncertainty in the different measurements greatly affected the fitting of the data."
   ]
  },
  {
   "cell_type": "markdown",
   "metadata": {},
   "source": [
    "e) The following script calculates the $\\tilde{\\chi}^2$ value of the data:"
   ]
  },
  {
   "cell_type": "code",
   "execution_count": 75,
   "metadata": {},
   "outputs": [
    {
     "name": "stdout",
     "output_type": "stream",
     "text": [
      "Reduced Chi Squared:  55.575490602686166\n"
     ]
    }
   ],
   "source": [
    "rcs = (((dd.I - ((dd.x * new_m) + b)) / dd.delta_I)**2).sum() / 8\n",
    "print(\"Reduced Chi Squared: \", rcs)"
   ]
  },
  {
   "cell_type": "markdown",
   "metadata": {},
   "source": [
    "As commented on in the previous section, this value of $\\tilde{\\chi}^2$ being much greater than 1 indicates that the hypothesis may not be a very good fit of the data.  However, by plotting the data and the fit side by side, we see:"
   ]
  },
  {
   "cell_type": "code",
   "execution_count": 77,
   "metadata": {},
   "outputs": [
    {
     "data": {
      "image/png": "[encoded data removed]",
      "text/plain": [
       "<Figure size 432x288 with 1 Axes>"
      ]
     },
     "metadata": {
      "needs_background": "light"
     },
     "output_type": "display_data"
    }
   ],
   "source": [
    "plt.plot(dd.x, dd.I)\n",
    "plt.plot(dd.x, ((dd.x * new_m) + b))\n",
    "plt.xlabel('x')\n",
    "plt.ylabel('I (Lux)')\n",
    "plt.title(\"Intensity vs X\")\n",
    "plt.show()"
   ]
  },
  {
   "cell_type": "markdown",
   "metadata": {},
   "source": [
    "This shows that visually the hypothesis seems to fit the data quite well.  Perhaps the large difference in uncertainty size throughout our data set is leading to our value of $\\tilde{\\chi}^2$ being larger than 1 even though the hypothesis does appear to be a good fit of the data."
   ]
  },
  {
   "cell_type": "markdown",
   "metadata": {},
   "source": [
    "# Experiment 2 - Circular Polarization\n",
    "## Objective\n",
    "Explore the effect of different combinations of quarter wave plates on linearly polarized light.  \n",
    "\n",
    "## Method\n",
    "1. For the first Observation/Analysis, arrange the laser, Polarizer 1, Quarter-Wave Plate (abbrieviated as QWP below) 1 and 2 in the correct order to create a HWP as illustrated in the diagram below:   \n",
    "\n",
    "![Experiment 2](fig2.jpg)\n",
    "\n",
    "2. Place a screen where the eye is in the diagram, and place another linear polarizer between the second QWP and the screen.\n",
    "\n",
    "3. Rotate the second linear polarizer to determine if the light is at least roughly linearly polarized.\n",
    "\n",
    "4. For the second Observation/Analysis, set up materials again according to the above diagram, but this time turn the second QWP so its fast axis is perpendicular to the first QWP's fast axis.  Place a photodetector where the eye is in the diagram.\n",
    "\n",
    "5. Take data to demonstrate that when the fast axis of QWP 2 is perpendicular to the fast axis of QWP 1, the transmitted light is still linearly polarized. Determine the orientation of the polarization axis. Compare the measured polarization axis to the predicted polarization axis. \n",
    "\n",
    "### Answer\n",
    "\n",
    "#### Observation/Analysis 1:\n",
    "By turning the second linear polarizer, we observed that the brightness of the transmitted beam varied sinusoidally as we turned the linear polarizer.  We also observed the transmitted beam was brightest when the second linear polarizer was horizontal, which indicates the transmitted beam was horizontally polarized.  \n",
    "\n",
    "This result agreed with theoretical prediction, because a half-wave plate should decrease the phase of one component of linearly-polarized light by a factor of $\\frac{\\pi}{2}$, and if the half-wave plate is oriented with fast axis making a $\\frac{\\pi}{4}$ with the polarization angle of the incident light, we expect the transmitted light to be perpendicularly polarized to the incident light.  \n",
    "\n",
    "#### Observation/Analysis 2\n",
    "\n",
    "We predict that the polarization axis will be the same as its original orientation, because the combination of two QWP will shift both wave components  faster by $\\frac{\\pi}{2}$ phase, which has no effect on the transmission axis of the light. \n",
    "\n",
    "In the data table below, 'theta' denotes the clockwise angle difference between QWP 2's fast axis and the vertical axis, with unit degree; 'delta_theta' denotes the error associated with the angle difference, with unit degree; 'I' denotes the intensity of transmitted light, with unit lux; 'delta_I' denotes the error associated with the intensity, with unit lux.\n"
   ]
  },
  {
   "cell_type": "code",
   "execution_count": 9,
   "metadata": {
    "scrolled": false
   },
   "outputs": [
    {
     "data": {
      "text/html": [
       "<div>\n",
       "<style scoped>\n",
       "    .dataframe tbody tr th:only-of-type {\n",
       "        vertical-align: middle;\n",
       "    }\n",
       "\n",
       "    .dataframe tbody tr th {\n",
       "        vertical-align: top;\n",
       "    }\n",
       "\n",
       "    .dataframe thead th {\n",
       "        text-align: right;\n",
       "    }\n",
       "</style>\n",
       "<table border=\"1\" class=\"dataframe\">\n",
       "  <thead>\n",
       "    <tr style=\"text-align: right;\">\n",
       "      <th></th>\n",
       "      <th>theta</th>\n",
       "      <th>delta_theta</th>\n",
       "      <th>I</th>\n",
       "      <th>delta_I</th>\n",
       "    </tr>\n",
       "  </thead>\n",
       "  <tbody>\n",
       "    <tr>\n",
       "      <th>0</th>\n",
       "      <td>0</td>\n",
       "      <td>1</td>\n",
       "      <td>4270</td>\n",
       "      <td>5</td>\n",
       "    </tr>\n",
       "    <tr>\n",
       "      <th>1</th>\n",
       "      <td>15</td>\n",
       "      <td>1</td>\n",
       "      <td>3470</td>\n",
       "      <td>5</td>\n",
       "    </tr>\n",
       "    <tr>\n",
       "      <th>2</th>\n",
       "      <td>30</td>\n",
       "      <td>1</td>\n",
       "      <td>2647</td>\n",
       "      <td>5</td>\n",
       "    </tr>\n",
       "    <tr>\n",
       "      <th>3</th>\n",
       "      <td>45</td>\n",
       "      <td>1</td>\n",
       "      <td>1392</td>\n",
       "      <td>5</td>\n",
       "    </tr>\n",
       "    <tr>\n",
       "      <th>4</th>\n",
       "      <td>60</td>\n",
       "      <td>1</td>\n",
       "      <td>298</td>\n",
       "      <td>5</td>\n",
       "    </tr>\n",
       "    <tr>\n",
       "      <th>5</th>\n",
       "      <td>75</td>\n",
       "      <td>1</td>\n",
       "      <td>34</td>\n",
       "      <td>5</td>\n",
       "    </tr>\n",
       "    <tr>\n",
       "      <th>6</th>\n",
       "      <td>90</td>\n",
       "      <td>1</td>\n",
       "      <td>6</td>\n",
       "      <td>5</td>\n",
       "    </tr>\n",
       "  </tbody>\n",
       "</table>\n",
       "</div>"
      ],
      "text/plain": [
       "   theta  delta_theta     I  delta_I\n",
       "0      0            1  4270        5\n",
       "1     15            1  3470        5\n",
       "2     30            1  2647        5\n",
       "3     45            1  1392        5\n",
       "4     60            1   298        5\n",
       "5     75            1    34        5\n",
       "6     90            1     6        5"
      ]
     },
     "execution_count": 9,
     "metadata": {},
     "output_type": "execute_result"
    }
   ],
   "source": [
    "df"
   ]
  },
  {
   "cell_type": "code",
   "execution_count": 15,
   "metadata": {
    "scrolled": true
   },
   "outputs": [
    {
     "data": {
      "image/png": "[encoded data removed]",
      "text/plain": [
       "<Figure size 432x288 with 1 Axes>"
      ]
     },
     "metadata": {
      "needs_background": "light"
     },
     "output_type": "display_data"
    }
   ],
   "source": [
    "plt.errorbar(df.theta, df.I, yerr = df.delta_I)\n",
    "plt.xlabel('theta(degrees)')\n",
    "plt.ylabel('Intensity(lux)')\n",
    "plt.title('intensity vs. theta')\n",
    "plt.show()"
   ]
  },
  {
   "cell_type": "markdown",
   "metadata": {},
   "source": [
    "Note: Because the error bars for intensity is very small, they're hardly visible in the graph above."
   ]
  },
  {
   "cell_type": "markdown",
   "metadata": {},
   "source": [
    "From the data table, we observed that the intensity of transmitted light varies sinusoidally as the axis of Polarizer 2 rotates, and reaches its maximum when the axis is vertically oriented. This shows that the light is still linearly polarized with its polarization axis vertically oriented, which agrees with our prediction.  "
   ]
  },
  {
   "cell_type": "markdown",
   "metadata": {},
   "source": [
    "# Experiment 3 - Optical Activity of Corn Syrup\n",
    "\n",
    "## Objective\n",
    "Explore the optical activity of a given sample of corn syrup rotating the polarization axis of linearly polarized light\n",
    "\n",
    "## Method\n",
    "Setup as illustrated in the diagram below:\n",
    "\n",
    "![Experiment 3](fig1.jpg)\n",
    "\n",
    "Measure the height $l$ of the corn syrup in each cylinder\n",
    "Determine the __optical rotation angle__ $\\alpha$ for each corn syrup sample. \n",
    "\n",
    "In the data table below, 'l' denotes the height of corn syrup, with unit centimeter; 'delta_l' denotes the error associated with the height, with unit centimeter; 'alpha' denotes the optical rotation angle clockwise from the positive vertical axis for each corn syrup sample, with unit degrees; 'delta_alpha' denotes the error associated with the optical rotation angle, with unit degrees.\n"
   ]
  },
  {
   "cell_type": "code",
   "execution_count": 27,
   "metadata": {},
   "outputs": [
    {
     "data": {
      "text/html": [
       "<div>\n",
       "<style scoped>\n",
       "    .dataframe tbody tr th:only-of-type {\n",
       "        vertical-align: middle;\n",
       "    }\n",
       "\n",
       "    .dataframe tbody tr th {\n",
       "        vertical-align: top;\n",
       "    }\n",
       "\n",
       "    .dataframe thead th {\n",
       "        text-align: right;\n",
       "    }\n",
       "</style>\n",
       "<table border=\"1\" class=\"dataframe\">\n",
       "  <thead>\n",
       "    <tr style=\"text-align: right;\">\n",
       "      <th></th>\n",
       "      <th>l</th>\n",
       "      <th>delta_l</th>\n",
       "      <th>alpha</th>\n",
       "      <th>delta_alpha</th>\n",
       "    </tr>\n",
       "  </thead>\n",
       "  <tbody>\n",
       "    <tr>\n",
       "      <th>0</th>\n",
       "      <td>5.1</td>\n",
       "      <td>0.1</td>\n",
       "      <td>-65</td>\n",
       "      <td>1</td>\n",
       "    </tr>\n",
       "    <tr>\n",
       "      <th>1</th>\n",
       "      <td>3.4</td>\n",
       "      <td>0.1</td>\n",
       "      <td>74</td>\n",
       "      <td>1</td>\n",
       "    </tr>\n",
       "    <tr>\n",
       "      <th>2</th>\n",
       "      <td>2.5</td>\n",
       "      <td>0.1</td>\n",
       "      <td>61</td>\n",
       "      <td>1</td>\n",
       "    </tr>\n",
       "    <tr>\n",
       "      <th>3</th>\n",
       "      <td>1.4</td>\n",
       "      <td>0.1</td>\n",
       "      <td>19</td>\n",
       "      <td>1</td>\n",
       "    </tr>\n",
       "  </tbody>\n",
       "</table>\n",
       "</div>"
      ],
      "text/plain": [
       "     l  delta_l  alpha  delta_alpha\n",
       "0  5.1      0.1    -65            1\n",
       "1  3.4      0.1     74            1\n",
       "2  2.5      0.1     61            1\n",
       "3  1.4      0.1     19            1"
      ]
     },
     "execution_count": 27,
     "metadata": {},
     "output_type": "execute_result"
    }
   ],
   "source": [
    "df1"
   ]
  },
  {
   "cell_type": "markdown",
   "metadata": {},
   "source": [
    "## Data Analysis"
   ]
  },
  {
   "cell_type": "code",
   "execution_count": 39,
   "metadata": {},
   "outputs": [
    {
     "data": {
      "image/png": "[encoded data removed]",
      "text/plain": [
       "<Figure size 432x288 with 1 Axes>"
      ]
     },
     "metadata": {
      "needs_background": "light"
     },
     "output_type": "display_data"
    }
   ],
   "source": [
    "plt.errorbar(df1.l, df1.alpha, yerr = df1.delta_alpha, fmt = '.')\n",
    "plt.xlabel('height(cm)')\n",
    "plt.ylabel('alpha(degrees)')\n",
    "plt.title('alpha vs. height')\n",
    "plt.show()"
   ]
  },
  {
   "cell_type": "markdown",
   "metadata": {},
   "source": [
    "Note: Because the error bars for alpha are very small, they're hardly visible in the graph above.\n",
    "\n",
    "b). Using the direct proportionality hypothesis, we yielded that the gradient of this linear fit model $c[\\alpha] = 22.22\\pm3.45 \\text{ }^{\\circ}/cm$, with a coefficient of determination of $0.975$, which is a fairly good fit. \n",
    "\n",
    "c). From the given corn syrup concentration, the specific rotation is $[\\alpha] = gradient/c = 66.7\\pm10.4^{\\circ} mL/cm  \\cdot g$   \n",
    "\n",
    "d). Using accepted value of $52.7^{\\circ}mL/cm  \\cdot g$, the agreement test value is 0.67. This value is smaller than 1, so our result is in agreement with the accepted value.\n",
    "\n"
   ]
  },
  {
   "cell_type": "markdown",
   "metadata": {},
   "source": [
    "The following scripts calculated the results in part b)"
   ]
  },
  {
   "cell_type": "code",
   "execution_count": 48,
   "metadata": {},
   "outputs": [
    {
     "name": "stdout",
     "output_type": "stream",
     "text": [
      "22.219309742245525\n"
     ]
    }
   ],
   "source": [
    "df1['xy'] = df1['l'] * df1['alpha']\n",
    "df1['x_square'] = df1['l']**2\n",
    "xy_mean = np.mean(df1['xy'])\n",
    "x_square_mean = np.mean(df1['x_square'])\n",
    "m_hat = xy_mean / x_square_mean\n",
    "print(m_hat)"
   ]
  },
  {
   "cell_type": "code",
   "execution_count": 54,
   "metadata": {},
   "outputs": [
    {
     "name": "stdout",
     "output_type": "stream",
     "text": [
      "3.448916959069044\n"
     ]
    }
   ],
   "source": [
    "df1['y_mhatx'] = df1['alpha'] - m_hat * df1['l']\n",
    "df1['ymx_square'] = df1['y_mhatx']**2\n",
    "ymxsq_sum = np.sum(df1['ymx_square'])\n",
    "y_error = np.sqrt(3 * ymxsq_sum)\n",
    "mhat_error = y_error/(np.sqrt(4 * x_square_mean))\n",
    "print(mhat_error)"
   ]
  },
  {
   "cell_type": "code",
   "execution_count": 41,
   "metadata": {},
   "outputs": [
    {
     "name": "stdout",
     "output_type": "stream",
     "text": [
      "coefficient of determination: 0.9754420008718302\n",
      "intercept: -10.165531335149865\n",
      "slope: [24.97275204]\n"
     ]
    }
   ],
   "source": [
    "x = np.array(df1['l']).reshape(-1, 1)\n",
    "y = df1['alpha']\n",
    "model = LinearRegression().fit(x, y)\n",
    "r_sq = model.score(x, y)\n",
    "print('coefficient of determination:', r_sq)\n",
    "print('intercept:', model.intercept_)\n",
    "print('slope:', model.coef_)"
   ]
  },
  {
   "cell_type": "markdown",
   "metadata": {},
   "source": [
    "The following scripts calculated the results in part c)."
   ]
  },
  {
   "cell_type": "code",
   "execution_count": 8,
   "metadata": {},
   "outputs": [],
   "source": [
    "data = {'theta': [0, 15, 30, 45, 60, 75, 90], \n",
    "        'delta_theta':[1, 1, 1, 1, 1, 1, 1], \n",
    "        'I': [4270, 3470, 2647, 1392, 298, 34, 6], \n",
    "        'delta_I': [5, 5, 5, 5, 5, 5, 5]}\n",
    "df = pd.DataFrame(data)"
   ]
  },
  {
   "cell_type": "code",
   "execution_count": 38,
   "metadata": {},
   "outputs": [],
   "source": [
    "data = {'l': [5.1, 3.4, 2.5, 1.4], \n",
    "        'delta_l': [0.1, 0.1, 0.1, 0.1], \n",
    "        'alpha': [115, 74, 61, 19], \n",
    "        'delta_alpha': [1, 1, 1, 1]}\n",
    "df1 = pd.DataFrame(data)"
   ]
  },
  {
   "cell_type": "code",
   "execution_count": 55,
   "metadata": {},
   "outputs": [
    {
     "data": {
      "text/plain": [
       "66.66"
      ]
     },
     "execution_count": 55,
     "metadata": {},
     "output_type": "execute_result"
    }
   ],
   "source": [
    "22.22/(1/3)"
   ]
  },
  {
   "cell_type": "code",
   "execution_count": 56,
   "metadata": {},
   "outputs": [
    {
     "data": {
      "text/plain": [
       "10.350000000000001"
      ]
     },
     "execution_count": 56,
     "metadata": {},
     "output_type": "execute_result"
    }
   ],
   "source": [
    "3.45*3"
   ]
  },
  {
   "cell_type": "markdown",
   "metadata": {},
   "source": [
    "This is the agreement test in part e)"
   ]
  },
  {
   "cell_type": "code",
   "execution_count": 57,
   "metadata": {},
   "outputs": [
    {
     "data": {
      "text/plain": [
       "0.673076923076923"
      ]
     },
     "execution_count": 57,
     "metadata": {},
     "output_type": "execute_result"
    }
   ],
   "source": [
    "(66.7 - 52.7)/(2*10.4)"
   ]
  },
  {
   "cell_type": "markdown",
   "metadata": {},
   "source": [
    "## Experiment 4: Brewster's Angle\n",
    "\n",
    "#### Objective:\n",
    "\n",
    "* Find Brewster’s angle for the glass plate and from this determine the index of refraction of the glass.\n",
    "\n",
    "#### Method and Experimental Procedure:\n",
    "\n",
    "<u> Theory: </u>\n",
    "\n",
    "Fresnel's Equations tell us that at some angle, $\\theta_{Brewster}$, the reflectance of p-polarized light off a surface goes to zero.  If $n_1$ is the index of refraction of the environment, and $n_2$ is the index of refraction of the material, then Brewster's Angle is given by:\n",
    "\n",
    "$$ \\theta_{Brewster} = \\tan ^{-1}\\left(\\frac{n_2}{n_1}\\right)$$\n",
    "\n",
    "From this equation we see\n",
    "\n",
    "$$ n_2  = n_1 \\cdot \\tan(\\theta_B),$$\n",
    "\n",
    "and therefore,\n",
    "\n",
    "$$\\delta n_2 = n_1 \\sec^2(\\theta_B)  \\cdot\\delta \\theta_B$$\n",
    "\n",
    "\n",
    "<u> Equipment: </u>\n",
    "\n",
    "* Optical Bench\n",
    "* Bench Stands\n",
    "* Linear Polarizer\n",
    "* Laser\n",
    "* Protractor\n",
    "\n",
    "<u> Procedure: </u>\n",
    "\n",
    "1. Set up materials as shown below. Be sure that the linear polarizer is polarizing the light horizontally so that the light is p-polarized.\n",
    "\n",
    "![Experiment 4](exp4.jpg)\n",
    "\n",
    "2. Use the calibration method from Lab 0 to align the laser pointer directly down the optical bench.\n",
    "3. Rotate the glass brick until the reflected beam of light disappears.\n",
    "4. Make sure the glass brick is firmly screwed into its bench stand and then use a protractor to measure the angle between the incident beam and the vector normal to the surface of the glass brick.  This is Brewster's Angle.\n",
    "\n",
    "<u> Data Analysis: </u>\n",
    "\n",
    "We measured $$\\boxed{\\theta_{Brewster} = 0.995 \\pm 0.017 \\text{ Radians}}$$\n",
    "\n",
    "Using the equation in the theory section and taking $n_1 = 1$, we calculate that:\n",
    "\n",
    "$$\\boxed{ n_{glass} = 1.54 \\pm 0.06 }$$\n",
    "\n",
    "Clearly this agrees with the accepted value of $1.53$.  There are two possible sources of error in this lab.  The first is the error associated with measuring the angle of incidence with the protractor.  While this error did not greatly affect our results, to minimize this error we could use a more precise protractor.  The second source of error dealt with the fact that near Brewster's Angle, it was very difficult to see when the light actually disappeared, and therefore difficult to find the exact angle.  Again, this did not greatly affect our results, but if we wanted more accurate results, then we could have used a photodetector in a dark room to more precisely determine when the reflected beam of light disappears.  "
   ]
  },
  {
   "cell_type": "markdown",
   "metadata": {},
   "source": [
    "## Summary and Conclusions:\n",
    "\n",
    "In this lab, we were experimenting with the different types of polarized Light.  The purpose of the lab was to learn to identify unpolarized, linearly polarized, and circularly polarized light, explore Malus's Law and Brewster's Angle, and study optical activity.  In experiment one, we verified Malus's Law. In Experiment 2, we learned about circular polarization and how to determine the polarization of any light source.  In Experiment 3, we learned how to find the specific rotation of a liquid, and finally in Experiment 4, we found Brewster's angle for Crown Glass.  Thus we completed our objectives for this lab through a variety of different experiments."
   ]
  },
  {
   "cell_type": "markdown",
   "metadata": {},
   "source": [
    "## Contributions of Each Member\n",
    "\n",
    "We both did 50% of the total work on this lab, both on the actual lab work and writing the lab report."
   ]
  },
  {
   "cell_type": "markdown",
   "metadata": {},
   "source": [
    "## References\n",
    "\n",
    "We used python in this lab, and the open source python Libraries, Pandas, Matplotlib, and NumPy.\n",
    "\n",
    "The following scripts were used in experiment 1 to create the data tables."
   ]
  },
  {
   "cell_type": "code",
   "execution_count": 78,
   "metadata": {},
   "outputs": [],
   "source": [
    "import pandas as pd\n",
    "from math import *\n",
    "import matplotlib.pyplot as plt\n",
    "from IPython.display import Image\n",
    "im1 = Image('exp4.jpg')"
   ]
  },
  {
   "cell_type": "code",
   "execution_count": 9,
   "metadata": {},
   "outputs": [],
   "source": [
    "data1_dict = {'theta': [0, 10, 20, 30, 40, 50, 60, 70, 80, 90],\n",
    "              'delta_theta': [2, 2, 2, 2, 2, 2, 2, 2, 2, 2],\n",
    "             'I': [6842, 6430, 6060, 5130, 4155, 3060, 1868, 1029, 350, 54],\n",
    "             'delta_I' : [30, 30, 30, 30, 30, 20, 20, 10, 10, 5]}\n",
    "data1 = pd.DataFrame(data1_dict)"
   ]
  },
  {
   "cell_type": "code",
   "execution_count": 17,
   "metadata": {},
   "outputs": [],
   "source": [
    "x = []\n",
    "dx = []\n",
    "for index, row in data1.iterrows():\n",
    "    x.append(cos(row.theta * pi / 180)**2)\n",
    "    dx.append(sin(row.delta_theta * pi / 90) * row.delta_theta)\n",
    "datax = pd.DataFrame()\n",
    "datax['x'] = x\n",
    "datax['delta_x'] = dx\n",
    "datax['I'] = data1.I\n",
    "datax['delta_I'] = data1.delta_I"
   ]
  }
 ],
 "metadata": {
  "kernelspec": {
   "display_name": "Python 3",
   "language": "python",
   "name": "python3"
  },
  "language_info": {
   "codemirror_mode": {
    "name": "ipython",
    "version": 3
   },
   "file_extension": ".py",
   "mimetype": "text/x-python",
   "name": "python",
   "nbconvert_exporter": "python",
   "pygments_lexer": "ipython3",
   "version": "3.7.4"
  }
 },
 "nbformat": 4,
 "nbformat_minor": 2
}
