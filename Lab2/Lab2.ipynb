{
 "cells": [
  {
   "cell_type": "markdown",
   "metadata": {},
   "source": [
    "# Experiment 2 - Circular Polarization\n",
    "## 2.1 - Calibrating the Quarter-Wave Plates\n",
    "### Objective\n",
    "- Determining the true fast axis of the two quarter-wave plates.\n",
    "\n",
    "### Method\n",
    "include image>   \n",
    "\n",
    "why is it the fast axis when intensity of transmitted light is the lowest? The QWP will speed up the light? If the linearly polarized light is sped up where does the extra KE come from? The plate won't cool down?]\n",
    "\n",
    "## 2.2 - Observations of Circularly Polarized Light\n",
    "### Objective\n",
    "- Explore effects of Quarter Wave Plate and Half Wave Plate (which will be abbrieviated as QWP and HWP respectively below) have on linearly polarzed lights. \n",
    "- Explore effects of Left/Right-circular Polarizing filter on cirlularly polarized light.\n",
    "- Explore ways to distinguish between linearly polarized and circularly polarized light.\n",
    "\n",
    "### Method\n",
    "1. Exploring QWP and HWP   \n",
    "\n",
    "    a). Arrange the Laser, Polarizer 1 with vertically-oriented axis, and QWP 1 with fast axis $\\frac{\\pi}{4}$ anticlockwise from Polarizer 1 axis in the right order to produce __right-circularly polarized light__ as illustrated in the diagrm below:\n",
    "    \n",
    "    b). Use the photodetector to measure the intensity of the produced light and yielded the result $I = 8246\\pm20 lux$. \n",
    "    \n",
    "    c). Add a second Polarizer 2 after QWP 1 as illustrated in the diagram below:\n",
    "    \n",
    "    d). Rotate Polarizer 2 and observe from the photodetector that the intensity of transmitted light did not change. This is because the transmission axis of circularly-polarized light constantly changes and therefore is not affected by the linear polarizer.   \n",
    "    \n",
    "    e). Take down Polarizer 2 and add QWP 2 after QWP 1, orienting the fast axis of both QWPs to the same direction to produce a HWP as illustrated in the diagram below:\n",
    "    \n",
    "    f). Add Polarizer 2 after QWP 2, rotate Polarizer 2 and observe that the intensity of transmitted light varies with the rotation in a sinusoidal pattern.   \n",
    "    \n",
    "    g). Also observe that the intensity of transmitted light is at maximum when Polarizer 2's axis is horizontally oriented, meaning that the transmitted light is horizontally polarized, with its transmission axis rotated by $\\frac{\\pi}{2}$ from its original position.   \n",
    "    \n",
    "2. Exploring Left/Right-Circular Polarizing Filters   \n",
    "\n",
    "    a). Arrange Polarzier 1 (fast axis vertically oriented) and QWP 1 ($\\frac{\\pi}{4}$ anticlockwise from positive y-axis) to produce __right-circularly polarized light__ as illustrated above; arrange QWP 2 with its axis(?) $\\frac{\\pi}{4}$ anticlockwise from the positive y-axis, and Polarizer 2 with its fast axis(?)vertically oriented in the right order and direction to produce a __left-circularly polarizing filter__ as illustrated in the diagram below:   \n",
    "    \n",
    "    b). Rotate axes of both QWP 2 and Polarizer 2 by the same amount (keeping their relatvie orientation the same). Observe from the photodetector that the intensity of transmitted light does not change. This means that as long as the relative orientation of QWP 2 and Polarizer 2 does not change, the combination remains a left-circular polarizing filter, blocking right-circularly polarized light. \n",
    "    \n",
    "    c). Arrange Polarzier 1 (fast axis vertically oriented), change QWP 1 fast axis to be $\\frac{\\pi}{4}$ clockwise from positive y-axis to produce __left-circularly polarized light__. Keep the orientation of QWP 2 and Polarizer 2 the same as that in part b), producing a __left-circularly polarizing filter__.   \n",
    "    \n",
    "    d). Rotate axes of both QWP 2 and Polarizer 2 by the same amount (keeping their relatvie orientation the same). Observe from the photodetector that the intensity of transmitted light does not change. This means that as long as the relative orientation of QWP 2 and Polarizer 2 does not change, the combination remains a left-circular polarizing filter, transmitting left-circularly polarized light.    \n",
    "    \n",
    "3. Explore ways to distinguish between linearly polarized, left and right circularly polarized light.\n",
    "\n"
   ]
  },
  {
   "cell_type": "code",
   "execution_count": null,
   "metadata": {},
   "outputs": [],
   "source": []
  },
  {
   "cell_type": "code",
   "execution_count": null,
   "metadata": {},
   "outputs": [],
   "source": []
  },
  {
   "cell_type": "code",
   "execution_count": null,
   "metadata": {},
   "outputs": [],
   "source": []
  },
  {
   "cell_type": "code",
   "execution_count": null,
   "metadata": {},
   "outputs": [],
   "source": []
  },
  {
   "cell_type": "code",
   "execution_count": null,
   "metadata": {},
   "outputs": [],
   "source": []
  },
  {
   "cell_type": "code",
   "execution_count": null,
   "metadata": {},
   "outputs": [],
   "source": []
  }
 ],
 "metadata": {
  "kernelspec": {
   "display_name": "Python 3",
   "language": "python",
   "name": "python3"
  },
  "language_info": {
   "codemirror_mode": {
    "name": "ipython",
    "version": 3
   },
   "file_extension": ".py",
   "mimetype": "text/x-python",
   "name": "python",
   "nbconvert_exporter": "python",
   "pygments_lexer": "ipython3",
   "version": "3.7.3"
  }
 },
 "nbformat": 4,
 "nbformat_minor": 2
}
