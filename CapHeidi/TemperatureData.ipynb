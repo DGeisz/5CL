{
 "cells": [
  {
   "cell_type": "code",
   "execution_count": 3,
   "metadata": {},
   "outputs": [],
   "source": [
    "import pandas as pd\n",
    "import numpy as np"
   ]
  },
  {
   "cell_type": "markdown",
   "metadata": {},
   "source": [
    "# Theory\n",
    "\n",
    "$$T = \\left(\\dfrac{R}{R_{0}} - 1\\right) \\dfrac{1}{\\alpha} + T_{0}$$     \n",
    "         \n",
    "$$\\delta T = \\sqrt{\\left(\\dfrac{I_{0}\\delta V}{I\\alpha V_{0}}\\right)^2 + \\left(\\dfrac{VI_{0}\\delta I}{V_{0}\\alpha I^{2}}\\right)^{2} + \\left(\\dfrac{V\\delta I_0}{IV_{0}\\alpha}\\right)^{2} + \\left(\\dfrac{VI_{0}\\delta V_0}{I\\alpha V_{0}^{2}}\\right)^{2}}$$\n",
    "\n",
    "# Procedure\n",
    "\n",
    "1. Turn on the Tungsten bulb to a low setting.    \n",
    "2. Use the voltmeter to determine the voltage across the power supply and use the current clamp to determine the current in the circuit.    \n",
    "3. Turn the Tungsten bulb power supply to the levels conducted in 7th step.   \n",
    "4. Using the formula in Theory section to calculate the temperature of the bulb.   "
   ]
  },
  {
   "cell_type": "code",
   "execution_count": 8,
   "metadata": {},
   "outputs": [],
   "source": [
    "data = {\"I\":[0.01, 0.80, 0.89, 0.97, 1.04, 1.16], \"V\":[0.072, 55.3, 67.3, 77.5, 88.1, 107.7]}\n",
    "df = pd.DataFrame(data)"
   ]
  },
  {
   "cell_type": "code",
   "execution_count": 9,
   "metadata": {},
   "outputs": [
    {
     "data": {
      "text/html": [
       "<div>\n",
       "<style scoped>\n",
       "    .dataframe tbody tr th:only-of-type {\n",
       "        vertical-align: middle;\n",
       "    }\n",
       "\n",
       "    .dataframe tbody tr th {\n",
       "        vertical-align: top;\n",
       "    }\n",
       "\n",
       "    .dataframe thead th {\n",
       "        text-align: right;\n",
       "    }\n",
       "</style>\n",
       "<table border=\"1\" class=\"dataframe\">\n",
       "  <thead>\n",
       "    <tr style=\"text-align: right;\">\n",
       "      <th></th>\n",
       "      <th>I</th>\n",
       "      <th>V</th>\n",
       "    </tr>\n",
       "  </thead>\n",
       "  <tbody>\n",
       "    <tr>\n",
       "      <td>0</td>\n",
       "      <td>0.01</td>\n",
       "      <td>0.072</td>\n",
       "    </tr>\n",
       "    <tr>\n",
       "      <td>1</td>\n",
       "      <td>0.80</td>\n",
       "      <td>55.300</td>\n",
       "    </tr>\n",
       "    <tr>\n",
       "      <td>2</td>\n",
       "      <td>0.89</td>\n",
       "      <td>67.300</td>\n",
       "    </tr>\n",
       "    <tr>\n",
       "      <td>3</td>\n",
       "      <td>0.97</td>\n",
       "      <td>77.500</td>\n",
       "    </tr>\n",
       "    <tr>\n",
       "      <td>4</td>\n",
       "      <td>1.04</td>\n",
       "      <td>88.100</td>\n",
       "    </tr>\n",
       "    <tr>\n",
       "      <td>5</td>\n",
       "      <td>1.16</td>\n",
       "      <td>107.700</td>\n",
       "    </tr>\n",
       "  </tbody>\n",
       "</table>\n",
       "</div>"
      ],
      "text/plain": [
       "      I        V\n",
       "0  0.01    0.072\n",
       "1  0.80   55.300\n",
       "2  0.89   67.300\n",
       "3  0.97   77.500\n",
       "4  1.04   88.100\n",
       "5  1.16  107.700"
      ]
     },
     "execution_count": 9,
     "metadata": {},
     "output_type": "execute_result"
    }
   ],
   "source": [
    "df"
   ]
  },
  {
   "cell_type": "code",
   "execution_count": 10,
   "metadata": {},
   "outputs": [],
   "source": [
    "df[\"R\"] = df[\"V\"]/df[\"I\"]"
   ]
  },
  {
   "cell_type": "code",
   "execution_count": 11,
   "metadata": {},
   "outputs": [
    {
     "data": {
      "text/html": [
       "<div>\n",
       "<style scoped>\n",
       "    .dataframe tbody tr th:only-of-type {\n",
       "        vertical-align: middle;\n",
       "    }\n",
       "\n",
       "    .dataframe tbody tr th {\n",
       "        vertical-align: top;\n",
       "    }\n",
       "\n",
       "    .dataframe thead th {\n",
       "        text-align: right;\n",
       "    }\n",
       "</style>\n",
       "<table border=\"1\" class=\"dataframe\">\n",
       "  <thead>\n",
       "    <tr style=\"text-align: right;\">\n",
       "      <th></th>\n",
       "      <th>I</th>\n",
       "      <th>V</th>\n",
       "      <th>R</th>\n",
       "    </tr>\n",
       "  </thead>\n",
       "  <tbody>\n",
       "    <tr>\n",
       "      <td>0</td>\n",
       "      <td>0.01</td>\n",
       "      <td>0.072</td>\n",
       "      <td>7.200000</td>\n",
       "    </tr>\n",
       "    <tr>\n",
       "      <td>1</td>\n",
       "      <td>0.80</td>\n",
       "      <td>55.300</td>\n",
       "      <td>69.125000</td>\n",
       "    </tr>\n",
       "    <tr>\n",
       "      <td>2</td>\n",
       "      <td>0.89</td>\n",
       "      <td>67.300</td>\n",
       "      <td>75.617978</td>\n",
       "    </tr>\n",
       "    <tr>\n",
       "      <td>3</td>\n",
       "      <td>0.97</td>\n",
       "      <td>77.500</td>\n",
       "      <td>79.896907</td>\n",
       "    </tr>\n",
       "    <tr>\n",
       "      <td>4</td>\n",
       "      <td>1.04</td>\n",
       "      <td>88.100</td>\n",
       "      <td>84.711538</td>\n",
       "    </tr>\n",
       "    <tr>\n",
       "      <td>5</td>\n",
       "      <td>1.16</td>\n",
       "      <td>107.700</td>\n",
       "      <td>92.844828</td>\n",
       "    </tr>\n",
       "  </tbody>\n",
       "</table>\n",
       "</div>"
      ],
      "text/plain": [
       "      I        V          R\n",
       "0  0.01    0.072   7.200000\n",
       "1  0.80   55.300  69.125000\n",
       "2  0.89   67.300  75.617978\n",
       "3  0.97   77.500  79.896907\n",
       "4  1.04   88.100  84.711538\n",
       "5  1.16  107.700  92.844828"
      ]
     },
     "execution_count": 11,
     "metadata": {},
     "output_type": "execute_result"
    }
   ],
   "source": [
    "df"
   ]
  },
  {
   "cell_type": "code",
   "execution_count": 14,
   "metadata": {},
   "outputs": [],
   "source": [
    "R0 = 7.2\n",
    "a = 0.0045\n",
    "T0 = 25.4\n",
    "I0 = 0.01\n",
    "V0 = 0.072\n",
    "df[\"T\"] = ((df[\"R\"]/R0) - 1) * (1/0.0045) + T0"
   ]
  },
  {
   "cell_type": "code",
   "execution_count": 13,
   "metadata": {
    "scrolled": true
   },
   "outputs": [
    {
     "data": {
      "text/html": [
       "<div>\n",
       "<style scoped>\n",
       "    .dataframe tbody tr th:only-of-type {\n",
       "        vertical-align: middle;\n",
       "    }\n",
       "\n",
       "    .dataframe tbody tr th {\n",
       "        vertical-align: top;\n",
       "    }\n",
       "\n",
       "    .dataframe thead th {\n",
       "        text-align: right;\n",
       "    }\n",
       "</style>\n",
       "<table border=\"1\" class=\"dataframe\">\n",
       "  <thead>\n",
       "    <tr style=\"text-align: right;\">\n",
       "      <th></th>\n",
       "      <th>I</th>\n",
       "      <th>V</th>\n",
       "      <th>R</th>\n",
       "      <th>T</th>\n",
       "    </tr>\n",
       "  </thead>\n",
       "  <tbody>\n",
       "    <tr>\n",
       "      <td>0</td>\n",
       "      <td>0.01</td>\n",
       "      <td>0.072</td>\n",
       "      <td>7.200000</td>\n",
       "      <td>25.400000</td>\n",
       "    </tr>\n",
       "    <tr>\n",
       "      <td>1</td>\n",
       "      <td>0.80</td>\n",
       "      <td>55.300</td>\n",
       "      <td>69.125000</td>\n",
       "      <td>1936.665432</td>\n",
       "    </tr>\n",
       "    <tr>\n",
       "      <td>2</td>\n",
       "      <td>0.89</td>\n",
       "      <td>67.300</td>\n",
       "      <td>75.617978</td>\n",
       "      <td>2137.065973</td>\n",
       "    </tr>\n",
       "    <tr>\n",
       "      <td>3</td>\n",
       "      <td>0.97</td>\n",
       "      <td>77.500</td>\n",
       "      <td>79.896907</td>\n",
       "      <td>2269.131704</td>\n",
       "    </tr>\n",
       "    <tr>\n",
       "      <td>4</td>\n",
       "      <td>1.04</td>\n",
       "      <td>88.100</td>\n",
       "      <td>84.711538</td>\n",
       "      <td>2417.731434</td>\n",
       "    </tr>\n",
       "    <tr>\n",
       "      <td>5</td>\n",
       "      <td>1.16</td>\n",
       "      <td>107.700</td>\n",
       "      <td>92.844828</td>\n",
       "      <td>2668.758876</td>\n",
       "    </tr>\n",
       "  </tbody>\n",
       "</table>\n",
       "</div>"
      ],
      "text/plain": [
       "      I        V          R            T\n",
       "0  0.01    0.072   7.200000    25.400000\n",
       "1  0.80   55.300  69.125000  1936.665432\n",
       "2  0.89   67.300  75.617978  2137.065973\n",
       "3  0.97   77.500  79.896907  2269.131704\n",
       "4  1.04   88.100  84.711538  2417.731434\n",
       "5  1.16  107.700  92.844828  2668.758876"
      ]
     },
     "execution_count": 13,
     "metadata": {},
     "output_type": "execute_result"
    }
   ],
   "source": [
    "df"
   ]
  },
  {
   "cell_type": "code",
   "execution_count": 28,
   "metadata": {},
   "outputs": [],
   "source": [
    "df[\"delT\"] = np.sqrt(((I0 * 0.05)/(df[\"I\"] * 0.0045 * V0))**2 \n",
    "                     + ((df[\"V\"] * I0 * 0.005)/(V0 * 0.0045 * (df[\"I\"]**2)))**2 \n",
    "                     + ((df[\"V\"] * 0.005)/(df[\"I\"] * V0 * 0.0045))**2\n",
    "                     + ((df[\"V\"] * I0 * 0.05)/(df[\"I\"] * 0.0045 * (V0**2)))**2)\n"
   ]
  },
  {
   "cell_type": "code",
   "execution_count": 30,
   "metadata": {},
   "outputs": [
    {
     "data": {
      "text/html": [
       "<div>\n",
       "<style scoped>\n",
       "    .dataframe tbody tr th:only-of-type {\n",
       "        vertical-align: middle;\n",
       "    }\n",
       "\n",
       "    .dataframe tbody tr th {\n",
       "        vertical-align: top;\n",
       "    }\n",
       "\n",
       "    .dataframe thead th {\n",
       "        text-align: right;\n",
       "    }\n",
       "</style>\n",
       "<table border=\"1\" class=\"dataframe\">\n",
       "  <thead>\n",
       "    <tr style=\"text-align: right;\">\n",
       "      <th></th>\n",
       "      <th>I</th>\n",
       "      <th>V</th>\n",
       "      <th>R</th>\n",
       "      <th>T</th>\n",
       "      <th>delT</th>\n",
       "    </tr>\n",
       "  </thead>\n",
       "  <tbody>\n",
       "    <tr>\n",
       "      <td>0</td>\n",
       "      <td>0.01</td>\n",
       "      <td>0.072</td>\n",
       "      <td>7.200000</td>\n",
       "      <td>25.400000</td>\n",
       "      <td>268.926184</td>\n",
       "    </tr>\n",
       "    <tr>\n",
       "      <td>1</td>\n",
       "      <td>0.80</td>\n",
       "      <td>55.300</td>\n",
       "      <td>69.125000</td>\n",
       "      <td>1936.665432</td>\n",
       "      <td>1825.713242</td>\n",
       "    </tr>\n",
       "    <tr>\n",
       "      <td>2</td>\n",
       "      <td>0.89</td>\n",
       "      <td>67.300</td>\n",
       "      <td>75.617978</td>\n",
       "      <td>2137.065973</td>\n",
       "      <td>1997.193647</td>\n",
       "    </tr>\n",
       "    <tr>\n",
       "      <td>3</td>\n",
       "      <td>0.97</td>\n",
       "      <td>77.500</td>\n",
       "      <td>79.896907</td>\n",
       "      <td>2269.131704</td>\n",
       "      <td>2110.199744</td>\n",
       "    </tr>\n",
       "    <tr>\n",
       "      <td>4</td>\n",
       "      <td>1.04</td>\n",
       "      <td>88.100</td>\n",
       "      <td>84.711538</td>\n",
       "      <td>2417.731434</td>\n",
       "      <td>2237.356109</td>\n",
       "    </tr>\n",
       "    <tr>\n",
       "      <td>5</td>\n",
       "      <td>1.16</td>\n",
       "      <td>107.700</td>\n",
       "      <td>92.844828</td>\n",
       "      <td>2668.758876</td>\n",
       "      <td>2452.160445</td>\n",
       "    </tr>\n",
       "  </tbody>\n",
       "</table>\n",
       "</div>"
      ],
      "text/plain": [
       "      I        V          R            T         delT\n",
       "0  0.01    0.072   7.200000    25.400000   268.926184\n",
       "1  0.80   55.300  69.125000  1936.665432  1825.713242\n",
       "2  0.89   67.300  75.617978  2137.065973  1997.193647\n",
       "3  0.97   77.500  79.896907  2269.131704  2110.199744\n",
       "4  1.04   88.100  84.711538  2417.731434  2237.356109\n",
       "5  1.16  107.700  92.844828  2668.758876  2452.160445"
      ]
     },
     "execution_count": 30,
     "metadata": {},
     "output_type": "execute_result"
    }
   ],
   "source": [
    "df"
   ]
  },
  {
   "cell_type": "code",
   "execution_count": 32,
   "metadata": {},
   "outputs": [],
   "source": [
    "df.to_csv(\"./temp.csv\")"
   ]
  },
  {
   "cell_type": "code",
   "execution_count": null,
   "metadata": {},
   "outputs": [],
   "source": []
  }
 ],
 "metadata": {
  "kernelspec": {
   "display_name": "Python 3",
   "language": "python",
   "name": "python3"
  },
  "language_info": {
   "codemirror_mode": {
    "name": "ipython",
    "version": 3
   },
   "file_extension": ".py",
   "mimetype": "text/x-python",
   "name": "python",
   "nbconvert_exporter": "python",
   "pygments_lexer": "ipython3",
   "version": "3.6.2"
  }
 },
 "nbformat": 4,
 "nbformat_minor": 2
}
