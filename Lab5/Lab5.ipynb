{
 "cells": [
  {
   "cell_type": "markdown",
   "metadata": {},
   "source": [
    "# Experiment 3 - Measuring $h$ and $\\phi$ with LEDs\n",
    "\n",
    "## Objective:\n",
    "* We will use the photoelectric effect to determine Plank's constant $h$, and the work function $\\phi$ and cutoff frequency $f_o$ of the semiconductor in the phototube.\n",
    "\n",
    "## Method:\n",
    "\n",
    "The main equation we use in this experiment is the photoelectric effect equation:\n",
    "\n",
    "$$K_{max} = hf - \\phi$$\n",
    "\n",
    "We also have:\n",
    "\n",
    "$$K_{max} = eV_{stop}$$\n",
    "\n",
    "So therefore, \n",
    "\n",
    "$$eV_{stop} = hf - \\phi$$\n",
    "\n",
    "We also define the cutoff frequency $f_o$ as the frequency at which the photocurrent goes to zero.  $f_o$ is given theoretically as:\n",
    "\n",
    "$$f_o = \\frac{\\phi}{h}$$\n",
    "\n",
    "In order to determine $h$, $\\phi$, and $f_o$, we will find $V_{stop}$ for each of the LEDs and perform a linear fit on our data.\n",
    "\n",
    "\n",
    "To start this experiment, we set up materials according to the section \"The Photoelectric Effect Setup\" in the lab manual.  We then calibrated the apparatus using the procedure specified in the lab manual.  For each of the LEDs, we took a series of data points from which we were able to determine $V_{stop}$.  At that point, finding $h$, $\\phi$, and $f_o$ is simply a matter of data analysis.\n",
    "\n",
    "## Data Analysis:\n",
    "\n",
    "a) <b>Wavelengths</b>: What wavelengths and uncertainties should we use for our LED data? Explain or justify\n",
    "\n",
    "In the previous experiment, we determined that the red LED had wavelengths between 548 and 632 nm. That spread of wavelengths corresponds to an uncertainty of $\\frac{(632 - 548)  }{2} = 42$.  However, we noticed that these wavelengths actually correspond Orange, Yellow, and Green light, so while we accurately measured the spread in wavelengths, we believe that we did not properly measure the actual wavelength.  Because the Blue and Green LEDs had a similar spread in wavelengths, we will use the listed value of wavelength in the lab manual for each LED, and we will use an uncertainty of 42 nm to take into account the spread over wavelengths for LEDs.  Therefore:\n",
    "\n",
    "$$\\boxed{\n",
    "\\text{Blue Wavelength: $462 \\pm 42$ nm} \\\\\n",
    "\\text{Green Wavelength: $533\\pm 42$ nm}\\\\\n",
    "\\text{Red Wavelength: $618 \\pm 42$ nm}\n",
    "}$$\n",
    "\n",
    "b) <b>Stopping Voltage/Max KE</b>: For each of the data sets, determine the stopping voltage with uncertainty.  Describe how you are using your data to do so, including any necessary analyses.\n",
    "\n",
    "\n",
    "The following Data Tables and Graphs represent the Data we took for this experiment.  In each of the Data Tables, \"V\" represents the voltage running through the photoelectric effect circuit in millivolts, \"Photocurrent\" of course refers to the photocurrent, as measured in milliamps. \"delta_pc\" refers to the uncertainty in the measurement of the photocurrent.\n",
    "\n",
    "<b> Blue</b>:"
   ]
  },
  {
   "cell_type": "code",
   "execution_count": 20,
   "metadata": {},
   "outputs": [
    {
     "data": {
      "text/html": [
       "<div>\n",
       "<style scoped>\n",
       "    .dataframe tbody tr th:only-of-type {\n",
       "        vertical-align: middle;\n",
       "    }\n",
       "\n",
       "    .dataframe tbody tr th {\n",
       "        vertical-align: top;\n",
       "    }\n",
       "\n",
       "    .dataframe thead th {\n",
       "        text-align: right;\n",
       "    }\n",
       "</style>\n",
       "<table border=\"1\" class=\"dataframe\">\n",
       "  <thead>\n",
       "    <tr style=\"text-align: right;\">\n",
       "      <th></th>\n",
       "      <th>V</th>\n",
       "      <th>Photocurrent</th>\n",
       "      <th>delta_pc</th>\n",
       "    </tr>\n",
       "  </thead>\n",
       "  <tbody>\n",
       "    <tr>\n",
       "      <th>0</th>\n",
       "      <td>-931</td>\n",
       "      <td>0</td>\n",
       "      <td>1</td>\n",
       "    </tr>\n",
       "    <tr>\n",
       "      <th>1</th>\n",
       "      <td>-800</td>\n",
       "      <td>114</td>\n",
       "      <td>2</td>\n",
       "    </tr>\n",
       "    <tr>\n",
       "      <th>2</th>\n",
       "      <td>-700</td>\n",
       "      <td>321</td>\n",
       "      <td>2</td>\n",
       "    </tr>\n",
       "    <tr>\n",
       "      <th>3</th>\n",
       "      <td>-600</td>\n",
       "      <td>680</td>\n",
       "      <td>2</td>\n",
       "    </tr>\n",
       "    <tr>\n",
       "      <th>4</th>\n",
       "      <td>-500</td>\n",
       "      <td>1194</td>\n",
       "      <td>2</td>\n",
       "    </tr>\n",
       "    <tr>\n",
       "      <th>5</th>\n",
       "      <td>-300</td>\n",
       "      <td>2661</td>\n",
       "      <td>2</td>\n",
       "    </tr>\n",
       "    <tr>\n",
       "      <th>6</th>\n",
       "      <td>-100</td>\n",
       "      <td>4563</td>\n",
       "      <td>2</td>\n",
       "    </tr>\n",
       "    <tr>\n",
       "      <th>7</th>\n",
       "      <td>0</td>\n",
       "      <td>5598</td>\n",
       "      <td>2</td>\n",
       "    </tr>\n",
       "    <tr>\n",
       "      <th>8</th>\n",
       "      <td>200</td>\n",
       "      <td>7684</td>\n",
       "      <td>3</td>\n",
       "    </tr>\n",
       "    <tr>\n",
       "      <th>9</th>\n",
       "      <td>400</td>\n",
       "      <td>9779</td>\n",
       "      <td>2</td>\n",
       "    </tr>\n",
       "  </tbody>\n",
       "</table>\n",
       "</div>"
      ],
      "text/plain": [
       "     V  Photocurrent  delta_pc\n",
       "0 -931             0         1\n",
       "1 -800           114         2\n",
       "2 -700           321         2\n",
       "3 -600           680         2\n",
       "4 -500          1194         2\n",
       "5 -300          2661         2\n",
       "6 -100          4563         2\n",
       "7    0          5598         2\n",
       "8  200          7684         3\n",
       "9  400          9779         2"
      ]
     },
     "execution_count": 20,
     "metadata": {},
     "output_type": "execute_result"
    }
   ],
   "source": [
    "blue"
   ]
  },
  {
   "cell_type": "code",
   "execution_count": 7,
   "metadata": {},
   "outputs": [
    {
     "data": {
      "image/png": "[encoded data removed]",
      "text/plain": [
       "<Figure size 432x288 with 1 Axes>"
      ]
     },
     "metadata": {
      "needs_background": "light"
     },
     "output_type": "display_data"
    }
   ],
   "source": [
    "plt.plot(blue.V, blue.Photocurrent)\n",
    "plt.xlabel(\"Voltage (mv)\")\n",
    "plt.ylabel(\"Photocurrent (mA)\")\n",
    "plt.title(\"Photocurrent Vs. Voltage (Blue)\")\n",
    "plt.grid()"
   ]
  },
  {
   "cell_type": "markdown",
   "metadata": {},
   "source": [
    "<b>Green:</b>"
   ]
  },
  {
   "cell_type": "code",
   "execution_count": 19,
   "metadata": {},
   "outputs": [
    {
     "data": {
      "text/html": [
       "<div>\n",
       "<style scoped>\n",
       "    .dataframe tbody tr th:only-of-type {\n",
       "        vertical-align: middle;\n",
       "    }\n",
       "\n",
       "    .dataframe tbody tr th {\n",
       "        vertical-align: top;\n",
       "    }\n",
       "\n",
       "    .dataframe thead th {\n",
       "        text-align: right;\n",
       "    }\n",
       "</style>\n",
       "<table border=\"1\" class=\"dataframe\">\n",
       "  <thead>\n",
       "    <tr style=\"text-align: right;\">\n",
       "      <th></th>\n",
       "      <th>V</th>\n",
       "      <th>Photocurrent</th>\n",
       "      <th>delta_pc</th>\n",
       "    </tr>\n",
       "  </thead>\n",
       "  <tbody>\n",
       "    <tr>\n",
       "      <th>0</th>\n",
       "      <td>-750</td>\n",
       "      <td>0</td>\n",
       "      <td>3</td>\n",
       "    </tr>\n",
       "    <tr>\n",
       "      <th>1</th>\n",
       "      <td>-600</td>\n",
       "      <td>18</td>\n",
       "      <td>3</td>\n",
       "    </tr>\n",
       "    <tr>\n",
       "      <th>2</th>\n",
       "      <td>-400</td>\n",
       "      <td>223</td>\n",
       "      <td>2</td>\n",
       "    </tr>\n",
       "    <tr>\n",
       "      <th>3</th>\n",
       "      <td>-200</td>\n",
       "      <td>945</td>\n",
       "      <td>2</td>\n",
       "    </tr>\n",
       "    <tr>\n",
       "      <th>4</th>\n",
       "      <td>0</td>\n",
       "      <td>2056</td>\n",
       "      <td>2</td>\n",
       "    </tr>\n",
       "    <tr>\n",
       "      <th>5</th>\n",
       "      <td>100</td>\n",
       "      <td>2653</td>\n",
       "      <td>2</td>\n",
       "    </tr>\n",
       "    <tr>\n",
       "      <th>6</th>\n",
       "      <td>200</td>\n",
       "      <td>3236</td>\n",
       "      <td>2</td>\n",
       "    </tr>\n",
       "    <tr>\n",
       "      <th>7</th>\n",
       "      <td>300</td>\n",
       "      <td>3815</td>\n",
       "      <td>2</td>\n",
       "    </tr>\n",
       "    <tr>\n",
       "      <th>8</th>\n",
       "      <td>400</td>\n",
       "      <td>4392</td>\n",
       "      <td>1</td>\n",
       "    </tr>\n",
       "  </tbody>\n",
       "</table>\n",
       "</div>"
      ],
      "text/plain": [
       "     V  Photocurrent  delta_pc\n",
       "0 -750             0         3\n",
       "1 -600            18         3\n",
       "2 -400           223         2\n",
       "3 -200           945         2\n",
       "4    0          2056         2\n",
       "5  100          2653         2\n",
       "6  200          3236         2\n",
       "7  300          3815         2\n",
       "8  400          4392         1"
      ]
     },
     "execution_count": 19,
     "metadata": {},
     "output_type": "execute_result"
    }
   ],
   "source": [
    "green"
   ]
  },
  {
   "cell_type": "code",
   "execution_count": 12,
   "metadata": {},
   "outputs": [
    {
     "data": {
      "image/png": "[encoded data removed]",
      "text/plain": [
       "<Figure size 432x288 with 1 Axes>"
      ]
     },
     "metadata": {
      "needs_background": "light"
     },
     "output_type": "display_data"
    }
   ],
   "source": [
    "plt.plot(green.V, green.Photocurrent)\n",
    "plt.xlabel(\"Voltage (mv)\")\n",
    "plt.ylabel(\"Photocurrent (mA)\")\n",
    "plt.title(\"Photocurrent Vs. Voltage (Green)\")\n",
    "plt.grid()"
   ]
  },
  {
   "cell_type": "markdown",
   "metadata": {},
   "source": [
    "<b>Red:</b>"
   ]
  },
  {
   "cell_type": "code",
   "execution_count": 61,
   "metadata": {},
   "outputs": [
    {
     "data": {
      "text/html": [
       "<div>\n",
       "<style scoped>\n",
       "    .dataframe tbody tr th:only-of-type {\n",
       "        vertical-align: middle;\n",
       "    }\n",
       "\n",
       "    .dataframe tbody tr th {\n",
       "        vertical-align: top;\n",
       "    }\n",
       "\n",
       "    .dataframe thead th {\n",
       "        text-align: right;\n",
       "    }\n",
       "</style>\n",
       "<table border=\"1\" class=\"dataframe\">\n",
       "  <thead>\n",
       "    <tr style=\"text-align: right;\">\n",
       "      <th></th>\n",
       "      <th>V</th>\n",
       "      <th>Photocurrent</th>\n",
       "      <th>delta_pc</th>\n",
       "    </tr>\n",
       "  </thead>\n",
       "  <tbody>\n",
       "    <tr>\n",
       "      <th>0</th>\n",
       "      <td>-400</td>\n",
       "      <td>0</td>\n",
       "      <td>2</td>\n",
       "    </tr>\n",
       "    <tr>\n",
       "      <th>1</th>\n",
       "      <td>-300</td>\n",
       "      <td>9</td>\n",
       "      <td>2</td>\n",
       "    </tr>\n",
       "    <tr>\n",
       "      <th>2</th>\n",
       "      <td>-200</td>\n",
       "      <td>28</td>\n",
       "      <td>2</td>\n",
       "    </tr>\n",
       "    <tr>\n",
       "      <th>3</th>\n",
       "      <td>-100</td>\n",
       "      <td>128</td>\n",
       "      <td>2</td>\n",
       "    </tr>\n",
       "    <tr>\n",
       "      <th>4</th>\n",
       "      <td>0</td>\n",
       "      <td>392</td>\n",
       "      <td>2</td>\n",
       "    </tr>\n",
       "    <tr>\n",
       "      <th>5</th>\n",
       "      <td>100</td>\n",
       "      <td>720</td>\n",
       "      <td>2</td>\n",
       "    </tr>\n",
       "    <tr>\n",
       "      <th>6</th>\n",
       "      <td>200</td>\n",
       "      <td>1034</td>\n",
       "      <td>2</td>\n",
       "    </tr>\n",
       "    <tr>\n",
       "      <th>7</th>\n",
       "      <td>300</td>\n",
       "      <td>1323</td>\n",
       "      <td>2</td>\n",
       "    </tr>\n",
       "    <tr>\n",
       "      <th>8</th>\n",
       "      <td>400</td>\n",
       "      <td>1586</td>\n",
       "      <td>2</td>\n",
       "    </tr>\n",
       "  </tbody>\n",
       "</table>\n",
       "</div>"
      ],
      "text/plain": [
       "     V  Photocurrent  delta_pc\n",
       "0 -400             0         2\n",
       "1 -300             9         2\n",
       "2 -200            28         2\n",
       "3 -100           128         2\n",
       "4    0           392         2\n",
       "5  100           720         2\n",
       "6  200          1034         2\n",
       "7  300          1323         2\n",
       "8  400          1586         2"
      ]
     },
     "execution_count": 61,
     "metadata": {},
     "output_type": "execute_result"
    }
   ],
   "source": [
    "red"
   ]
  },
  {
   "cell_type": "code",
   "execution_count": 15,
   "metadata": {},
   "outputs": [
    {
     "data": {
      "image/png": "[encoded data removed]",
      "text/plain": [
       "<Figure size 432x288 with 1 Axes>"
      ]
     },
     "metadata": {
      "needs_background": "light"
     },
     "output_type": "display_data"
    }
   ],
   "source": [
    "plt.plot(red.V, red.Photocurrent)\n",
    "plt.xlabel(\"Voltage (mv)\")\n",
    "plt.ylabel(\"Photocurrent (mA)\")\n",
    "plt.title(\"Photocurrent Vs. Voltage (Red)\")\n",
    "plt.grid()"
   ]
  },
  {
   "cell_type": "markdown",
   "metadata": {},
   "source": [
    "By inspecting these graphs, it is clear that they would not follow a linear hypothesis.  Because we don't know the geometry or specific properties of the semi-conductor and apparatus, we do not have a theoretical hypothesis to which we ought to fit our data.  We were also informed by a lab instructor that fitting the data to a linear hypothesis was actually very inaccurate.  Therefore the best we can do to determine the stopping voltage is to use the first voltage at which the photocurrent was measured to be zero.  \n",
    "\n",
    "To find the uncertainty in $V_{stop}$, I will assume the slope between the first and second data points is approximately linear, which allows me to use the following proportion:\n",
    "\n",
    "$$ \\frac{V_2 - V_1}{I_2 - I_1} = \\frac{\\delta V}{\\delta I}$$\n",
    "\n",
    "Where \"V\" is voltage and \"I\" is photocurrent.  Now we already know the uncertainty in photocurrent, $\\delta I$, so we can use the above equation to calculate the approximate uncertainty $\\delta V$ as:\n",
    "\n",
    "$$\\delta V= \\delta I\\cdot \\frac{V_2 - V_1}{I_2 - I_1}$$\n",
    "\n",
    "So then according to this procedure:\n",
    "\n",
    "$$\\boxed{\n",
    "\\text{Blue $V_{stop} = -950 \\pm 2.3$ mV}\\\\\n",
    "\\text{Green $V_{stop} = -750 \\pm 17$ mV}\\\\\n",
    "\\text{Red $V_{stop} = -400 \\pm 22$ mV}\n",
    "}$$\n",
    "\n",
    "\n",
    "c) <b>Physical Values</b>: Use the previous results to make a scatter plot of our three data points with uncertainties.\n",
    "Perform analyses to find Planck’s constant, the work function of the photodiode, and the cutoff frequency, with\n",
    "uncertainties. \n",
    "\n",
    "\n",
    "First note that from the previous part, we have\n",
    "\n",
    "Blue $K_{max} = 931 \\pm 2.3$ meV\n",
    "\n",
    "Green $K_{max} = 750 \\pm 17$ meV\n",
    "\n",
    "Red $K_{max} = 400 \\pm 22$ meV\n",
    "\n",
    "In part a) we found the wavelengths of the LEDs, and using $f = \\frac{c}{\\lambda}$, we can find the corresponding frequencies, and their respective uncertainties.\n",
    "\n",
    "\n",
    "The following data represents the data in use.  Here \"f\" and \"df\" represent frequency and the uncertainty in frequency respectively measured in hz.  \"K\" and \"dK\" represent $K_{max}$ and its uncertainty respectively, both in eV.\n"
   ]
  },
  {
   "cell_type": "code",
   "execution_count": 42,
   "metadata": {
    "scrolled": true
   },
   "outputs": [
    {
     "data": {
      "text/html": [
       "<div>\n",
       "<style scoped>\n",
       "    .dataframe tbody tr th:only-of-type {\n",
       "        vertical-align: middle;\n",
       "    }\n",
       "\n",
       "    .dataframe tbody tr th {\n",
       "        vertical-align: top;\n",
       "    }\n",
       "\n",
       "    .dataframe thead th {\n",
       "        text-align: right;\n",
       "    }\n",
       "</style>\n",
       "<table border=\"1\" class=\"dataframe\">\n",
       "  <thead>\n",
       "    <tr style=\"text-align: right;\">\n",
       "      <th></th>\n",
       "      <th>f</th>\n",
       "      <th>df</th>\n",
       "      <th>K</th>\n",
       "      <th>dK</th>\n",
       "    </tr>\n",
       "  </thead>\n",
       "  <tbody>\n",
       "    <tr>\n",
       "      <th>0</th>\n",
       "      <td>6.500000e+14</td>\n",
       "      <td>5.900000e+13</td>\n",
       "      <td>0.931</td>\n",
       "      <td>0.0023</td>\n",
       "    </tr>\n",
       "    <tr>\n",
       "      <th>1</th>\n",
       "      <td>5.620000e+14</td>\n",
       "      <td>4.320000e+13</td>\n",
       "      <td>0.750</td>\n",
       "      <td>0.0170</td>\n",
       "    </tr>\n",
       "    <tr>\n",
       "      <th>2</th>\n",
       "      <td>4.850000e+14</td>\n",
       "      <td>3.300000e+13</td>\n",
       "      <td>0.400</td>\n",
       "      <td>0.0230</td>\n",
       "    </tr>\n",
       "  </tbody>\n",
       "</table>\n",
       "</div>"
      ],
      "text/plain": [
       "              f            df      K      dK\n",
       "0  6.500000e+14  5.900000e+13  0.931  0.0023\n",
       "1  5.620000e+14  4.320000e+13  0.750  0.0170\n",
       "2  4.850000e+14  3.300000e+13  0.400  0.0230"
      ]
     },
     "execution_count": 42,
     "metadata": {},
     "output_type": "execute_result"
    }
   ],
   "source": [
    "data3"
   ]
  },
  {
   "cell_type": "markdown",
   "metadata": {},
   "source": [
    "The following scatterplot shows the above data with corresponding uncertainties:"
   ]
  },
  {
   "cell_type": "code",
   "execution_count": 57,
   "metadata": {},
   "outputs": [
    {
     "data": {
      "image/png": "[encoded data removed]",
      "text/plain": [
       "<Figure size 432x288 with 1 Axes>"
      ]
     },
     "metadata": {
      "needs_background": "light"
     },
     "output_type": "display_data"
    }
   ],
   "source": [
    "plt.errorbar(data3.f, data3.K, yerr=data3.dK, xerr=data3.df, fmt='.')\n",
    "plt.xlabel(\"Frequency (Hz)\")\n",
    "plt.ylabel(\"K Max (eV)\")\n",
    "plt.title(\"K Max vs. Frequency\")\n",
    "plt.grid()"
   ]
  },
  {
   "cell_type": "markdown",
   "metadata": {},
   "source": [
    "Note: Some of the error bars are difficult to see due to their size.\n",
    "\n",
    "The following script calculates $h$, $\\phi$, and $f_o$ using weighted-least squares to take into account the uncertainties in both variables.  Note that in terms of least square parameters, $h = \\hat{m}$ and $\\phi = -\\hat{b}$."
   ]
  },
  {
   "cell_type": "code",
   "execution_count": 64,
   "metadata": {},
   "outputs": [
    {
     "name": "stdout",
     "output_type": "stream",
     "text": [
      "h:  3.429585401268889e-15 +- 1.2644512771438088e-15\n",
      "phi:  1.2424613147822834 +- 0.6834848847173054\n",
      "f : 362277409485879.44 +- -199290819369719.6\n"
     ]
    }
   ],
   "source": [
    "dd = data3\n",
    "m_s = ((dd.f * dd.K).mean() - (dd.f.mean() * dd.K.mean()))/((dd.f **2).mean() - (dd.f.mean()**2))\n",
    "w = 1/((dd.dK**2) + ((m_s * dd.df)**2))\n",
    "denom = (w.sum() * (w*dd.f*dd.f).sum()) - (((w*dd.f).sum())**2)\n",
    "m = (w.sum()*(w*dd.f*dd.K).sum() - ((w*dd.f).sum() * (w*dd.K).sum())) / denom \n",
    "dm = (w.sum()/denom)**0.5\n",
    "b = ((w*dd.K).sum() - m*(w*dd.f).sum()) / (w.sum())\n",
    "db = ((w * dd.f*dd.f).sum()/denom)**0.5\n",
    "print(\"h: \", m, \"+-\", dm)\n",
    "print(\"phi: \", -b, \"+-\", db)\n",
    "print(\"f :\", -b/m, \"+-\", -db/m)"
   ]
  },
  {
   "cell_type": "markdown",
   "metadata": {},
   "source": [
    "There we see that according to our data:\n",
    "\n",
    "$$\\boxed{\n",
    "h = 3.43\\cdot 10^{-15} \\pm 1.26 \\cdot 10^{-15} \\text{ eV}\\cdot\\text{s} \\\\\n",
    "\\phi = 1.24 \\pm 0.68 \\text{ eV} \\\\\n",
    "f_o = 3.62\\cdot 10^{14} \\pm 1.99 \\cdot 10^{14} \\text{ Hz}\n",
    "}$$\n",
    "\n",
    "Simple agreement tests yield 0.28 for $h$ and 0.25 for $f_o$ using the actual values posted in the lab manual, so we see that our experimentally determined values agree with the actual values."
   ]
  },
  {
   "cell_type": "code",
   "execution_count": 100,
   "metadata": {},
   "outputs": [],
   "source": [
    "import pandas as pd\n",
    "import math\n",
    "import numpy as np\n",
    "from IPython.display import Image\n",
    "im2 = Image('fig2.jpg')\n",
    "im1 = Image('fig1.jpg')"
   ]
  },
  {
   "cell_type": "markdown",
   "metadata": {},
   "source": [
    "# Experiment 4 - Measuring $h$ and $\\phi$ with Lasers \n",
    "## Objective\n",
    "The purpose of this lab is to once again find $h$ and $\\phi$ like in Experiment 3, but this time we will be using red, green, and violet lasers, which have a much smaller spread in wavelength.  \n",
    "\n",
    "\n",
    "\n"
   ]
  },
  {
   "cell_type": "markdown",
   "metadata": {},
   "source": [
    "## Method\n",
    "In this experiment we used basically the same procedure as experiment 3, but first we had to determine the wavelengths of the violent and green lasers.\n",
    "\n",
    "\n",
    "### Measuring wavelength of the green and violet lasers\n",
    "- Setup materials with the violet laser according to the figure below, making sure everything is aligned with the optical axis:\n",
    "\n",
    "![Experiment 4](fig1.jpg)\n",
    "\n",
    "  "
   ]
  },
  {
   "cell_type": "markdown",
   "metadata": {},
   "source": [
    "Note that in the following analysis, we let the variable $a$ equal the distance between the diffraction grating and the screen, and we let the variable $b$ represent the distance between the central maximum and first fringe of the diffraction pattern on the screen.  So then, to collect data, we simply found $a$ and $b$ using first the violet laser, and then the green laser, and then we used the following equations.\n",
    "\n",
    "From theory we know that if $\\theta$ is the angle between the central maximum and the first fringe, $d$ is the slit width of the diffraction grating, and $\\lambda$ is the wavelength of the light being used, we have:\n",
    "\n",
    "$$\\lambda = d\\sin(\\theta) $$\n",
    "\n",
    "We also know that based on how the variables were defined, \n",
    "\n",
    "$$ \\theta = \\arctan \\left(\\frac{a}{b}\\right) \\implies \\lambda = \\frac{da}{\\sqrt{a^2 + b^2}}$$\n",
    "\n",
    "If we finally note that in terms of the slight density $D$, $d = \\frac{1}{D}$, we have:\n",
    "\n",
    "$$\\lambda = \\frac{a}{D\\sqrt{a^2 + b^2}}$$\n",
    "\n",
    "and therefore,\n",
    "\n",
    "$$\\delta\\lambda = \\sqrt{\\dfrac{\\left((a^{3} + b^{2}a)\\frac{\\delta D}{D}\\right)^{2} + (b^{2}\\delta a)^{2} + (ab\\delta b)^{2}}{D^{2}(a^{2}+b^{2})^{3}}}$$\n",
    "\n",
    "To find the corresponding frequencies of each laser, we simply used:\n",
    "\n",
    "$$ f= \\frac{c}{\\lambda}$$\n",
    "\n",
    "and,\n",
    "\n",
    "$$ \\delta f = \\frac{c \\: \\delta\\lambda}{\\lambda^2}$$\n",
    "\n",
    "Finally, it should be noted that in Experiment 1, we measured the slit density $D$ to be $D = 5233 \\pm 49 \\; slits \\cdot cm^{-1}$."
   ]
  },
  {
   "cell_type": "markdown",
   "metadata": {},
   "source": [
    "### Measuring stopping voltage of each laser\n",
    "To measure the stopping voltage, we first setup the circuit as indicated in the figure below\n",
    "![Experiment 4](fig2.jpg)\n",
    "\n",
    "To calibrate the phototube, we simple covered the lid of the phototube and pressed the calibration button for 5 seconds.\n",
    "We then shined the laser pen through a diverging lens to disperse the light and ensure that the photodiode was properly illuminated.  Noting from the previous experiment that the \"Photocurrent vs. Voltage\" curve was not a linear relationship, we simply decreased the voltage of the apparatus until the photocurrent went to zero.  By noting the fluctuations in the reading we were able to determine the uncertainty in each measurement.  As in the previous experiment, we have:\n",
    "\n",
    "$$eV_{stop} = hf - \\phi$$\n",
    "\n",
    "So the, finding $h$ and $\\phi$ just becomes a matter of fitting our data for $eV_{stop} $ and $f$ to a linear hypothesis and reading off the regression parameters $\\hat{m}$ and $\\hat{b}$."
   ]
  },
  {
   "cell_type": "markdown",
   "metadata": {},
   "source": [
    "## Data Analysis   \n",
    "\n",
    "The wavelength of red laser is given to be:\n",
    "$$\\lambda_{red}=634.6nm$$\n",
    "\n",
    "For the violet laser, we measured $b_{v}=24.2\\pm0.05cm$ and $a_{v}=5.0\\pm0.05cm$.  Using the equations in the <b>Method</b> section, we therefore determined:\n",
    "\n",
    "$$\\lambda_{violet} = 387\\pm5.24nm$$\n",
    "\n",
    "\n",
    "For the green laser, we measured $b_{g}=21.7\\pm0.05cm$ and $a_{g}=6.0\\pm0.05cm$.  Using the same equations, we determined:\n",
    "\n",
    "$$\\lambda_{green} = 510\\pm6.28nm$$\n",
    "\n",
    "After taking all the data, we have the following data table.  Here \"Vstop\" and \"DeltaV\" denote the stopping voltage and its associated uncertainty respectively, with units of mV, and lambda and DeltaLambda denotes the wavelength of light and its associated uncertainty respectively, with unit of nm.\n",
    "\n",
    "\n",
    "\n"
   ]
  },
  {
   "cell_type": "code",
   "execution_count": 4,
   "metadata": {},
   "outputs": [
    {
     "data": {
      "text/html": [
       "<div>\n",
       "<style scoped>\n",
       "    .dataframe tbody tr th:only-of-type {\n",
       "        vertical-align: middle;\n",
       "    }\n",
       "\n",
       "    .dataframe tbody tr th {\n",
       "        vertical-align: top;\n",
       "    }\n",
       "\n",
       "    .dataframe thead th {\n",
       "        text-align: right;\n",
       "    }\n",
       "</style>\n",
       "<table border=\"1\" class=\"dataframe\">\n",
       "  <thead>\n",
       "    <tr style=\"text-align: right;\">\n",
       "      <th></th>\n",
       "      <th>Color</th>\n",
       "      <th>Vstop</th>\n",
       "      <th>DeltaV</th>\n",
       "      <th>lambda</th>\n",
       "      <th>DeltaLambda</th>\n",
       "    </tr>\n",
       "  </thead>\n",
       "  <tbody>\n",
       "    <tr>\n",
       "      <th>0</th>\n",
       "      <td>red</td>\n",
       "      <td>-314</td>\n",
       "      <td>2</td>\n",
       "      <td>634.6</td>\n",
       "      <td>0.00</td>\n",
       "    </tr>\n",
       "    <tr>\n",
       "      <th>1</th>\n",
       "      <td>green</td>\n",
       "      <td>-609</td>\n",
       "      <td>2</td>\n",
       "      <td>510.0</td>\n",
       "      <td>6.28</td>\n",
       "    </tr>\n",
       "    <tr>\n",
       "      <th>2</th>\n",
       "      <td>violet</td>\n",
       "      <td>-1240</td>\n",
       "      <td>2</td>\n",
       "      <td>387.0</td>\n",
       "      <td>5.24</td>\n",
       "    </tr>\n",
       "  </tbody>\n",
       "</table>\n",
       "</div>"
      ],
      "text/plain": [
       "    Color  Vstop  DeltaV  lambda  DeltaLambda\n",
       "0     red   -314       2   634.6         0.00\n",
       "1   green   -609       2   510.0         6.28\n",
       "2  violet  -1240       2   387.0         5.24"
      ]
     },
     "execution_count": 4,
     "metadata": {},
     "output_type": "execute_result"
    }
   ],
   "source": [
    "data4 = pd.DataFrame({'Color':['red', 'green', 'violet'], \n",
    "                      'Vstop':[-314, -609, -1240], \n",
    "                      'DeltaV':[2, 2, 2], \n",
    "                      'lambda':[634.6, 510, 387], \n",
    "                      'DeltaLambda': [0, 6.28, 5.24]})\n",
    "data4"
   ]
  },
  {
   "cell_type": "markdown",
   "metadata": {},
   "source": [
    "We would like $K_{max}$ in terms of $f$, so this following data takes the above data, and uses the equation in the <b>Method</b> section to find the desired quantities.  In this data table, Kmax and DeltaKmax denotes the maximum kinetic energy of photoelectron and its associated uncertainty respectively, with units of eV, and f and Deltaf denotes the incident laser frequency and its associated uncertainty respectively, with unit of Hz."
   ]
  },
  {
   "cell_type": "code",
   "execution_count": 7,
   "metadata": {},
   "outputs": [
    {
     "data": {
      "text/html": [
       "<div>\n",
       "<style scoped>\n",
       "    .dataframe tbody tr th:only-of-type {\n",
       "        vertical-align: middle;\n",
       "    }\n",
       "\n",
       "    .dataframe tbody tr th {\n",
       "        vertical-align: top;\n",
       "    }\n",
       "\n",
       "    .dataframe thead th {\n",
       "        text-align: right;\n",
       "    }\n",
       "</style>\n",
       "<table border=\"1\" class=\"dataframe\">\n",
       "  <thead>\n",
       "    <tr style=\"text-align: right;\">\n",
       "      <th></th>\n",
       "      <th>f</th>\n",
       "      <th>Deltaf</th>\n",
       "      <th>Kmax</th>\n",
       "      <th>DeltaKmax</th>\n",
       "    </tr>\n",
       "  </thead>\n",
       "  <tbody>\n",
       "    <tr>\n",
       "      <th>0</th>\n",
       "      <td>4.727387e+14</td>\n",
       "      <td>-0.000000e+00</td>\n",
       "      <td>0.314</td>\n",
       "      <td>0.002</td>\n",
       "    </tr>\n",
       "    <tr>\n",
       "      <th>1</th>\n",
       "      <td>5.882353e+14</td>\n",
       "      <td>-7.243368e+12</td>\n",
       "      <td>0.609</td>\n",
       "      <td>0.002</td>\n",
       "    </tr>\n",
       "    <tr>\n",
       "      <th>2</th>\n",
       "      <td>7.751938e+14</td>\n",
       "      <td>-1.049616e+13</td>\n",
       "      <td>1.240</td>\n",
       "      <td>0.002</td>\n",
       "    </tr>\n",
       "  </tbody>\n",
       "</table>\n",
       "</div>"
      ],
      "text/plain": [
       "              f        Deltaf   Kmax  DeltaKmax\n",
       "0  4.727387e+14 -0.000000e+00  0.314      0.002\n",
       "1  5.882353e+14 -7.243368e+12  0.609      0.002\n",
       "2  7.751938e+14 -1.049616e+13  1.240      0.002"
      ]
     },
     "execution_count": 7,
     "metadata": {},
     "output_type": "execute_result"
    }
   ],
   "source": [
    "fit4 = pd.DataFrame()\n",
    "fit4['f'] = (3 * 10**17)/data4['lambda']\n",
    "fit4['Deltaf'] = -(3 * 10**17) * data4['DeltaLambda']/data4['lambda']**2\n",
    "fit4['Kmax'] = -data4['Vstop']*10**-3\n",
    "fit4['DeltaKmax'] = data4['DeltaV']*10**-3\n",
    "fit4"
   ]
  },
  {
   "cell_type": "markdown",
   "metadata": {},
   "source": [
    "The following plot gives a visual of this data with its associated uncertainties:"
   ]
  },
  {
   "cell_type": "code",
   "execution_count": 10,
   "metadata": {},
   "outputs": [
    {
     "data": {
      "image/png": "[encoded data removed]",
      "text/plain": [
       "<Figure size 432x288 with 1 Axes>"
      ]
     },
     "metadata": {
      "needs_background": "light"
     },
     "output_type": "display_data"
    }
   ],
   "source": [
    "plt.errorbar(fit4.f, fit4.Kmax, yerr=fit4.DeltaKmax, xerr=fit4.Deltaf, fmt='.')\n",
    "plt.xlabel(\"Frequency (Hz)\")\n",
    "plt.ylabel(\"K Max (eV)\")\n",
    "plt.title(\"K Max vs. Frequency\")\n",
    "plt.grid()"
   ]
  },
  {
   "cell_type": "markdown",
   "metadata": {},
   "source": [
    "Note that the error bars are very small and difficult to see.  Now that we have our data in the appropriate format, we used a weighted least-squares fit to fit our data to a linear hypothesis $K_{max} = \\hat{m}f + \\hat{b}$, noting that $h = \\hat{m}$ and $\\phi = -\\hat{b}$.  The script used to find the best fit parameters was quite long, and is therefore included in the References section.  After fitting the data, we found that:\n",
    "\n",
    "$$\\boxed{\n",
    "h = \\hat{m} = (2.94 \\pm 0.094) \\times 10^{-15}\\;eVs \\\\\n",
    "\\phi = -\\hat{b}= 1.08\\pm0.04 \\;eV}\n",
    "$$"
   ]
  },
  {
   "cell_type": "markdown",
   "metadata": {},
   "source": [
    "The accepted values for these two quantities is $h = 4.136 \\times 10^{-15} eV\\cdot s$ and $\\phi = 1.911 eV$.  Simple agreement tests between our data and the accepted values yield 6.3 for $h$ and 10.4 for $\\phi$.  Therefore we see that the values predicted by our data do not agree with accepted values.  I believe that the reason these values do not agree is because our values of uncertainty for $V_{stop}$ were too small. To measure these uncertainties, we simply measured the fluctuations in the measurement device, but based on the data we took in Experiment 3, it is likely that we did not properly determine the range of voltages over which $V_{stop}$ was nearly zero, which would have given us a larger uncertainty in our measurement, and may have caused the values we received in our analysis to agree with accepted values."
   ]
  },
  {
   "cell_type": "markdown",
   "metadata": {},
   "source": [
    "# Experiment 5 - Photocurrent vs. Intensity\n",
    "\n",
    "## Objective:\n",
    "\n",
    "The purpose of this experiment is to determine how the photocurrent of the photoelectric effect apparatus depends on the intensity of the incident light.\n",
    "\n",
    "## Method and Experimental Procedure:\n",
    "We first set up the photoelectric effect apparatus according to the section \"The Photoelectric Effect Setup\" in the lab manual.  We then calibrated the apparatus using the procedure specified in the lab manual, which basically entails covering the phototube, and then pushing the calibration button for 5 seconds.  \n",
    "\n",
    "We decided to only use the blue and the green LEDs for this experiment.  We were trying to determine the relationship between the Photocurrent and the and Intensity of the incident light, and so for a given LED, we set the voltage of the apparatus to 0 and varied the power of the LED and measured the Photocurrent.  \n",
    "\n",
    "\n",
    "After taking this data, we had a relationship between Power (L0xx) and the Photocurrent, and then we used the data tables provided to us by the lab instructor to convert between Power (L0xx) and Intensity.  This allowed us to make the data tables and graphs we needed which show the relationship between Intensity and Photocurrent."
   ]
  },
  {
   "cell_type": "markdown",
   "metadata": {},
   "source": [
    "## Data Analysis:\n",
    "\n",
    "The following data tables show the data we took for each LED in this experiment.  Here \"Power\" is measured in L0xx, \"Intensity\" is measured in Lux, and \"Photocurrent\" is measured in milliamps.  \"Delta_PC\" represents the corresponding measurement uncertainty in Photocurrent.\n",
    "\n",
    "\n",
    "Green Data:"
   ]
  },
  {
   "cell_type": "code",
   "execution_count": 22,
   "metadata": {},
   "outputs": [
    {
     "data": {
      "text/html": [
       "<div>\n",
       "<style scoped>\n",
       "    .dataframe tbody tr th:only-of-type {\n",
       "        vertical-align: middle;\n",
       "    }\n",
       "\n",
       "    .dataframe tbody tr th {\n",
       "        vertical-align: top;\n",
       "    }\n",
       "\n",
       "    .dataframe thead th {\n",
       "        text-align: right;\n",
       "    }\n",
       "</style>\n",
       "<table border=\"1\" class=\"dataframe\">\n",
       "  <thead>\n",
       "    <tr style=\"text-align: right;\">\n",
       "      <th></th>\n",
       "      <th>Power</th>\n",
       "      <th>Intensity</th>\n",
       "      <th>Photocurrent</th>\n",
       "      <th>Delta_PC</th>\n",
       "    </tr>\n",
       "  </thead>\n",
       "  <tbody>\n",
       "    <tr>\n",
       "      <th>0</th>\n",
       "      <td>15</td>\n",
       "      <td>26</td>\n",
       "      <td>19</td>\n",
       "      <td>2</td>\n",
       "    </tr>\n",
       "    <tr>\n",
       "      <th>1</th>\n",
       "      <td>19</td>\n",
       "      <td>4200</td>\n",
       "      <td>550</td>\n",
       "      <td>2</td>\n",
       "    </tr>\n",
       "    <tr>\n",
       "      <th>2</th>\n",
       "      <td>26</td>\n",
       "      <td>25800</td>\n",
       "      <td>1602</td>\n",
       "      <td>2</td>\n",
       "    </tr>\n",
       "    <tr>\n",
       "      <th>3</th>\n",
       "      <td>30</td>\n",
       "      <td>41100</td>\n",
       "      <td>2018</td>\n",
       "      <td>2</td>\n",
       "    </tr>\n",
       "    <tr>\n",
       "      <th>4</th>\n",
       "      <td>35</td>\n",
       "      <td>55900</td>\n",
       "      <td>2345</td>\n",
       "      <td>2</td>\n",
       "    </tr>\n",
       "    <tr>\n",
       "      <th>5</th>\n",
       "      <td>39</td>\n",
       "      <td>70200</td>\n",
       "      <td>2610</td>\n",
       "      <td>2</td>\n",
       "    </tr>\n",
       "  </tbody>\n",
       "</table>\n",
       "</div>"
      ],
      "text/plain": [
       "   Power  Intensity  Photocurrent  Delta_PC\n",
       "0     15         26            19         2\n",
       "1     19       4200           550         2\n",
       "2     26      25800          1602         2\n",
       "3     30      41100          2018         2\n",
       "4     35      55900          2345         2\n",
       "5     39      70200          2610         2"
      ]
     },
     "execution_count": 22,
     "metadata": {},
     "output_type": "execute_result"
    }
   ],
   "source": [
    "green5"
   ]
  },
  {
   "cell_type": "markdown",
   "metadata": {},
   "source": [
    "Blue Data:"
   ]
  },
  {
   "cell_type": "code",
   "execution_count": 23,
   "metadata": {},
   "outputs": [
    {
     "data": {
      "text/html": [
       "<div>\n",
       "<style scoped>\n",
       "    .dataframe tbody tr th:only-of-type {\n",
       "        vertical-align: middle;\n",
       "    }\n",
       "\n",
       "    .dataframe tbody tr th {\n",
       "        vertical-align: top;\n",
       "    }\n",
       "\n",
       "    .dataframe thead th {\n",
       "        text-align: right;\n",
       "    }\n",
       "</style>\n",
       "<table border=\"1\" class=\"dataframe\">\n",
       "  <thead>\n",
       "    <tr style=\"text-align: right;\">\n",
       "      <th></th>\n",
       "      <th>Power</th>\n",
       "      <th>Intensity</th>\n",
       "      <th>Photocurrent</th>\n",
       "      <th>Delta_PC</th>\n",
       "    </tr>\n",
       "  </thead>\n",
       "  <tbody>\n",
       "    <tr>\n",
       "      <th>0</th>\n",
       "      <td>18</td>\n",
       "      <td>1980</td>\n",
       "      <td>553</td>\n",
       "      <td>2</td>\n",
       "    </tr>\n",
       "    <tr>\n",
       "      <th>1</th>\n",
       "      <td>24</td>\n",
       "      <td>25500</td>\n",
       "      <td>3428</td>\n",
       "      <td>2</td>\n",
       "    </tr>\n",
       "    <tr>\n",
       "      <th>2</th>\n",
       "      <td>28</td>\n",
       "      <td>51300</td>\n",
       "      <td>4884</td>\n",
       "      <td>2</td>\n",
       "    </tr>\n",
       "    <tr>\n",
       "      <th>3</th>\n",
       "      <td>30</td>\n",
       "      <td>64600</td>\n",
       "      <td>5484</td>\n",
       "      <td>2</td>\n",
       "    </tr>\n",
       "    <tr>\n",
       "      <th>4</th>\n",
       "      <td>33</td>\n",
       "      <td>81000</td>\n",
       "      <td>6012</td>\n",
       "      <td>2</td>\n",
       "    </tr>\n",
       "    <tr>\n",
       "      <th>5</th>\n",
       "      <td>37</td>\n",
       "      <td>106000</td>\n",
       "      <td>6904</td>\n",
       "      <td>2</td>\n",
       "    </tr>\n",
       "  </tbody>\n",
       "</table>\n",
       "</div>"
      ],
      "text/plain": [
       "   Power  Intensity  Photocurrent  Delta_PC\n",
       "0     18       1980           553         2\n",
       "1     24      25500          3428         2\n",
       "2     28      51300          4884         2\n",
       "3     30      64600          5484         2\n",
       "4     33      81000          6012         2\n",
       "5     37     106000          6904         2"
      ]
     },
     "execution_count": 23,
     "metadata": {},
     "output_type": "execute_result"
    }
   ],
   "source": [
    "blue5"
   ]
  },
  {
   "cell_type": "markdown",
   "metadata": {},
   "source": [
    "The following graphs plot the Photocurrent versus the Intensity for each LED, with error bars.  Note that the error bars are basically impossible to see because they are so small.\n",
    "\n",
    "Green Graph:"
   ]
  },
  {
   "cell_type": "code",
   "execution_count": 28,
   "metadata": {},
   "outputs": [
    {
     "data": {
      "image/png": "[encoded data removed]",
      "text/plain": [
       "<Figure size 432x288 with 1 Axes>"
      ]
     },
     "metadata": {
      "needs_background": "light"
     },
     "output_type": "display_data"
    }
   ],
   "source": [
    "plt.errorbar(green5.Intensity, green5.Photocurrent, yerr=green5.Delta_PC)\n",
    "plt.title(\"Photocurrent vs. Intensity (Green)\")\n",
    "plt.xlabel(\"Intensity (Lux)\")\n",
    "plt.ylabel(\"Photocurrent (mA)\")\n",
    "plt.show()"
   ]
  },
  {
   "cell_type": "markdown",
   "metadata": {},
   "source": [
    "Blue Graph:"
   ]
  },
  {
   "cell_type": "code",
   "execution_count": 3,
   "metadata": {},
   "outputs": [
    {
     "ename": "NameError",
     "evalue": "name 'blue5' is not defined",
     "output_type": "error",
     "traceback": [
      "\u001b[1;31m---------------------------------------------------------------------------\u001b[0m",
      "\u001b[1;31mNameError\u001b[0m                                 Traceback (most recent call last)",
      "\u001b[1;32m<ipython-input-3-fd24736bc467>\u001b[0m in \u001b[0;36m<module>\u001b[1;34m\u001b[0m\n\u001b[1;32m----> 1\u001b[1;33m \u001b[0mplt\u001b[0m\u001b[1;33m.\u001b[0m\u001b[0merrorbar\u001b[0m\u001b[1;33m(\u001b[0m\u001b[0mblue5\u001b[0m\u001b[1;33m.\u001b[0m\u001b[0mIntensity\u001b[0m\u001b[1;33m,\u001b[0m \u001b[0mblue5\u001b[0m\u001b[1;33m.\u001b[0m\u001b[0mPhotocurrent\u001b[0m\u001b[1;33m,\u001b[0m \u001b[0myerr\u001b[0m\u001b[1;33m=\u001b[0m\u001b[0mblue5\u001b[0m\u001b[1;33m.\u001b[0m\u001b[0mDelta_PC\u001b[0m\u001b[1;33m)\u001b[0m\u001b[1;33m\u001b[0m\u001b[0m\n\u001b[0m\u001b[0;32m      2\u001b[0m \u001b[0mplt\u001b[0m\u001b[1;33m.\u001b[0m\u001b[0mtitle\u001b[0m\u001b[1;33m(\u001b[0m\u001b[1;34m\"Photocurrent vs. Intensity (Blue)\"\u001b[0m\u001b[1;33m)\u001b[0m\u001b[1;33m\u001b[0m\u001b[0m\n\u001b[0;32m      3\u001b[0m \u001b[0mplt\u001b[0m\u001b[1;33m.\u001b[0m\u001b[0mxlabel\u001b[0m\u001b[1;33m(\u001b[0m\u001b[1;34m\"Intensity (Lux)\"\u001b[0m\u001b[1;33m)\u001b[0m\u001b[1;33m\u001b[0m\u001b[0m\n\u001b[0;32m      4\u001b[0m \u001b[0mplt\u001b[0m\u001b[1;33m.\u001b[0m\u001b[0mylabel\u001b[0m\u001b[1;33m(\u001b[0m\u001b[1;34m\"Photocurrent (mA)\"\u001b[0m\u001b[1;33m)\u001b[0m\u001b[1;33m\u001b[0m\u001b[0m\n\u001b[0;32m      5\u001b[0m \u001b[0mplt\u001b[0m\u001b[1;33m.\u001b[0m\u001b[0mshow\u001b[0m\u001b[1;33m(\u001b[0m\u001b[1;33m)\u001b[0m\u001b[1;33m\u001b[0m\u001b[0m\n",
      "\u001b[1;31mNameError\u001b[0m: name 'blue5' is not defined"
     ]
    }
   ],
   "source": [
    "plt.errorbar(blue5.Intensity, blue5.Photocurrent, yerr=blue5.Delta_PC)\n",
    "plt.title(\"Photocurrent vs. Intensity (Blue)\")\n",
    "plt.xlabel(\"Intensity (Lux)\")\n",
    "plt.ylabel(\"Photocurrent (mA)\")\n",
    "plt.show()"
   ]
  },
  {
   "cell_type": "markdown",
   "metadata": {},
   "source": [
    "The quantum mechanical description of this experiment relies on knowledge of the geometry of the photocurrent apparatus, which we do not possess, and it would be quite complicated even if we did. Because of this, we do not have a good idea of a hypothesis to which we should attempt to fit our data. Therefore I will provide a qualitative analysis of the above graphs and provide explanations for their behavior.  \n",
    "\n",
    "\n",
    "Both of the above graphs are characterized by a positive first derivative, and a negative second derivative.  To explain this behavior using quantum theory, we note that light is quantized into individual packets of energy called photons, each with an energy $hf$.  Every time a photon is absorbed by an electron in the semi-conducting material, that electron gains the energy in the photon, and if the energy absorbed is greater than the work function of the material, the electron will be freed from the material, and we will measure it as Photocurrent.  So then, increasing the intensity of the light source can be interpreted as increasing the rate at which the light source emits photons.  However, because there is only a finite number of electrons in the material, the greater number of photons will have a harder time finding electrons that have not already absorbed a photon (this is a very hand-wavy argument, but it is sufficiently correct for this explanation).  Therefore increasing the intensity of light will increase the photocurrent, but the rate at which the photocurrent increases will decrease as the intensity increases.  \n",
    "\n",
    "\n",
    "We therefore see that our data supports the viewpoint that light is quantized, because our graphs show a positive first derivative, and a negative second derivative."
   ]
  },
  {
   "cell_type": "markdown",
   "metadata": {},
   "source": [
    "# Summary and Conclusion\n",
    "\n",
    "In this lab we were supposed to explore the photoelectric effect, observe the properties of the experiment that support the particle nature of light, and learn how to determine Plancks' constant.\n",
    "\n",
    "Experiments 3, 4, and 5 allowed us to explore the photoelectric effect and observe the particle nature of light, and in Experiments 3 and 4 we found Planck's constant.  We therefore met all of the overall objectives of this lab.\n",
    "\n",
    "In Lab 3, we were supposed to determine Planck's constant, and the cutoff frequency and work function of the semi-conducting material in the photodiode using the LEDs provided to us.  The values we found in this experiment agreed with the accepted values posted in the lab manual.  \n",
    "\n",
    "In Lab 4, the objective was the same as Lab3, but we were supposed to use lasers instead of LEDs to minimize uncertainty in measurements of wavelength of incident light.  The values we found did not agree with the accepted values, and as is explained further in the Data Analysis section of its report, I believe this disagreement is due to the fact that we did not properly measure the uncertainty in our readings of the stopping voltage.\n",
    "\n",
    "In Lab 5, the objective was to find the relationship between the intensity of the incident light and the photocurrent of the photoelectric effect apparatus.  We found that the curve of photocurrent as a function of intensity is characterized by a positive first derivative, and a negative second derivative, and as is explained further in the Data Analysis section of that experiment, this behavior supports the particle nature of light."
   ]
  },
  {
   "cell_type": "markdown",
   "metadata": {},
   "source": [
    "# Contributions\n",
    "\n",
    "Danny and Heidi did equal shares of the lab work and data analysis, and Danny did 65% of the work writing the interpretations of the data analysis."
   ]
  },
  {
   "cell_type": "markdown",
   "metadata": {},
   "source": [
    "# References\n",
    "\n",
    "We used python and the open source python libraries Pandas, Matplotlib, SciPy, and Numpy."
   ]
  },
  {
   "cell_type": "code",
   "execution_count": 2,
   "metadata": {},
   "outputs": [],
   "source": [
    "import pandas as pd \n",
    "import matplotlib.pyplot as plt\n",
    "from math import *\n",
    "from scipy import stats\n",
    "import numpy as np\n",
    "from IPython.display import Image\n",
    "im2 = Image('fig2.jpg')\n",
    "im1 = Image('fig1.jpg')"
   ]
  },
  {
   "cell_type": "markdown",
   "metadata": {},
   "source": [
    "The following scripts were used to generate data tables in experiment 3."
   ]
  },
  {
   "cell_type": "code",
   "execution_count": 60,
   "metadata": {},
   "outputs": [],
   "source": [
    "blue = pd.DataFrame({\"V\": \n",
    "                     [-931, -800, -700, -600, -500, -300, -100, 0, 200, 400],\n",
    "                    \"Photocurrent\":\n",
    "                    [0, 114, 321, 680, 1194, 2661, 4563, 5598, 7684, 9779],\n",
    "                    \"delta_pc\":\n",
    "                    [1, 2, 2, 2, 2, 2, 2, 2, 3, 2]})\n",
    "\n",
    "green = pd.DataFrame({\"V\":\n",
    "                     [-750, -600, -400, -200, 0, 100, 200, 300, 400],\n",
    "                     \"Photocurrent\":\n",
    "                     [0, 18, 223, 945, 2056, 2653, 3236, 3815, 4392],\n",
    "                     \"delta_pc\":\n",
    "                     [3, 3, 2, 2, 2, 2, 2, 2, 1]})\n",
    "red = pd.DataFrame({\"V\":\n",
    "                   [-400, -300, -200, -100, 0, 100, 200, 300, 400],\n",
    "\n",
    "                    \"Photocurrent\":\n",
    "                   [0, 9, 28, 128, 392, 720, 1034, 1323, 1586],\n",
    "                   \"delta_pc\":\n",
    "                   [2, 2, 2, 2, 2, 2, 2, 2, 2]})"
   ]
  },
  {
   "cell_type": "code",
   "execution_count": 4,
   "metadata": {},
   "outputs": [],
   "source": [
    "data3 = pd.DataFrame()\n",
    "data3 = pd.DataFrame({\"f\":\n",
    "                      [6.50e14, 5.62e14, 4.85e14],\n",
    "                      'df':\n",
    "                      [5.90e13, 4.32e13, 3.30e13],\n",
    "                     \"K\":\n",
    "                     [.931, .750, .400],\n",
    "                     \"dK\":\n",
    "                     [0.0023, 0.017, 0.023]})\n"
   ]
  },
  {
   "cell_type": "markdown",
   "metadata": {},
   "source": [
    "The following scripts represent error propagation calculation to find the uncertainty in slit density, the green laser wavelength, and the violet laser wavelength. "
   ]
  },
  {
   "cell_type": "code",
   "execution_count": 104,
   "metadata": {},
   "outputs": [
    {
     "data": {
      "text/plain": [
       "49.365293045172784"
      ]
     },
     "execution_count": 104,
     "metadata": {},
     "output_type": "execute_result"
    }
   ],
   "source": [
    "#propagating error of slit density\n",
    "\n",
    "a = 5\n",
    "b = 14.2\n",
    "db = 0.05\n",
    "da = 0.05\n",
    "l = 6.346e-5\n",
    "dl = 0\n",
    "dD = math.sqrt(((((a**3 + a*b**2)*dl/l)**2 + (b**2 * da)**2 + (a*b*db)**2)) /((a**2 + b**2)**3*l**2))\n",
    "dD"
   ]
  },
  {
   "cell_type": "code",
   "execution_count": 105,
   "metadata": {},
   "outputs": [
    {
     "data": {
      "text/plain": [
       "6.282569629083451e-07"
      ]
     },
     "execution_count": 105,
     "metadata": {},
     "output_type": "execute_result"
    }
   ],
   "source": [
    "#propagating error of green wavelength\n",
    "\n",
    "a = 6\n",
    "b = 21.7\n",
    "db = 0.05\n",
    "da = 0.05\n",
    "D = 5233\n",
    "dD = 49\n",
    "dl = math.sqrt((((a**3 + a*b**2)*dD/D)**2 + (b**2 * da)**2 + (a*b*db)**2) /((a**2 + b**2)**3*D**2))\n",
    "dl\n"
   ]
  },
  {
   "cell_type": "code",
   "execution_count": 106,
   "metadata": {},
   "outputs": [
    {
     "data": {
      "text/plain": [
       "5.238946882686876e-07"
      ]
     },
     "execution_count": 106,
     "metadata": {},
     "output_type": "execute_result"
    }
   ],
   "source": [
    "#propagating error of violet wavelength\n",
    "\n",
    "a = 5\n",
    "b = 24.2\n",
    "db = 0.05\n",
    "da = 0.05\n",
    "D = 5233\n",
    "dD = 49\n",
    "dl = math.sqrt((((a**3 + a*b**2)*dD/D)**2 + (b**2 * da)**2 + (a*b*db)**2) /((a**2 + b**2)**3*D**2))\n",
    "dl\n"
   ]
  },
  {
   "cell_type": "markdown",
   "metadata": {},
   "source": [
    "The following scripts were used to find the best fit parameters in Experiment 2, which were used to determine $h$ and $\\phi$.  "
   ]
  },
  {
   "cell_type": "code",
   "execution_count": 12,
   "metadata": {},
   "outputs": [],
   "source": [
    "data = {'Color':['red', 'green', 'violet'], 'Vstop':[-314, -609, -1240], 'DeltaV':[2, 2, 2], 'lambda':[634.6, 510, 387], 'DeltaLambda': [0, 6.28, 5.24]}\n",
    "df = pd.DataFrame(data)\n",
    "df['Kmax'] = -df['Vstop']*10**-3\n",
    "df['f'] = (3 * 10**17)/df['lambda']\n",
    "df['DeltaKmax'] = df['DeltaV']*10**-3\n",
    "df['Deltaf'] = -(3 * 10**17) * df['DeltaLambda']/df['lambda']**2"
   ]
  },
  {
   "cell_type": "code",
   "execution_count": 13,
   "metadata": {},
   "outputs": [],
   "source": [
    "# Simple least squares linear hypothesis\n",
    "\n",
    "df['xy'] = df['f'] * df['Kmax']\n",
    "df['x2'] = df['f']**2\n",
    "\n",
    "xymean = np.mean(df['xy'])\n",
    "x2mean = np.mean(df['x2'])\n",
    "xmean = np.mean(df['f'])\n",
    "ymean = np.mean(df['Kmax'])\n",
    "xmean2 = xmean **2\n",
    "sigmax2 = x2mean - xmean2\n",
    "\n",
    "mhat = (xymean - xmean * ymean)/sigmax2\n",
    "bhat = (x2mean * ymean - xmean * xymean)/sigmax2\n",
    "df['expy'] = df['f'] * mhat + bhat\n",
    "dely = np.sqrt(np.sum((df['Kmax'] - df['expy'])**2)/3)\n",
    "delmhat = dely/np.sqrt(4 * sigmax2)\n",
    "delbhat = delmhat * np.sqrt(x2mean)\n"
   ]
  },
  {
   "cell_type": "code",
   "execution_count": 16,
   "metadata": {},
   "outputs": [
    {
     "name": "stdout",
     "output_type": "stream",
     "text": [
      "mhat:  2.9440398454980872e-15\n",
      "bhat:  -1.0779808471127832\n",
      "delta mhat:  9.453726145297394e-17\n",
      "delta bhat:  0.044927810309218476\n"
     ]
    }
   ],
   "source": [
    "# Weighted least squares linear hypothesis\n",
    "\n",
    "df['delyequ2'] = df['DeltaKmax']**2 + (df['Deltaf'] * mhat)**2\n",
    "df['w'] = 1/df['delyequ2']\n",
    "df['wx'] = df.w * df.f\n",
    "df['wy'] = df.w * df.Kmax\n",
    "df['wxy'] = df.w * df.f * df.Kmax\n",
    "df['wx2'] = df.w * df.f**2\n",
    "\n",
    "wsum = np.sum(df.w)\n",
    "wxsum = np.sum(df.wx)\n",
    "wysum = np.sum(df.wy)\n",
    "wxysum = np.sum(df.wxy)\n",
    "wx2sum = np.sum(df.wx2)\n",
    "\n",
    "weighted_mhat = (wsum * wxysum - wxsum * wysum)/(wsum * wx2sum - wxsum**2)\n",
    "weighted_bhat = (wysum - weighted_mhat * wxsum)/wsum\n",
    "weighted_delmhat = np.sqrt(wsum/(wsum * wx2sum - wxsum**2))\n",
    "weighted_delbhat = np.sqrt(wx2sum/(wsum * wx2sum - wxsum**2))\n",
    "\n",
    "print(\"mhat: \", weighted_mhat)\n",
    "print(\"bhat: \", weighted_bhat)\n",
    "print(\"delta mhat: \", weighted_delmhat)\n",
    "print(\"delta bhat: \", weighted_delbhat)\n"
   ]
  },
  {
   "cell_type": "markdown",
   "metadata": {},
   "source": [
    "The following scripts were used to make the data tables in Experiment 5:"
   ]
  },
  {
   "cell_type": "code",
   "execution_count": 19,
   "metadata": {},
   "outputs": [],
   "source": [
    "green5 = pd.DataFrame({\"Power\":\n",
    "                      [15, 19, 26, 30, 35, 39],\n",
    "                      \"Intensity\":\n",
    "                      [26, 4200, 25800, 41100, 55900, 70200],\n",
    "                      \"Photocurrent\":\n",
    "                      [19, 550, 1602, 2018, 2345, 2610],\n",
    "                      \"Delta_PC\":\n",
    "                      [2,2,2,2,2,2]})\n",
    "blue5 = pd.DataFrame({\"Power\":\n",
    "                     [18, 24, 28, 30, 33, 37],\n",
    "                     \"Intensity\":\n",
    "                     [1980, 25500, 51300, 64600, 81000, 106000],\n",
    "                      \"Photocurrent\":\n",
    "                      [553, 3428, 4884, 5484, 6012, 6904],\n",
    "                      \"Delta_PC\":\n",
    "                      [2, 2, 2, 2, 2, 2]\n",
    "                     })"
   ]
  }
 ],
 "metadata": {
  "kernelspec": {
   "display_name": "Python 3",
   "language": "python",
   "name": "python3"
  },
  "language_info": {
   "codemirror_mode": {
    "name": "ipython",
    "version": 3
   },
   "file_extension": ".py",
   "mimetype": "text/x-python",
   "name": "python",
   "nbconvert_exporter": "python",
   "pygments_lexer": "ipython3",
   "version": "3.6.2"
  }
 },
 "nbformat": 4,
 "nbformat_minor": 2
}
