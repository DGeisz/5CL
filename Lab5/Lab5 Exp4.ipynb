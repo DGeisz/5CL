{
 "cells": [
  {
   "cell_type": "code",
   "execution_count": 100,
   "metadata": {},
   "outputs": [],
   "source": [
    "import pandas as pd\n",
    "import math\n",
    "import numpy as np\n",
    "from IPython.display import Image\n",
    "im2 = Image('fig2.jpg')\n",
    "im1 = Image('fig1.jpg')"
   ]
  },
  {
   "cell_type": "markdown",
   "metadata": {},
   "source": [
    "# Experiment 4\n",
    "## Objective\n",
    "In this experiment, we decided to use red, green, and violet lasers with photodiode to measure the value of Planck's constant $h$ and the work function $\\phi$   \n",
    "## Method\n",
    "### Measuring wavelength of each laser\n",
    "- Setup materials with the violet laser according to the figure below, making sure everything is aligned with the optical axis:\n",
    "\n",
    "![Experiment 4](fig1.jpg)\n",
    "\n",
    "- Measured the distance between screen and diffraction gratings $b_{v}=24.2\\pm0.05cm$    \n",
    "as well as the distance between the first order maxima and center maxima $a_{v}=5.0\\pm0.05cm$.\n",
    "\n",
    "- Replaced the violet laser pen with a green one, and repeated the procedures above.  \n",
    "We yielded $b_{g}=21.7\\pm0.05cm$    \n",
    "and $a_{g}=6.0\\pm0.05cm$.   \n",
    "\n",
    "### Measuring stopping voltage of each laser\n",
    "- Setup the circuit as indicated in the figure below\n",
    "![Experiment 4](fig2.jpg)\n",
    "\n",
    "- Covered the phototube with a lid and calibrate.\n",
    "- Shined the laser pen through a diverging lens to disperse the light and ensured the photodiode is properly illuminated.\n",
    "- Adjusted the voltage applied to the circuit and found the stopping voltage of red, green, violet laser to be  \n",
    "$V_{Gstop}=-609\\pm2mV$   \n",
    "$V_{Rstop}=-314\\pm2mV$   \n",
    "$V_{vstop}=-1240\\pm2mV$\n",
    "\n"
   ]
  },
  {
   "cell_type": "markdown",
   "metadata": {},
   "source": [
    "## Data Analysis   \n",
    "\n",
    "### Calculating wavelength of each laser   \n",
    "The wavelength of green laser is given to be $\\lambda_{red}=634.6nm$.    \n",
    "The equation is given by   \n",
    "<h1><center>$\\lambda = \\dfrac{sin\\theta}{D}$</center></h1>   \n",
    "where $\\theta = arctan(\\dfrac{a}{b})$, slit density $D = 5233\\pm49$slits/cm from Experiment 1.   \n",
    "\n",
    "The errors are propagated using the equation    \n",
    "$\\delta_{\\lambda} = \\sqrt{\\dfrac{((a^{3} + b^{2}a)\\frac{\\delta_{D}}{D})^{2} + (b^{2}\\delta_{a})^{2} + (ab\\delta_{b})^{2}}{D^{2}(a^{2}+b^{2})^{3}}}$   \n",
    "$\\delta_{f} = - \\frac{c\\delta_{\\lambda}}{\\lambda^{2}}$   \n",
    "$\\delta_{Kmax} = e\\delta_{Vstop}$\n",
    "\n",
    "Finally we yielded that the wavelength of green and violet lights are   \n",
    "$\\lambda_{green} = 510\\pm6.28nm$   \n",
    "$\\lambda_{violet} = 387\\pm5.24nm$ respectively.\n",
    "\n",
    "\n"
   ]
  },
  {
   "cell_type": "markdown",
   "metadata": {},
   "source": [
    "### Data Fitting\n",
    "The maximum kinetic energy of a photoelectron is given by   \n",
    "$K_{max} = hf - \\phi = h\\frac{c}{\\lambda} - \\phi$,   \n",
    "where $K_{max}$ is also equal to the product of a photoelectron's charge and its stopping voltage   \n",
    "$K_{max} = eV_{stop}$   \n",
    "\n",
    "In the table below, Vstop and DeltaV denotes the stopping voltage and its associated uncertainty respectively, with unit of mV; lambda and DeltaLambda denotes the wavelength of light and its associated uncertainty respectively, with unit of nm; Kmax and DeltaKmax denotes the maximum kinetic energy of photoelectron and its associated uncertainty respectively, with unit eV; f and Deltaf denotes the incident laser frequency and its associated uncertainty respectively, with unit of $\\frac{1}{second}$"
   ]
  },
  {
   "cell_type": "code",
   "execution_count": 101,
   "metadata": {},
   "outputs": [
    {
     "data": {
      "text/html": [
       "<div>\n",
       "<style scoped>\n",
       "    .dataframe tbody tr th:only-of-type {\n",
       "        vertical-align: middle;\n",
       "    }\n",
       "\n",
       "    .dataframe tbody tr th {\n",
       "        vertical-align: top;\n",
       "    }\n",
       "\n",
       "    .dataframe thead th {\n",
       "        text-align: right;\n",
       "    }\n",
       "</style>\n",
       "<table border=\"1\" class=\"dataframe\">\n",
       "  <thead>\n",
       "    <tr style=\"text-align: right;\">\n",
       "      <th></th>\n",
       "      <th>Color</th>\n",
       "      <th>Vstop</th>\n",
       "      <th>DeltaV</th>\n",
       "      <th>lambda</th>\n",
       "      <th>DeltaLambda</th>\n",
       "      <th>Kmax</th>\n",
       "      <th>f</th>\n",
       "      <th>DeltaKmax</th>\n",
       "      <th>Deltaf</th>\n",
       "    </tr>\n",
       "  </thead>\n",
       "  <tbody>\n",
       "    <tr>\n",
       "      <td>0</td>\n",
       "      <td>red</td>\n",
       "      <td>-314</td>\n",
       "      <td>2</td>\n",
       "      <td>634.6</td>\n",
       "      <td>0.00</td>\n",
       "      <td>0.314</td>\n",
       "      <td>4.727387e+14</td>\n",
       "      <td>0.002</td>\n",
       "      <td>-0.000000e+00</td>\n",
       "    </tr>\n",
       "    <tr>\n",
       "      <td>1</td>\n",
       "      <td>green</td>\n",
       "      <td>-609</td>\n",
       "      <td>2</td>\n",
       "      <td>510.0</td>\n",
       "      <td>6.28</td>\n",
       "      <td>0.609</td>\n",
       "      <td>5.882353e+14</td>\n",
       "      <td>0.002</td>\n",
       "      <td>-7.243368e+12</td>\n",
       "    </tr>\n",
       "    <tr>\n",
       "      <td>2</td>\n",
       "      <td>violet</td>\n",
       "      <td>-1240</td>\n",
       "      <td>2</td>\n",
       "      <td>387.0</td>\n",
       "      <td>5.24</td>\n",
       "      <td>1.240</td>\n",
       "      <td>7.751938e+14</td>\n",
       "      <td>0.002</td>\n",
       "      <td>-1.049616e+13</td>\n",
       "    </tr>\n",
       "  </tbody>\n",
       "</table>\n",
       "</div>"
      ],
      "text/plain": [
       "    Color  Vstop  DeltaV  lambda  DeltaLambda   Kmax             f  DeltaKmax  \\\n",
       "0     red   -314       2   634.6         0.00  0.314  4.727387e+14      0.002   \n",
       "1   green   -609       2   510.0         6.28  0.609  5.882353e+14      0.002   \n",
       "2  violet  -1240       2   387.0         5.24  1.240  7.751938e+14      0.002   \n",
       "\n",
       "         Deltaf  \n",
       "0 -0.000000e+00  \n",
       "1 -7.243368e+12  \n",
       "2 -1.049616e+13  "
      ]
     },
     "execution_count": 101,
     "metadata": {},
     "output_type": "execute_result"
    }
   ],
   "source": [
    "data = {'Color':['red', 'green', 'violet'], 'Vstop':[-314, -609, -1240], 'DeltaV':[2, 2, 2], 'lambda':[634.6, 510, 387], 'DeltaLambda': [0, 6.28, 5.24]}\n",
    "df = pd.DataFrame(data)\n",
    "df['Kmax'] = -df['Vstop']*10**-3\n",
    "df['f'] = (3 * 10**17)/df['lambda']\n",
    "df['DeltaKmax'] = df['DeltaV']*10**-3\n",
    "df['Deltaf'] = -(3 * 10**17) * df['DeltaLambda']/df['lambda']**2\n",
    "df"
   ]
  },
  {
   "cell_type": "markdown",
   "metadata": {},
   "source": [
    "We fitted our data with the weighted least squares linear hypothesis y = mx + b, where y corresponds to Kmax, x corresponds to incident laser frequency, gradient m corresponds to Planck's constant and intercept b corresponds to the work function. The statistical test yielded   \n",
    "$h = 2.94 \\pm 0.094 \\times 10^{-15}eVs$   \n",
    "$\\phi = -1.08\\pm0.04 eV$   \n",
    "\n",
    "The standard Planck's constant is given by $4.13\\times 10^{-15}eVs$, which unfortunately doesn't quite agree with our measured value. "
   ]
  },
  {
   "cell_type": "markdown",
   "metadata": {},
   "source": [
    "# Appendix"
   ]
  },
  {
   "cell_type": "code",
   "execution_count": 102,
   "metadata": {},
   "outputs": [
    {
     "name": "stdout",
     "output_type": "stream",
     "text": [
      "3.0915754104318624e-15\n",
      "-1.1712170997119928\n",
      "0.027373448684376092\n",
      "1.0982739389951323e-16\n",
      "0.06859973218398613\n"
     ]
    }
   ],
   "source": [
    "# Simple least squares linear hypothesis\n",
    "\n",
    "df['xy'] = df['f'] * df['Kmax']\n",
    "df['x2'] = df['f']**2\n",
    "\n",
    "xymean = np.mean(df['xy'])\n",
    "x2mean = np.mean(df['x2'])\n",
    "xmean = np.mean(df['f'])\n",
    "ymean = np.mean(df['Kmax'])\n",
    "xmean2 = xmean **2\n",
    "sigmax2 = x2mean - xmean2\n",
    "\n",
    "mhat = (xymean - xmean * ymean)/sigmax2\n",
    "bhat = (x2mean * ymean - xmean * xymean)/sigmax2\n",
    "df['expy'] = df['f'] * mhat + bhat\n",
    "dely = np.sqrt(np.sum((df['Kmax'] - df['expy'])**2)/3)\n",
    "delmhat = dely/np.sqrt(4 * sigmax2)\n",
    "delbhat = delmhat * np.sqrt(x2mean)\n",
    "\n",
    "print(mhat)\n",
    "print(bhat)\n",
    "print(dely)\n",
    "print(delmhat)\n",
    "print(delbhat)"
   ]
  },
  {
   "cell_type": "code",
   "execution_count": 107,
   "metadata": {},
   "outputs": [
    {
     "name": "stdout",
     "output_type": "stream",
     "text": [
      "2.9440398454980872e-15\n",
      "-1.0779808471127832\n",
      "9.453726145297394e-17\n",
      "0.044927810309218476\n"
     ]
    }
   ],
   "source": [
    "# Weighted least squares linear hypothesis\n",
    "\n",
    "df['delyequ2'] = df['DeltaKmax']**2 + (df['Deltaf'] * mhat)**2\n",
    "df['w'] = 1/df['delyequ2']\n",
    "df.wx = df.w * df.f\n",
    "df.wy = df.w * df.Kmax\n",
    "df.wxy = df.w * df.f * df.Kmax\n",
    "df.wx2 = df.w * df.f**2\n",
    "\n",
    "wsum = np.sum(df.w)\n",
    "wxsum = np.sum(df.wx)\n",
    "wysum = np.sum(df.wy)\n",
    "wxysum = np.sum(df.wxy)\n",
    "wx2sum = np.sum(df.wx2)\n",
    "\n",
    "weighted_mhat = (wsum * wxysum - wxsum * wysum)/(wsum * wx2sum - wxsum**2)\n",
    "weighted_bhat = (wysum - weighted_mhat * wxsum)/wsum\n",
    "weighted_delmhat = np.sqrt(wsum/(wsum * wx2sum - wxsum**2))\n",
    "weighted_delbhat = np.sqrt(wx2sum/(wsum * wx2sum - wxsum**2))\n",
    "\n",
    "print(weighted_mhat)\n",
    "print(weighted_bhat)\n",
    "print(weighted_delmhat)\n",
    "print(weighted_delbhat)\n"
   ]
  },
  {
   "cell_type": "code",
   "execution_count": 104,
   "metadata": {},
   "outputs": [
    {
     "data": {
      "text/plain": [
       "49.365293045172784"
      ]
     },
     "execution_count": 104,
     "metadata": {},
     "output_type": "execute_result"
    }
   ],
   "source": [
    "#propagating error of slit density\n",
    "\n",
    "a = 5\n",
    "b = 14.2\n",
    "db = 0.05\n",
    "da = 0.05\n",
    "l = 6.346e-5\n",
    "dl = 0\n",
    "dD = math.sqrt(((((a**3 + a*b**2)*dl/l)**2 + (b**2 * da)**2 + (a*b*db)**2)) /((a**2 + b**2)**3*l**2))\n",
    "dD"
   ]
  },
  {
   "cell_type": "code",
   "execution_count": 105,
   "metadata": {},
   "outputs": [
    {
     "data": {
      "text/plain": [
       "6.282569629083451e-07"
      ]
     },
     "execution_count": 105,
     "metadata": {},
     "output_type": "execute_result"
    }
   ],
   "source": [
    "#propagating error of green wavelength\n",
    "\n",
    "a = 6\n",
    "b = 21.7\n",
    "db = 0.05\n",
    "da = 0.05\n",
    "D = 5233\n",
    "dD = 49\n",
    "dl = math.sqrt((((a**3 + a*b**2)*dD/D)**2 + (b**2 * da)**2 + (a*b*db)**2) /((a**2 + b**2)**3*D**2))\n",
    "dl\n"
   ]
  },
  {
   "cell_type": "code",
   "execution_count": 106,
   "metadata": {},
   "outputs": [
    {
     "data": {
      "text/plain": [
       "5.238946882686876e-07"
      ]
     },
     "execution_count": 106,
     "metadata": {},
     "output_type": "execute_result"
    }
   ],
   "source": [
    "#propagating error of violet wavelength\n",
    "\n",
    "a = 5\n",
    "b = 24.2\n",
    "db = 0.05\n",
    "da = 0.05\n",
    "D = 5233\n",
    "dD = 49\n",
    "dl = math.sqrt((((a**3 + a*b**2)*dD/D)**2 + (b**2 * da)**2 + (a*b*db)**2) /((a**2 + b**2)**3*D**2))\n",
    "dl\n"
   ]
  },
  {
   "cell_type": "code",
   "execution_count": null,
   "metadata": {},
   "outputs": [],
   "source": []
  },
  {
   "cell_type": "code",
   "execution_count": null,
   "metadata": {},
   "outputs": [],
   "source": []
  }
 ],
 "metadata": {
  "kernelspec": {
   "display_name": "Python 3",
   "language": "python",
   "name": "python3"
  },
  "language_info": {
   "codemirror_mode": {
    "name": "ipython",
    "version": 3
   },
   "file_extension": ".py",
   "mimetype": "text/x-python",
   "name": "python",
   "nbconvert_exporter": "python",
   "pygments_lexer": "ipython3",
   "version": "3.7.4"
  }
 },
 "nbformat": 4,
 "nbformat_minor": 2
}
