{
 "cells": [
  {
   "cell_type": "markdown",
   "metadata": {},
   "source": [
    "# Lab 4 - Physical Optics II\n",
    "\n",
    "### Experiment B3: The Index of Refraction of Air \n",
    "\n",
    "\n",
    "<b>Note:</b> The lab manual said we only need to include an explanation of what we did and what results we got, so this will be a much shorter lab report.\n",
    "\n",
    "#### Objective:\n",
    "\n",
    "* Find the index of refraction of air using a Michelson interferometer\n",
    "\n",
    "#### Method and Procedure:\n",
    "\n",
    "To do this experiment, we first set up the Michelson interferometer as described and shown in Setup B of the lab manual.  We had already shown in the previous experiment that the index of refraction of air is dependent on the air's pressure, and we noticed that as we increased the pressure of the air in the pressure chamber, the fringes of the interference pattern produced by the apparatus expanded from the center of the pattern as the pattern underwent fringe cycles.  In order to determine the index of refraction of air $n_{air}$, we started with a pressure $P_o$ in the pressure chamber, we increase the pressure by a total amount of $\\Delta P$ and measured the number of fringe cycles $\\Delta m$, and finally we used the solution to Prelab Question 2e which states:\n",
    "\n",
    "$$n_{air} = 1 + \\Delta m \\frac{P_o}{\\Delta P}\\frac{ \\lambda_o}{ 2t}$$\n",
    "\n",
    "Where $\\lambda_o$ is the wavelength of the laser used in this experiment, and $t$ is the thickness of the pressure chamber.\n",
    "\n",
    "#### Data & Analysis:\n",
    "\n",
    "We used a laser of wavelength $\\lambda_o = 6.346 \\cdot 10 ^{-5}$ cm.  \n",
    "Using a barometer app, we measured the air pressure of the room to be $P_o = 100.124$ kPa.\n",
    "\n",
    "\n"
   ]
  },
  {
   "cell_type": "code",
   "execution_count": null,
   "metadata": {},
   "outputs": [],
   "source": []
  },
  {
   "cell_type": "code",
   "execution_count": null,
   "metadata": {},
   "outputs": [],
   "source": []
  },
  {
   "cell_type": "code",
   "execution_count": 1,
   "metadata": {},
   "outputs": [],
   "source": [
    "import pandas as pd"
   ]
  },
  {
   "cell_type": "code",
   "execution_count": null,
   "metadata": {},
   "outputs": [],
   "source": []
  },
  {
   "cell_type": "code",
   "execution_count": null,
   "metadata": {},
   "outputs": [],
   "source": []
  },
  {
   "cell_type": "code",
   "execution_count": null,
   "metadata": {},
   "outputs": [],
   "source": []
  },
  {
   "cell_type": "code",
   "execution_count": null,
   "metadata": {},
   "outputs": [],
   "source": []
  }
 ],
 "metadata": {
  "kernelspec": {
   "display_name": "Python 3",
   "language": "python",
   "name": "python3"
  },
  "language_info": {
   "codemirror_mode": {
    "name": "ipython",
    "version": 3
   },
   "file_extension": ".py",
   "mimetype": "text/x-python",
   "name": "python",
   "nbconvert_exporter": "python",
   "pygments_lexer": "ipython3",
   "version": "3.6.2"
  }
 },
 "nbformat": 4,
 "nbformat_minor": 2
}
