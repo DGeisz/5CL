{
 "cells": [
  {
   "cell_type": "markdown",
   "metadata": {},
   "source": [
    "# Lab 4 - Physical Optics II\n",
    "\n",
    "### Experiment B3: The Index of Refraction of Air \n",
    "\n",
    "\n",
    "<b>Note:</b> The lab manual said we only need to include an explanation of what we did and what results we got, so this will be a much shorter lab report.\n",
    "\n",
    "#### Objective:\n",
    "\n",
    "* Find the index of refraction of air using a Michelson interferometer\n",
    "\n",
    "#### Method and Procedure:\n",
    "\n",
    "To do this experiment, we first set up the Michelson interferometer as described and shown in Setup B of the lab manual.  We had already shown in the previous experiment that the index of refraction of air is dependent on the air's pressure, and we noticed that as we increased the pressure of the air in the pressure chamber, the fringes of the interference pattern produced by the apparatus expanded from the center of the pattern as the pattern underwent fringe cycles.  In order to determine the index of refraction of air $n_{air}$, we started with a pressure $P_o$ in the pressure chamber, we increase the pressure by a total amount of $\\Delta P$ and measured the number of fringe cycles $\\Delta m$, and finally we used the solution to Prelab Question 2e which states:\n",
    "\n",
    "$$n_{air} = 1 + \\Delta m \\frac{P_o}{\\Delta P}\\frac{ \\lambda_o}{ 2t}$$\n",
    "\n",
    "Where $\\lambda_o$ is the wavelength of the laser used in this experiment, and $t$ is the thickness of the pressure chamber.  The corresponding equation for error propagation is given by:\n",
    "\n",
    "$$\\delta n_{air} = \\Delta m \\frac{P_o}{\\Delta P}\\frac{ \\lambda_o}{ 2t} \\sqrt{\\left(\\frac{\\delta P_o}{P_o}\\right)^2 + \\left(\\frac{\\delta \\Delta P}{\\Delta P}\\right)^2 + \\left(\\frac{\\delta t}{t}\\right)^2} $$\n",
    "\n",
    "#### Data & Analysis:\n",
    "\n",
    "We used a laser of wavelength $\\lambda_o = 6.346 \\cdot 10 ^{-5}$ cm. \n",
    "\n",
    "Using a barometer app, we measured the air pressure of the room to be $P_o = 100.124$ kPa.\n",
    "\n",
    "We measured the thickness of the vacuum chamber to be $t = 1.2 \\pm 0.05 $ cm.\n",
    "\n",
    "The following table shows the data we took for $\\Delta m$ and $\\Delta P$.  Here, \"dm\" represents $\\Delta m$, \"dp\" represents $\\Delta P$ and is measured in kPa, and \"delta dp\" is the uncertainty in our measurement of $\\Delta P$.\n",
    "\n",
    "\n"
   ]
  },
  {
   "cell_type": "code",
   "execution_count": 9,
   "metadata": {},
   "outputs": [
    {
     "data": {
      "text/html": [
       "<div>\n",
       "<style scoped>\n",
       "    .dataframe tbody tr th:only-of-type {\n",
       "        vertical-align: middle;\n",
       "    }\n",
       "\n",
       "    .dataframe tbody tr th {\n",
       "        vertical-align: top;\n",
       "    }\n",
       "\n",
       "    .dataframe thead th {\n",
       "        text-align: right;\n",
       "    }\n",
       "</style>\n",
       "<table border=\"1\" class=\"dataframe\">\n",
       "  <thead>\n",
       "    <tr style=\"text-align: right;\">\n",
       "      <th></th>\n",
       "      <th>dm</th>\n",
       "      <th>dp</th>\n",
       "      <th>delta dp</th>\n",
       "    </tr>\n",
       "  </thead>\n",
       "  <tbody>\n",
       "    <tr>\n",
       "      <th>0</th>\n",
       "      <td>1</td>\n",
       "      <td>14</td>\n",
       "      <td>1</td>\n",
       "    </tr>\n",
       "    <tr>\n",
       "      <th>1</th>\n",
       "      <td>2</td>\n",
       "      <td>26</td>\n",
       "      <td>1</td>\n",
       "    </tr>\n",
       "    <tr>\n",
       "      <th>2</th>\n",
       "      <td>3</td>\n",
       "      <td>38</td>\n",
       "      <td>1</td>\n",
       "    </tr>\n",
       "    <tr>\n",
       "      <th>3</th>\n",
       "      <td>4</td>\n",
       "      <td>52</td>\n",
       "      <td>1</td>\n",
       "    </tr>\n",
       "  </tbody>\n",
       "</table>\n",
       "</div>"
      ],
      "text/plain": [
       "   dm  dp  delta dp\n",
       "0   1  14         1\n",
       "1   2  26         1\n",
       "2   3  38         1\n",
       "3   4  52         1"
      ]
     },
     "execution_count": 9,
     "metadata": {},
     "output_type": "execute_result"
    }
   ],
   "source": [
    "data"
   ]
  },
  {
   "cell_type": "markdown",
   "metadata": {},
   "source": [
    "By putting this data through the equations in the methods and procedures section, we obtain the following data table.  Here \"n\" represents $n_{air}$, and \"dn\" represents the uncertainty in that value.  The other values are the same as in the previous table.\n"
   ]
  },
  {
   "cell_type": "code",
   "execution_count": 12,
   "metadata": {
    "scrolled": true
   },
   "outputs": [
    {
     "data": {
      "text/html": [
       "<div>\n",
       "<style scoped>\n",
       "    .dataframe tbody tr th:only-of-type {\n",
       "        vertical-align: middle;\n",
       "    }\n",
       "\n",
       "    .dataframe tbody tr th {\n",
       "        vertical-align: top;\n",
       "    }\n",
       "\n",
       "    .dataframe thead th {\n",
       "        text-align: right;\n",
       "    }\n",
       "</style>\n",
       "<table border=\"1\" class=\"dataframe\">\n",
       "  <thead>\n",
       "    <tr style=\"text-align: right;\">\n",
       "      <th></th>\n",
       "      <th>dm</th>\n",
       "      <th>dp</th>\n",
       "      <th>delta dp</th>\n",
       "      <th>n</th>\n",
       "      <th>dn</th>\n",
       "    </tr>\n",
       "  </thead>\n",
       "  <tbody>\n",
       "    <tr>\n",
       "      <th>0</th>\n",
       "      <td>1</td>\n",
       "      <td>14</td>\n",
       "      <td>1</td>\n",
       "      <td>1.000272</td>\n",
       "      <td>0.000023</td>\n",
       "    </tr>\n",
       "    <tr>\n",
       "      <th>1</th>\n",
       "      <td>2</td>\n",
       "      <td>26</td>\n",
       "      <td>1</td>\n",
       "      <td>1.000293</td>\n",
       "      <td>0.000017</td>\n",
       "    </tr>\n",
       "    <tr>\n",
       "      <th>2</th>\n",
       "      <td>3</td>\n",
       "      <td>38</td>\n",
       "      <td>1</td>\n",
       "      <td>1.000301</td>\n",
       "      <td>0.000015</td>\n",
       "    </tr>\n",
       "    <tr>\n",
       "      <th>3</th>\n",
       "      <td>4</td>\n",
       "      <td>52</td>\n",
       "      <td>1</td>\n",
       "      <td>1.000293</td>\n",
       "      <td>0.000013</td>\n",
       "    </tr>\n",
       "  </tbody>\n",
       "</table>\n",
       "</div>"
      ],
      "text/plain": [
       "   dm  dp  delta dp         n        dn\n",
       "0   1  14         1  1.000272  0.000023\n",
       "1   2  26         1  1.000293  0.000017\n",
       "2   3  38         1  1.000301  0.000015\n",
       "3   4  52         1  1.000293  0.000013"
      ]
     },
     "execution_count": 12,
     "metadata": {},
     "output_type": "execute_result"
    }
   ],
   "source": [
    "data2"
   ]
  },
  {
   "cell_type": "markdown",
   "metadata": {},
   "source": [
    "The following script calculates the average value of $n_{air}$."
   ]
  },
  {
   "cell_type": "code",
   "execution_count": 26,
   "metadata": {},
   "outputs": [
    {
     "name": "stdout",
     "output_type": "stream",
     "text": [
      "Average n:  1.0002899481013627\n",
      "Uncertainty of Mean:  1.6859218039747714e-05\n"
     ]
    }
   ],
   "source": [
    "print(\"Average n: \", data2.n.mean())\n",
    "print(\"Uncertainty of Mean: \", data2.dn.mean())"
   ]
  },
  {
   "cell_type": "markdown",
   "metadata": {},
   "source": [
    "So we see that our data yields an average value of $n_{air}$ of:\n",
    "\n",
    "$$\\boxed{n_{air} = 1.000290 \\pm 0.000017}$$\n",
    "\n",
    "\n",
    "If we choose to only use the data point with the lowest uncertainty, namely the last data point, then our data yields:\n",
    "\n",
    "$$\\boxed{n_{air} = 1.000293 \\pm 0.000013}$$\n",
    "\n",
    "Both these values are very similar, and a quick Google search informs us that $n_{air}$ is about 1.0003 on average, so we see our results make sense. "
   ]
  },
  {
   "cell_type": "markdown",
   "metadata": {},
   "source": [
    "### Summary and Conclusions:\n",
    "\n",
    "In this lab, we were exploring physical optics, namely how to use a Michelson Interferometer.  Due to the power outage, we were actually only able to explore the interferometer.  Using the interferometer, we were able to witness a circular diffraction pattern, and by counting fringe cycles, we were able to very accurately determine the index of refraction of the air in the lab.  \n",
    "\n",
    "### Contributions:\n",
    "\n",
    "We each did 50% of the work.\n",
    "\n",
    "### References \n",
    "\n",
    "We used Python and the open source library Pandas to create the data tables shown above.  The following scripts were used to create tables and perform necessary calculations for this report."
   ]
  },
  {
   "cell_type": "code",
   "execution_count": 3,
   "metadata": {},
   "outputs": [],
   "source": [
    "import pandas as pd"
   ]
  },
  {
   "cell_type": "code",
   "execution_count": 5,
   "metadata": {},
   "outputs": [],
   "source": [
    "def n(m, p):\n",
    "    return 1 + m * (100.124/p) * (6.346e-5/2*1.2)\n",
    "\n",
    "def dn(n, p, dp):\n",
    "    return (n - 1) * ((dp/p)**2+(0.05/1.2)**2)**0.5\n"
   ]
  },
  {
   "cell_type": "code",
   "execution_count": 11,
   "metadata": {},
   "outputs": [],
   "source": [
    "data = pd.DataFrame({'dm': [1, 2, 3, 4], \"dp\": [14, 26, 38, 52], 'delta dp': [1, 1, 1, 1]})\n",
    "data2 = data\n",
    "data2['n'] = n(data.dm, data.dp)\n",
    "data2['dn'] = dn(data2.n, data.dp, data['delta dp'])"
   ]
  }
 ],
 "metadata": {
  "kernelspec": {
   "display_name": "Python 3",
   "language": "python",
   "name": "python3"
  },
  "language_info": {
   "codemirror_mode": {
    "name": "ipython",
    "version": 3
   },
   "file_extension": ".py",
   "mimetype": "text/x-python",
   "name": "python",
   "nbconvert_exporter": "python",
   "pygments_lexer": "ipython3",
   "version": "3.6.2"
  }
 },
 "nbformat": 4,
 "nbformat_minor": 2
}
