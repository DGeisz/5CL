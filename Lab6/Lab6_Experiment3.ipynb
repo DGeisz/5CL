{
 "cells": [
  {
   "cell_type": "code",
   "execution_count": 22,
   "metadata": {},
   "outputs": [],
   "source": [
    "import pandas as pd\n",
    "import numpy as np\n",
    "from IPython.display import Image\n",
    "B = Image('BNeon.jpg')\n",
    "C = Image('CNitrogen.jpg')\n",
    "Argon = Image('standardArgon.jpg')\n",
    "Nitrogen = Image('standardNitrogen.jpg')\n",
    "Neon = Image('standardNeon.jpg')\n",
    "setup = Image('setup.jpg')\n"
   ]
  },
  {
   "cell_type": "markdown",
   "metadata": {},
   "source": [
    "# Experiment 3 Mystery Tubes!\n",
    "## Objective:\n",
    "We will determine the unknown gas tubes by observing and comparing their emission spectra, measure wavelengths of two of the most prominent spectral lines for each tube, and verify them with research results.\n",
    "## Method:\n",
    "- Load tube B into power supply and and set up the spectrometer as illustrated in the figure below to observe the emitted light.   \n",
    "![Experiment 4](setup.jpg)   \n",
    "\n",
    "- Use the sliders to find the distance between prominent spectral lines and the central maximum and record them.\n",
    "- Load tube C into power supply and repeat the procedures above.\n",
    "\n",
    "Note that in the following analysis, we let the variable a equal the distance between the diffraction grating and the spectrometer, and we let the variable b represent the distance between the central maximum and the prominent spectral line. So then, to collect data, we simply found a and b using sliders in the order of first tube B, and then tube C, and then we used the following equations.\n",
    "\n",
    "From theory we know that if θ is the angle between the central maximum and the first fringe, d is the slit width of the diffraction grating, and λ is the wavelength of the light being used, we have:   \n",
    "$$\\lambda = dsin(\\theta)$$   \n",
    "We also know that based on how the variables were defined,   \n",
    "$$\\lambda = \\dfrac{sin\\theta}{D} = \\dfrac{a}{D\\sqrt{a^{2}+b^{2}}}$$   \n",
    "and therefore,   \n",
    "$$\\delta_{\\lambda} = \\sqrt{\\dfrac{((a^{3} + b^{2}a)\\frac{\\delta_{D}}{D})^{2} + (b^{2}\\delta_{a})^{2} + (ab\\delta_{b})^{2}}{D^{2}(a^{2}+b^{2})^{3}}}$$   \n",
    "\n",
    "Finally, it should be noted that in Experiment 1, we remeasured the slit density D to be $D = 4873\\pm49 slits·cm^{-1}$."
   ]
  },
  {
   "cell_type": "markdown",
   "metadata": {},
   "source": [
    "## Data Analysis:\n",
    "\n",
    "### Determine Unknown Gas\n",
    "\n",
    "The observed emission spectra of tube B \n",
    "![B](BNeon.jpg)\n",
    "The observed emission spectra of tube C\n",
    "![C](CNitrogen.jpg)   \n",
    "\n",
    "The possibilities of these gases are given to be Nitrogen, Neon, and Argon, with emission spectra below respectively from the source http://hyperphysics.phy-astr.gsu.edu/hbase/quantum/atspect.html\n",
    "\n",
    "![Nitrogen](standardNitrogen.jpg)\n",
    "![Neon](standardNeon.jpg)\n",
    "![Argon](standardArgon.jpg)\n",
    "\n",
    "We could observe that the emission spectra of B contains a bright yellow line, followed by a series of bright orange and red lines, with a single wide gap between green and yellow lines. The emission spectra of C contains many bright green lines, a bright yellow line, followed by bright red lines with two clear gaps within green lines. By comparing these distinctive features with the provided emission spectrum, we were able to identify that tube B contains Neon and tube C contains Nitrogen. \n",
    "\n",
    "### Measure Prominent Wavelengths\n",
    "For tube B, we chose to measure the wavelengths of leading yellow and orange lines; and for tube C, we chose to measure the wavelengths of leading green and yellow lines. \n",
    "\n",
    "In these tables, 'a' stands for the distance between the spectral line and central maximum with standard error of 0.04 for each measurement and unit of cm; 'b' stands for the distance between diffraction grating and spectrometer with uncertainty of 0.05 for each measurement and unit of cm."
   ]
  },
  {
   "cell_type": "code",
   "execution_count": 11,
   "metadata": {},
   "outputs": [
    {
     "data": {
      "text/html": [
       "<div>\n",
       "<style scoped>\n",
       "    .dataframe tbody tr th:only-of-type {\n",
       "        vertical-align: middle;\n",
       "    }\n",
       "\n",
       "    .dataframe tbody tr th {\n",
       "        vertical-align: top;\n",
       "    }\n",
       "\n",
       "    .dataframe thead th {\n",
       "        text-align: right;\n",
       "    }\n",
       "</style>\n",
       "<table border=\"1\" class=\"dataframe\">\n",
       "  <thead>\n",
       "    <tr style=\"text-align: right;\">\n",
       "      <th></th>\n",
       "      <th>color</th>\n",
       "      <th>b</th>\n",
       "      <th>a</th>\n",
       "    </tr>\n",
       "  </thead>\n",
       "  <tbody>\n",
       "    <tr>\n",
       "      <td>0</td>\n",
       "      <td>yellow</td>\n",
       "      <td>17.3</td>\n",
       "      <td>56.6</td>\n",
       "    </tr>\n",
       "    <tr>\n",
       "      <td>1</td>\n",
       "      <td>red</td>\n",
       "      <td>19.2</td>\n",
       "      <td>56.6</td>\n",
       "    </tr>\n",
       "  </tbody>\n",
       "</table>\n",
       "</div>"
      ],
      "text/plain": [
       "    color     b     a\n",
       "0  yellow  17.3  56.6\n",
       "1     red  19.2  56.6"
      ]
     },
     "execution_count": 11,
     "metadata": {},
     "output_type": "execute_result"
    }
   ],
   "source": [
    "# Data table for tube B:\n",
    "dfB"
   ]
  },
  {
   "cell_type": "code",
   "execution_count": 12,
   "metadata": {},
   "outputs": [
    {
     "data": {
      "text/html": [
       "<div>\n",
       "<style scoped>\n",
       "    .dataframe tbody tr th:only-of-type {\n",
       "        vertical-align: middle;\n",
       "    }\n",
       "\n",
       "    .dataframe tbody tr th {\n",
       "        vertical-align: top;\n",
       "    }\n",
       "\n",
       "    .dataframe thead th {\n",
       "        text-align: right;\n",
       "    }\n",
       "</style>\n",
       "<table border=\"1\" class=\"dataframe\">\n",
       "  <thead>\n",
       "    <tr style=\"text-align: right;\">\n",
       "      <th></th>\n",
       "      <th>color</th>\n",
       "      <th>b</th>\n",
       "      <th>a</th>\n",
       "    </tr>\n",
       "  </thead>\n",
       "  <tbody>\n",
       "    <tr>\n",
       "      <td>0</td>\n",
       "      <td>green</td>\n",
       "      <td>19.7</td>\n",
       "      <td>70.3</td>\n",
       "    </tr>\n",
       "    <tr>\n",
       "      <td>1</td>\n",
       "      <td>yellow</td>\n",
       "      <td>21.3</td>\n",
       "      <td>70.3</td>\n",
       "    </tr>\n",
       "  </tbody>\n",
       "</table>\n",
       "</div>"
      ],
      "text/plain": [
       "    color     b     a\n",
       "0   green  19.7  70.3\n",
       "1  yellow  21.3  70.3"
      ]
     },
     "execution_count": 12,
     "metadata": {},
     "output_type": "execute_result"
    }
   ],
   "source": [
    "# Data table for tube C:\n",
    "dfC"
   ]
  },
  {
   "cell_type": "markdown",
   "metadata": {},
   "source": [
    "Using the equations from method sections, we yielded for tube B (Neon):   \n",
    "$\\lambda_{yellow} = 600\\pm6.2nm$   \n",
    "$\\lambda_{orange} = 659\\pm6.8nm$   \n",
    "for tube C (Nitrogen):   \n",
    "$\\lambda_{green} = 515\\pm5.1nm$   \n",
    "$\\lambda_{yellow} = 554\\pm6.1nm$   \n",
    "\n",
    "Quoting data from National Institute of Standards and Technology https://physics.nist.gov/PhysRefData/Handbook/Tables/neontable2.htm:    \n",
    "for B(Neon), there should be persistant spectral lines at 602.9nm and 659.9nm, which agrees with our experimental outcoumes;   \n",
    "for C(Nitrogen), there was no persistant spectral lines within range of our experimentally measured wavelengths. However, there should be a persistant spectral line at 568.0nm, which fits into the range of a bright yellow line we observed between 565nm and 590nm. We believe we were not able to acquire the accurate wavelength because our uncertainty for the distance between diffraction grating and the spectrometer is too small. Instead of using the optical axis to measure their vertical distance, we directly determined it using a meter stick, which could involve multiple observation errors. "
   ]
  },
  {
   "cell_type": "markdown",
   "metadata": {},
   "source": [
    "# Appendix"
   ]
  },
  {
   "cell_type": "code",
   "execution_count": 36,
   "metadata": {},
   "outputs": [
    {
     "data": {
      "text/html": [
       "<div>\n",
       "<style scoped>\n",
       "    .dataframe tbody tr th:only-of-type {\n",
       "        vertical-align: middle;\n",
       "    }\n",
       "\n",
       "    .dataframe tbody tr th {\n",
       "        vertical-align: top;\n",
       "    }\n",
       "\n",
       "    .dataframe thead th {\n",
       "        text-align: right;\n",
       "    }\n",
       "</style>\n",
       "<table border=\"1\" class=\"dataframe\">\n",
       "  <thead>\n",
       "    <tr style=\"text-align: right;\">\n",
       "      <th></th>\n",
       "      <th>color</th>\n",
       "      <th>a</th>\n",
       "      <th>b</th>\n",
       "    </tr>\n",
       "  </thead>\n",
       "  <tbody>\n",
       "    <tr>\n",
       "      <td>0</td>\n",
       "      <td>yellow</td>\n",
       "      <td>17.3</td>\n",
       "      <td>56.6</td>\n",
       "    </tr>\n",
       "    <tr>\n",
       "      <td>1</td>\n",
       "      <td>orange</td>\n",
       "      <td>19.2</td>\n",
       "      <td>56.6</td>\n",
       "    </tr>\n",
       "  </tbody>\n",
       "</table>\n",
       "</div>"
      ],
      "text/plain": [
       "    color     a     b\n",
       "0  yellow  17.3  56.6\n",
       "1  orange  19.2  56.6"
      ]
     },
     "execution_count": 36,
     "metadata": {},
     "output_type": "execute_result"
    }
   ],
   "source": [
    "B = {'color':['yellow', 'orange'], 'a':[17.3, 19.2], 'b':[56.6, 56.6]}\n",
    "C = {'color':['green', 'yellow'], 'a':[19.7, 21.3], 'b':[70.3, 70.3]}\n",
    "dfB = pd.DataFrame(B)\n",
    "dfC = pd.DataFrame(C)\n",
    "dfB"
   ]
  },
  {
   "cell_type": "code",
   "execution_count": 37,
   "metadata": {},
   "outputs": [
    {
     "data": {
      "text/html": [
       "<div>\n",
       "<style scoped>\n",
       "    .dataframe tbody tr th:only-of-type {\n",
       "        vertical-align: middle;\n",
       "    }\n",
       "\n",
       "    .dataframe tbody tr th {\n",
       "        vertical-align: top;\n",
       "    }\n",
       "\n",
       "    .dataframe thead th {\n",
       "        text-align: right;\n",
       "    }\n",
       "</style>\n",
       "<table border=\"1\" class=\"dataframe\">\n",
       "  <thead>\n",
       "    <tr style=\"text-align: right;\">\n",
       "      <th></th>\n",
       "      <th>color</th>\n",
       "      <th>a</th>\n",
       "      <th>b</th>\n",
       "      <th>lambda</th>\n",
       "    </tr>\n",
       "  </thead>\n",
       "  <tbody>\n",
       "    <tr>\n",
       "      <td>0</td>\n",
       "      <td>yellow</td>\n",
       "      <td>17.3</td>\n",
       "      <td>56.6</td>\n",
       "      <td>599.844832</td>\n",
       "    </tr>\n",
       "    <tr>\n",
       "      <td>1</td>\n",
       "      <td>orange</td>\n",
       "      <td>19.2</td>\n",
       "      <td>56.6</td>\n",
       "      <td>659.229957</td>\n",
       "    </tr>\n",
       "  </tbody>\n",
       "</table>\n",
       "</div>"
      ],
      "text/plain": [
       "    color     a     b      lambda\n",
       "0  yellow  17.3  56.6  599.844832\n",
       "1  orange  19.2  56.6  659.229957"
      ]
     },
     "execution_count": 37,
     "metadata": {},
     "output_type": "execute_result"
    }
   ],
   "source": [
    "dfB['lambda'] = dfB['a']/(4873e-7 * np.sqrt((dfB['a'])**2 + (dfB['b'])**2))\n",
    "dfC['lambda'] = dfC['a']/(5233e-7 * np.sqrt(dfC['a']**2 + dfC['b']**2))\n",
    "dfB"
   ]
  },
  {
   "cell_type": "code",
   "execution_count": 38,
   "metadata": {},
   "outputs": [
    {
     "data": {
      "text/html": [
       "<div>\n",
       "<style scoped>\n",
       "    .dataframe tbody tr th:only-of-type {\n",
       "        vertical-align: middle;\n",
       "    }\n",
       "\n",
       "    .dataframe tbody tr th {\n",
       "        vertical-align: top;\n",
       "    }\n",
       "\n",
       "    .dataframe thead th {\n",
       "        text-align: right;\n",
       "    }\n",
       "</style>\n",
       "<table border=\"1\" class=\"dataframe\">\n",
       "  <thead>\n",
       "    <tr style=\"text-align: right;\">\n",
       "      <th></th>\n",
       "      <th>color</th>\n",
       "      <th>a</th>\n",
       "      <th>b</th>\n",
       "      <th>lambda</th>\n",
       "    </tr>\n",
       "  </thead>\n",
       "  <tbody>\n",
       "    <tr>\n",
       "      <td>0</td>\n",
       "      <td>green</td>\n",
       "      <td>19.7</td>\n",
       "      <td>70.3</td>\n",
       "      <td>515.637571</td>\n",
       "    </tr>\n",
       "    <tr>\n",
       "      <td>1</td>\n",
       "      <td>yellow</td>\n",
       "      <td>21.3</td>\n",
       "      <td>70.3</td>\n",
       "      <td>554.117354</td>\n",
       "    </tr>\n",
       "  </tbody>\n",
       "</table>\n",
       "</div>"
      ],
      "text/plain": [
       "    color     a     b      lambda\n",
       "0   green  19.7  70.3  515.637571\n",
       "1  yellow  21.3  70.3  554.117354"
      ]
     },
     "execution_count": 38,
     "metadata": {},
     "output_type": "execute_result"
    }
   ],
   "source": [
    "dfC"
   ]
  },
  {
   "cell_type": "code",
   "execution_count": 40,
   "metadata": {},
   "outputs": [
    {
     "data": {
      "text/plain": [
       "6.18263453404893e-07"
      ]
     },
     "execution_count": 40,
     "metadata": {},
     "output_type": "execute_result"
    }
   ],
   "source": [
    "# Propagating error for yellow wavelength of tube B\n",
    "\n",
    "a = 17.3\n",
    "b = 56.6\n",
    "db = 0.05\n",
    "da = 0.04\n",
    "D = 4873\n",
    "dD = 49\n",
    "dl = np.sqrt((((a**3 + a*b**2)*dD/D)**2 + (b**2 * da)**2 + (a*b*db)**2) /((a**2 + b**2)**3*D**2))\n",
    "dl"
   ]
  },
  {
   "cell_type": "code",
   "execution_count": 41,
   "metadata": {},
   "outputs": [
    {
     "data": {
      "text/plain": [
       "6.7624764240299e-07"
      ]
     },
     "execution_count": 41,
     "metadata": {},
     "output_type": "execute_result"
    }
   ],
   "source": [
    "# Propagating error for orange wavelength of tube B\n",
    "\n",
    "a = 19.2\n",
    "b = 56.6\n",
    "db = 0.05\n",
    "da = 0.04\n",
    "D = 4873\n",
    "dD = 49\n",
    "dl = np.sqrt((((a**3 + a*b**2)*dD/D)**2 + (b**2 * da)**2 + (a*b*db)**2) /((a**2 + b**2)**3*D**2))\n",
    "dl"
   ]
  },
  {
   "cell_type": "code",
   "execution_count": 42,
   "metadata": {},
   "outputs": [
    {
     "data": {
      "text/plain": [
       "5.056171316722628e-07"
      ]
     },
     "execution_count": 42,
     "metadata": {},
     "output_type": "execute_result"
    }
   ],
   "source": [
    "# Propagating error for green wavelength of tube C\n",
    "\n",
    "a = 17.3\n",
    "b = 70.3\n",
    "db = 0.05\n",
    "da = 0.04\n",
    "D = 4873\n",
    "dD = 49\n",
    "dl = np.sqrt((((a**3 + a*b**2)*dD/D)**2 + (b**2 * da)**2 + (a*b*db)**2) /((a**2 + b**2)**3*D**2))\n",
    "dl"
   ]
  },
  {
   "cell_type": "code",
   "execution_count": 43,
   "metadata": {
    "scrolled": false
   },
   "outputs": [
    {
     "data": {
      "text/plain": [
       "6.082777859038892e-07"
      ]
     },
     "execution_count": 43,
     "metadata": {},
     "output_type": "execute_result"
    }
   ],
   "source": [
    "# Propagating error for yellow wavelength of tube C\n",
    "\n",
    "a = 21.3\n",
    "b = 70.3\n",
    "db = 0.05\n",
    "da = 0.04\n",
    "D = 4873\n",
    "dD = 49\n",
    "dl = np.sqrt((((a**3 + a*b**2)*dD/D)**2 + (b**2 * da)**2 + (a*b*db)**2) /((a**2 + b**2)**3*D**2))\n",
    "dl"
   ]
  }
 ],
 "metadata": {
  "kernelspec": {
   "display_name": "Python 3",
   "language": "python",
   "name": "python3"
  },
  "language_info": {
   "codemirror_mode": {
    "name": "ipython",
    "version": 3
   },
   "file_extension": ".py",
   "mimetype": "text/x-python",
   "name": "python",
   "nbconvert_exporter": "python",
   "pygments_lexer": "ipython3",
   "version": "3.6.2"
  }
 },
 "nbformat": 4,
 "nbformat_minor": 2
}
