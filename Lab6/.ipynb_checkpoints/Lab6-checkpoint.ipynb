{
 "cells": [
  {
   "cell_type": "markdown",
   "metadata": {},
   "source": [
    "# Experiment 2 - The Bohring World of Hydrogen\n",
    "\n",
    "## Objective:\n",
    "\n",
    "The purpose of this experiment is to observe and measure the Balmer series of Hydrogen and use our data to find the Rydberg constant.\n",
    "\n",
    "## Method:\n",
    "\n",
    "Setup the materials according to section 1.1 of the lab manual with the discharge tube behind the spectrometer scale, but use the hydrogen tube instead of the helium tube.  \n",
    "\n",
    "By looking through the grating we were able to observe the spectrum of helium against the spectrometer scale.  To measure the wavelength $\\lambda$ of a given spectral line, we measured the distance between the central maximum and the spectral line as viewed on the spectrometer scale, and we measured the distance between the diffraction grating and the spectrometer scale.  We let $a$ denote the distance between the central maximum and the spectral line, and we let $b$ denote the distance between the diffraction grating and the spectrometer scale.  Finally we let $D$ represent the slit density of the diffraction grating, which we determined in experiment 1.\n",
    "\n",
    "Using standard theory, we therefore have the following relation:\n",
    "\n",
    "$$ \\lambda = \\frac{\\sin\\left(\\tan^{-1}\\left(\\frac{a}{b}\\right)\\right)}{D} = \\frac{a}{D\\cdot \\sqrt{a^2 + b^2}}$$\n",
    "\n",
    "This has the following equation for error propagation:\n",
    "\n",
    "$$\\delta\\lambda = \\sqrt{\\dfrac{\\left((a^{3} + b^{2}a)\\frac{\\delta D}{D}\\right)^{2} + (b^{2}\\delta a)^{2} + (ab\\delta b)^{2}}{D^{2}(a^{2}+b^{2})^{3}}}$$\n",
    "\n",
    "\n",
    "Finally, in order to find the energy level transitions each spectral line of hydrogen corresponded to, we compared our data with the accepted values, which allowed us to determine $n_i$, the energy level of the electron before the transition, for each spectral line.  Together our knowledge of $n_i$ and $\\lambda$ allows us to find the Rydberg constant. \n",
    "\n",
    "\n",
    "Finally, note that in Experiment 1, we measured $D = 4873 \\pm 49$ slits per cm.\n",
    "\n",
    "\n",
    "## Answers to Data Analysis Problems:\n",
    "\n",
    "a) Find the standard deviation and standard error for your multiple independent measurements for the position of the Helium D3 line from Experiment 1.1.\n",
    "\n",
    "\n",
    "The following data table corresponds to the data we took in Experiment 1.1.  Here, \"Distance\" refers to the distance between the central maximum and the D3 spectral line in centimeters.  \n",
    "\n",
    "\n"
   ]
  },
  {
   "cell_type": "code",
   "execution_count": 7,
   "metadata": {},
   "outputs": [
    {
     "data": {
      "text/html": [
       "<div>\n",
       "<style scoped>\n",
       "    .dataframe tbody tr th:only-of-type {\n",
       "        vertical-align: middle;\n",
       "    }\n",
       "\n",
       "    .dataframe tbody tr th {\n",
       "        vertical-align: top;\n",
       "    }\n",
       "\n",
       "    .dataframe thead th {\n",
       "        text-align: right;\n",
       "    }\n",
       "</style>\n",
       "<table border=\"1\" class=\"dataframe\">\n",
       "  <thead>\n",
       "    <tr style=\"text-align: right;\">\n",
       "      <th></th>\n",
       "      <th>Distance</th>\n",
       "    </tr>\n",
       "  </thead>\n",
       "  <tbody>\n",
       "    <tr>\n",
       "      <th>0</th>\n",
       "      <td>22.2</td>\n",
       "    </tr>\n",
       "    <tr>\n",
       "      <th>1</th>\n",
       "      <td>22.1</td>\n",
       "    </tr>\n",
       "    <tr>\n",
       "      <th>2</th>\n",
       "      <td>22.2</td>\n",
       "    </tr>\n",
       "    <tr>\n",
       "      <th>3</th>\n",
       "      <td>22.3</td>\n",
       "    </tr>\n",
       "  </tbody>\n",
       "</table>\n",
       "</div>"
      ],
      "text/plain": [
       "   Distance\n",
       "0      22.2\n",
       "1      22.1\n",
       "2      22.2\n",
       "3      22.3"
      ]
     },
     "execution_count": 7,
     "metadata": {},
     "output_type": "execute_result"
    }
   ],
   "source": [
    "data1"
   ]
  },
  {
   "cell_type": "markdown",
   "metadata": {},
   "source": [
    "The following script calculates the standard deviation and the standard error of this data using the simple formulas for these quantities:"
   ]
  },
  {
   "cell_type": "code",
   "execution_count": 8,
   "metadata": {},
   "outputs": [
    {
     "name": "stdout",
     "output_type": "stream",
     "text": [
      "Standard Deviation:  0.0707106781186226\n",
      "Standard Error:  0.0353553390593113\n"
     ]
    }
   ],
   "source": [
    "std_dev = ((data1.Distance ** 2).mean() - (data1.Distance.mean())**2)**0.5\n",
    "std_err = std_dev / 2\n",
    "\n",
    "print(\"Standard Deviation: \", std_dev)\n",
    "print(\"Standard Error: \", std_err)"
   ]
  },
  {
   "cell_type": "markdown",
   "metadata": {},
   "source": [
    "From this we see that:\n",
    "\n",
    "$$\\boxed{\n",
    "Standard \\; Deviation = 0.07\\;\\text{cm} \\\\\n",
    "Standard \\; Error = 0.04\\;\\text{cm}\n",
    "}$$"
   ]
  },
  {
   "cell_type": "markdown",
   "metadata": {},
   "source": [
    "a) Make a scatter plot (with error bars) of $\\frac{1}{\\lambda}$-vs-$\\frac{1}{n^2_i}$.\n",
    "\n",
    "\n",
    "The following data table shows the data we took for this experiment.  Here, \"color\" refers to the color observed for the given spectral line. Here \"a\" represents the quantity $a$ from the Method section, with units of centimeters.  We take the standard error calculated in the previous section to be the uncertainty of each measurement of \"a\".  "
   ]
  },
  {
   "cell_type": "code",
   "execution_count": 9,
   "metadata": {},
   "outputs": [
    {
     "data": {
      "text/html": [
       "<div>\n",
       "<style scoped>\n",
       "    .dataframe tbody tr th:only-of-type {\n",
       "        vertical-align: middle;\n",
       "    }\n",
       "\n",
       "    .dataframe tbody tr th {\n",
       "        vertical-align: top;\n",
       "    }\n",
       "\n",
       "    .dataframe thead th {\n",
       "        text-align: right;\n",
       "    }\n",
       "</style>\n",
       "<table border=\"1\" class=\"dataframe\">\n",
       "  <thead>\n",
       "    <tr style=\"text-align: right;\">\n",
       "      <th></th>\n",
       "      <th>Color</th>\n",
       "      <th>a</th>\n",
       "    </tr>\n",
       "  </thead>\n",
       "  <tbody>\n",
       "    <tr>\n",
       "      <th>0</th>\n",
       "      <td>Blue</td>\n",
       "      <td>10.1</td>\n",
       "    </tr>\n",
       "    <tr>\n",
       "      <th>1</th>\n",
       "      <td>Teal</td>\n",
       "      <td>11.7</td>\n",
       "    </tr>\n",
       "    <tr>\n",
       "      <th>2</th>\n",
       "      <td>Red</td>\n",
       "      <td>16.5</td>\n",
       "    </tr>\n",
       "  </tbody>\n",
       "</table>\n",
       "</div>"
      ],
      "text/plain": [
       "  Color     a\n",
       "0  Blue  10.1\n",
       "1  Teal  11.7\n",
       "2   Red  16.5"
      ]
     },
     "execution_count": 9,
     "metadata": {},
     "output_type": "execute_result"
    }
   ],
   "source": [
    "data2"
   ]
  },
  {
   "cell_type": "markdown",
   "metadata": {},
   "source": [
    "For all data points, we found $b = 46.9 \\pm 0.05 $ cm.  We are therefore able to calculate $\\lambda$ for each color using the formula in the method section.  By matching our data to the predicted wavelengths from the Rydberg formula, we are able to find the energy level transition that each of data points corresponds to.  \n",
    "\n",
    "The following table compiles this information together.  Here \"Color\" is the color of the spectral line observed, \"lambda\" is the wavelength in nm, \"dlambda\" is the uncertainty in \"lambda\", and \"n\" is the starting energy level that corresponds to the given data point."
   ]
  },
  {
   "cell_type": "code",
   "execution_count": 10,
   "metadata": {},
   "outputs": [
    {
     "data": {
      "text/html": [
       "<div>\n",
       "<style scoped>\n",
       "    .dataframe tbody tr th:only-of-type {\n",
       "        vertical-align: middle;\n",
       "    }\n",
       "\n",
       "    .dataframe tbody tr th {\n",
       "        vertical-align: top;\n",
       "    }\n",
       "\n",
       "    .dataframe thead th {\n",
       "        text-align: right;\n",
       "    }\n",
       "</style>\n",
       "<table border=\"1\" class=\"dataframe\">\n",
       "  <thead>\n",
       "    <tr style=\"text-align: right;\">\n",
       "      <th></th>\n",
       "      <th>Color</th>\n",
       "      <th>lambda</th>\n",
       "      <th>dlambda</th>\n",
       "      <th>n</th>\n",
       "    </tr>\n",
       "  </thead>\n",
       "  <tbody>\n",
       "    <tr>\n",
       "      <th>0</th>\n",
       "      <td>Blue</td>\n",
       "      <td>432.024276</td>\n",
       "      <td>23.360825</td>\n",
       "      <td>5</td>\n",
       "    </tr>\n",
       "    <tr>\n",
       "      <th>1</th>\n",
       "      <td>Teal</td>\n",
       "      <td>496.714179</td>\n",
       "      <td>33.844799</td>\n",
       "      <td>4</td>\n",
       "    </tr>\n",
       "    <tr>\n",
       "      <th>2</th>\n",
       "      <td>Red</td>\n",
       "      <td>681.044669</td>\n",
       "      <td>81.119881</td>\n",
       "      <td>3</td>\n",
       "    </tr>\n",
       "  </tbody>\n",
       "</table>\n",
       "</div>"
      ],
      "text/plain": [
       "  Color      lambda    dlambda  n\n",
       "0  Blue  432.024276  23.360825  5\n",
       "1  Teal  496.714179  33.844799  4\n",
       "2   Red  681.044669  81.119881  3"
      ]
     },
     "execution_count": 10,
     "metadata": {},
     "output_type": "execute_result"
    }
   ],
   "source": [
    "d3"
   ]
  },
  {
   "cell_type": "markdown",
   "metadata": {},
   "source": [
    "This final data table holds the same information as above, but now it includes values of $\\frac{1}{\\lambda}$.  Here \"wl^-1\" represents $\\frac{1}{\\lambda}$, and \"dwl^-1\" is the associated uncertainty.  Note that both quantities have units of $meters ^ {-1}$ to facilitate later calculations.  The other values in the above table remain the same."
   ]
  },
  {
   "cell_type": "code",
   "execution_count": 21,
   "metadata": {},
   "outputs": [
    {
     "data": {
      "text/html": [
       "<div>\n",
       "<style scoped>\n",
       "    .dataframe tbody tr th:only-of-type {\n",
       "        vertical-align: middle;\n",
       "    }\n",
       "\n",
       "    .dataframe tbody tr th {\n",
       "        vertical-align: top;\n",
       "    }\n",
       "\n",
       "    .dataframe thead th {\n",
       "        text-align: right;\n",
       "    }\n",
       "</style>\n",
       "<table border=\"1\" class=\"dataframe\">\n",
       "  <thead>\n",
       "    <tr style=\"text-align: right;\">\n",
       "      <th></th>\n",
       "      <th>Color</th>\n",
       "      <th>wl^-1</th>\n",
       "      <th>dwl^-1</th>\n",
       "      <th>n</th>\n",
       "    </tr>\n",
       "  </thead>\n",
       "  <tbody>\n",
       "    <tr>\n",
       "      <th>0</th>\n",
       "      <td>Blue</td>\n",
       "      <td>2.314685e+06</td>\n",
       "      <td>125161.823875</td>\n",
       "      <td>5</td>\n",
       "    </tr>\n",
       "    <tr>\n",
       "      <th>1</th>\n",
       "      <td>Teal</td>\n",
       "      <td>2.013230e+06</td>\n",
       "      <td>137176.217853</td>\n",
       "      <td>4</td>\n",
       "    </tr>\n",
       "    <tr>\n",
       "      <th>2</th>\n",
       "      <td>Red</td>\n",
       "      <td>1.468332e+06</td>\n",
       "      <td>174894.483327</td>\n",
       "      <td>3</td>\n",
       "    </tr>\n",
       "  </tbody>\n",
       "</table>\n",
       "</div>"
      ],
      "text/plain": [
       "  Color         wl^-1         dwl^-1  n\n",
       "0  Blue  2.314685e+06  125161.823875  5\n",
       "1  Teal  2.013230e+06  137176.217853  4\n",
       "2   Red  1.468332e+06  174894.483327  3"
      ]
     },
     "execution_count": 21,
     "metadata": {},
     "output_type": "execute_result"
    }
   ],
   "source": [
    "d4"
   ]
  },
  {
   "cell_type": "markdown",
   "metadata": {},
   "source": [
    "The following script plot values of $\\frac{1}{\\lambda}$ against values of $\\frac{1}{n ^2}$ with error bars."
   ]
  },
  {
   "cell_type": "code",
   "execution_count": 24,
   "metadata": {},
   "outputs": [
    {
     "data": {
      "image/png": "[encoded data removed]",
      "text/plain": [
       "<Figure size 432x288 with 1 Axes>"
      ]
     },
     "metadata": {
      "needs_background": "light"
     },
     "output_type": "display_data"
    }
   ],
   "source": [
    "plt.errorbar((1 / d4.n **2) , d4['wl^-1'], yerr=d4['dwl^-1'], fmt='.')\n",
    "plt.ylabel(\"1 / wavelength (m ^ -1)\")\n",
    "plt.title(\"Wavelength^-1 vs n^-2\")\n",
    "plt.xlabel(\"1 / n^2\")\n",
    "plt.show()"
   ]
  },
  {
   "cell_type": "markdown",
   "metadata": {},
   "source": [
    "b) Perform a regression to the linear function you found in Question Pre1(c) to find a best-fit value for the slope (with uncertainties).\n",
    "\n",
    "\n",
    "I will fit the data from the above scatter plot to a linear hypothesis, $\\displaystyle \\frac{1}{\\lambda} = \\hat{m}\\left(\\frac{1}{n^2}\\right) + \\hat{b}$ using the weighted least squares method.  The following script finds the best fit parameters and their correspond uncertainties.\n",
    "\n",
    "\n"
   ]
  },
  {
   "cell_type": "code",
   "execution_count": 35,
   "metadata": {},
   "outputs": [
    {
     "name": "stdout",
     "output_type": "stream",
     "text": [
      "m:  -11885121.339421667  +-  3023182.0882392027\n",
      "b:  2777743.8993566805  +-  208710.35307243734\n"
     ]
    }
   ],
   "source": [
    "w = 1 / (d4['dwl^-1'] ** 2)\n",
    "y = d4['wl^-1']\n",
    "x = 1 / (d4.n ** 2)\n",
    "\n",
    "denom = (w.sum() * (w * x * x).sum()) - ((w * x).sum()) **2\n",
    "m = ((w.sum() * (w * x * y).sum()) - ((w * x).sum()*(w * y).sum())) / denom\n",
    "b = ((w * y).sum() - m * (w * x).sum())/ (w.sum())\n",
    "dm = (w.sum() / denom) ** 0.5\n",
    "db = ((w * x * x).sum() / denom) ** 0.5\n",
    "print(\"m: \", m, \" +- \", dm)\n",
    "print(\"b: \", b, \" +- \", db)\n",
    "\n"
   ]
  },
  {
   "cell_type": "markdown",
   "metadata": {},
   "source": [
    "Therefore we see that the best fit value of the slope is:\n",
    "\n",
    "$$\\boxed{\\hat{m} = -1.19 \\pm 0.30 \\cdot 10^7 \\; \\text{meters} ^{-1}}$$\n",
    "\n",
    "\n",
    "c) Based on your fit values, determine the Rydberg constant (with uncertainty). Compare to the given value.\n",
    "\n",
    "\n",
    "Comparing to Equation (1) in the lab manual, we see that the Rydberg constant is $-\\hat{m}$.  Therefore performing a linear fit on our data indicates that:\n",
    "\n",
    "$$\\boxed{ R = 1.19 \\pm 0.30 \\cdot 10^7 \\; \\text{meters} ^{-1}}$$\n",
    "\n",
    "The accepted value for the Rydberg constant is $1.09 \\cdot 10^7 \\; \\text{meters} ^{-1}$.  Performing a simple agreement test between this number and our experimental value yields 0.17, so we see that our experimentally determined value of the Rydberg constant agrees with the accepted value."
   ]
  },
  {
   "cell_type": "markdown",
   "metadata": {},
   "source": [
    "# Experiment 3 - Mystery Tubes!\n",
    "\n",
    "## Objective:\n",
    "We will determine the gases in the unknown gas tubes by observing and comparing their emission spectra to external references, measure wavelengths of two of the most prominent spectral lines for each tube, and verifying them with research results.\n",
    "\n",
    "## Method:\n",
    "- Load tube B into the power supply and and set up the spectrometer as illustrated in the figure below to observe the emitted light.   \n",
    "![Experiment 4](setup.jpg)   \n",
    "\n",
    "- Use the sliders to find the distance between the prominent spectral lines and the central maximum and record them.\n",
    "- Load tube C into power supply and repeat the procedures above.\n",
    "\n",
    "\n",
    "Note that in the following analysis, we let the variable $b$ equal the distance between the diffraction grating and the spectrometer, and we let the variable $a$ represent the distance between the central maximum and the prominent spectral line we're measuring. So then, to collect data, we simply found $a$ using the sliders and $b$ using the meter stick first for tube B, and then for tube C.  We then used the following equations to determine $\\lambda$, the wavelength of each spectral line.\n",
    "\n",
    "From theory we know that if θ is the angle between the central maximum and the first fringe, d is the slit width of the diffraction grating, and λ is the wavelength of the light being used, we have:\n",
    "\n",
    "$$\\lambda = dsin(\\theta)$$   \n",
    "\n",
    "If $D$ is the slit density of the diffraction grating, then $D = \\frac{1}{d}$.  Therefore, based on how the variables were defined,\n",
    "\n",
    "$$ \\theta = \\tan ^{-1}\\left(\\frac{a}{b}\\right)$$\n",
    "\n",
    "So then, \n",
    "\n",
    "$$\\lambda = \\dfrac{sin\\theta}{D} = \\dfrac{a}{D\\sqrt{a^{2}+b^{2}}}$$   \n",
    "and therefore,   \n",
    "$$\\delta_{\\lambda} = \\sqrt{\\dfrac{((a^{3} + b^{2}a)\\frac{\\delta_{D}}{D})^{2} + (b^{2}\\delta_{a})^{2} + (ab\\delta_{b})^{2}}{D^{2}(a^{2}+b^{2})^{3}}}$$   \n",
    "\n",
    "Finally, it should be noted that in Experiment 1, we measured the slit density D to be $D = 4873\\pm49 slits·cm^{-1}$."
   ]
  },
  {
   "cell_type": "markdown",
   "metadata": {},
   "source": [
    "## Data Analysis:\n",
    "\n",
    "### Determine Unknown Gas\n",
    "\n",
    "The observed emission spectra of tube B \n",
    "![B](BNeon.jpg)\n",
    "The observed emission spectra of tube C\n",
    "![C](CNitrogen.jpg)   \n",
    "\n",
    "The possibilities of these gases are given to be Nitrogen, Neon, and Argon, with emission spectra below respectively from the source http://hyperphysics.phy-astr.gsu.edu/hbase/quantum/atspect.html\n",
    "\n",
    "![Nitrogen](standardNitrogen.jpg)\n",
    "![Neon](standardNeon.jpg)\n",
    "![Argon](standardArgon.jpg)\n",
    "\n",
    "We observed that the emission spectra of B contains a bright yellow line, followed by a series of bright orange and red lines, with a single wide gap between green and yellow lines. The emission spectra of C contains many bright green lines, a bright yellow line, followed by bright red lines with two clear gaps within green lines. By comparing these distinctive features with the provided emission spectrum, we were able to deduce that tube B contains Neon and tube C contains Nitrogen. \n",
    "\n",
    "### Measure Prominent Wavelengths\n",
    "For tube B, we chose to measure the wavelengths of leading yellow and orange lines; and for tube C, we chose to measure the wavelengths of leading green and yellow lines. \n",
    "\n",
    "In these tables, 'a' stands for the distance between the spectral line and central maximum with standard error of 0.04 for each measurement and unit of cm; 'b' stands for the distance between diffraction grating and spectrometer with uncertainty of 0.05 for each measurement and unit of cm."
   ]
  },
  {
   "cell_type": "code",
   "execution_count": 11,
   "metadata": {},
   "outputs": [
    {
     "data": {
      "text/html": [
       "<div>\n",
       "<style scoped>\n",
       "    .dataframe tbody tr th:only-of-type {\n",
       "        vertical-align: middle;\n",
       "    }\n",
       "\n",
       "    .dataframe tbody tr th {\n",
       "        vertical-align: top;\n",
       "    }\n",
       "\n",
       "    .dataframe thead th {\n",
       "        text-align: right;\n",
       "    }\n",
       "</style>\n",
       "<table border=\"1\" class=\"dataframe\">\n",
       "  <thead>\n",
       "    <tr style=\"text-align: right;\">\n",
       "      <th></th>\n",
       "      <th>color</th>\n",
       "      <th>b</th>\n",
       "      <th>a</th>\n",
       "    </tr>\n",
       "  </thead>\n",
       "  <tbody>\n",
       "    <tr>\n",
       "      <td>0</td>\n",
       "      <td>yellow</td>\n",
       "      <td>17.3</td>\n",
       "      <td>56.6</td>\n",
       "    </tr>\n",
       "    <tr>\n",
       "      <td>1</td>\n",
       "      <td>red</td>\n",
       "      <td>19.2</td>\n",
       "      <td>56.6</td>\n",
       "    </tr>\n",
       "  </tbody>\n",
       "</table>\n",
       "</div>"
      ],
      "text/plain": [
       "    color     b     a\n",
       "0  yellow  17.3  56.6\n",
       "1     red  19.2  56.6"
      ]
     },
     "execution_count": 11,
     "metadata": {},
     "output_type": "execute_result"
    }
   ],
   "source": [
    "# Data table for tube B:\n",
    "dfB"
   ]
  },
  {
   "cell_type": "code",
   "execution_count": 12,
   "metadata": {},
   "outputs": [
    {
     "data": {
      "text/html": [
       "<div>\n",
       "<style scoped>\n",
       "    .dataframe tbody tr th:only-of-type {\n",
       "        vertical-align: middle;\n",
       "    }\n",
       "\n",
       "    .dataframe tbody tr th {\n",
       "        vertical-align: top;\n",
       "    }\n",
       "\n",
       "    .dataframe thead th {\n",
       "        text-align: right;\n",
       "    }\n",
       "</style>\n",
       "<table border=\"1\" class=\"dataframe\">\n",
       "  <thead>\n",
       "    <tr style=\"text-align: right;\">\n",
       "      <th></th>\n",
       "      <th>color</th>\n",
       "      <th>b</th>\n",
       "      <th>a</th>\n",
       "    </tr>\n",
       "  </thead>\n",
       "  <tbody>\n",
       "    <tr>\n",
       "      <td>0</td>\n",
       "      <td>green</td>\n",
       "      <td>19.7</td>\n",
       "      <td>70.3</td>\n",
       "    </tr>\n",
       "    <tr>\n",
       "      <td>1</td>\n",
       "      <td>yellow</td>\n",
       "      <td>21.3</td>\n",
       "      <td>70.3</td>\n",
       "    </tr>\n",
       "  </tbody>\n",
       "</table>\n",
       "</div>"
      ],
      "text/plain": [
       "    color     b     a\n",
       "0   green  19.7  70.3\n",
       "1  yellow  21.3  70.3"
      ]
     },
     "execution_count": 12,
     "metadata": {},
     "output_type": "execute_result"
    }
   ],
   "source": [
    "# Data table for tube C:\n",
    "dfC"
   ]
  },
  {
   "cell_type": "markdown",
   "metadata": {},
   "source": [
    "Using the equations from method sections, we found that for tube B (Neon):   \n",
    "$$\\lambda_{yellow} = 600\\pm6.2nm$$   \n",
    "$$\\lambda_{orange} = 659\\pm6.8nm$$   \n",
    "for tube C (Nitrogen):   \n",
    "$$\\lambda_{green} = 515\\pm5.1nm$$   \n",
    "$$\\lambda_{yellow} = 554\\pm6.1nm$$   \n",
    "\n",
    "\n",
    "We compared these experimentally determined values to data from National Institute of Standards and Technology https://physics.nist.gov/PhysRefData/Handbook/Tables/neontable2.htm:\n",
    "\n",
    "\n",
    "According to the data from NIST for Neon, there should be persistent spectral lines at 602.9nm and 659.9nm, so we see that the accepted values agree with the wavelengths we experimentally measured, and strongly support our conclusion that the gas in Tube B is Neon.\n",
    "\n",
    "\n",
    "According to the data from NIST for nitrogen, there are no persistent spectral lines within range of our experimentally measured wavelengths. However, there should be a persistent spectral line at 568.0nm, which fits into the range of a bright yellow line we observed between 565nm and 590nm. \n",
    "\n",
    "We believe that the wavelengths we observed for Tube 3 did not correspond to the persistent wavelengths for Nitrogen simply because there were so many spectral lines for nitrogen that we were unable to properly determine with spectral lines were the most prominent.  The wavelengths we measured did agree with wavelengths of Nitrogen that weren't persistent, and this observation together with the comparison between the images of known spectra indicates that the Gas in tube C is Nitrogen, even though we didn't properly measure the persistent wavelengths."
   ]
  },
  {
   "cell_type": "markdown",
   "metadata": {},
   "source": [
    "# Summary and Conclusion:\n",
    "\n",
    "The objective of this lab was to study the Rydberg formula and the Bohr Model of the atom, observe atomic spectra for other elements, and qualitatively distinguish various spectra from a variety of sources.  In experiment 2, we experimentally verified the Rydberg formula and found a value for the Rydberg constant that agreed with the accepted value.  In experiment 4, we qualitatively distinguished various spectra by comparing each observed spectrum to the spectra of known elements.  Therefore we accomplished all of objectives for the lab.  \n",
    "\n",
    "\n",
    "With regards to the findings of the experiments reported on in this report, as previously stated, in experiment 2, we were able to use our data to accurately measure the Rydberg constant, and in experiment 4, we determined that the gas in Tube B was Neon, and the gas in Tube C was Nitrogen.\n",
    "\n",
    "\n",
    "# Contributions of Each Member\n",
    "\n",
    "Danny and Heidi did equal amounts of work on the actual lab work and on the lab report.\n",
    "\n",
    "\n",
    "# References\n",
    "\n",
    "We used Python and the open source libraries Pandas, Matplotlib, and Numpy."
   ]
  },
  {
   "cell_type": "code",
   "execution_count": 22,
   "metadata": {},
   "outputs": [],
   "source": [
    "import pandas as pd\n",
    "import numpy as np\n",
    "from IPython.display import Image\n",
    "B = Image('BNeon.jpg')\n",
    "C = Image('CNitrogen.jpg')\n",
    "Argon = Image('standardArgon.jpg')\n",
    "Nitrogen = Image('standardNitrogen.jpg')\n",
    "Neon = Image('standardNeon.jpg')\n",
    "setup = Image('setup.jpg')\n"
   ]
  },
  {
   "cell_type": "markdown",
   "metadata": {},
   "source": [
    "The following scripts were used to generate the data tables in experiment 4:"
   ]
  },
  {
   "cell_type": "code",
   "execution_count": 36,
   "metadata": {},
   "outputs": [
    {
     "data": {
      "text/html": [
       "<div>\n",
       "<style scoped>\n",
       "    .dataframe tbody tr th:only-of-type {\n",
       "        vertical-align: middle;\n",
       "    }\n",
       "\n",
       "    .dataframe tbody tr th {\n",
       "        vertical-align: top;\n",
       "    }\n",
       "\n",
       "    .dataframe thead th {\n",
       "        text-align: right;\n",
       "    }\n",
       "</style>\n",
       "<table border=\"1\" class=\"dataframe\">\n",
       "  <thead>\n",
       "    <tr style=\"text-align: right;\">\n",
       "      <th></th>\n",
       "      <th>color</th>\n",
       "      <th>a</th>\n",
       "      <th>b</th>\n",
       "    </tr>\n",
       "  </thead>\n",
       "  <tbody>\n",
       "    <tr>\n",
       "      <td>0</td>\n",
       "      <td>yellow</td>\n",
       "      <td>17.3</td>\n",
       "      <td>56.6</td>\n",
       "    </tr>\n",
       "    <tr>\n",
       "      <td>1</td>\n",
       "      <td>orange</td>\n",
       "      <td>19.2</td>\n",
       "      <td>56.6</td>\n",
       "    </tr>\n",
       "  </tbody>\n",
       "</table>\n",
       "</div>"
      ],
      "text/plain": [
       "    color     a     b\n",
       "0  yellow  17.3  56.6\n",
       "1  orange  19.2  56.6"
      ]
     },
     "execution_count": 36,
     "metadata": {},
     "output_type": "execute_result"
    }
   ],
   "source": [
    "B = {'color':['yellow', 'orange'], 'a':[17.3, 19.2], 'b':[56.6, 56.6]}\n",
    "C = {'color':['green', 'yellow'], 'a':[19.7, 21.3], 'b':[70.3, 70.3]}\n",
    "dfB = pd.DataFrame(B)\n",
    "dfC = pd.DataFrame(C)\n",
    "dfB"
   ]
  },
  {
   "cell_type": "code",
   "execution_count": 37,
   "metadata": {},
   "outputs": [
    {
     "data": {
      "text/html": [
       "<div>\n",
       "<style scoped>\n",
       "    .dataframe tbody tr th:only-of-type {\n",
       "        vertical-align: middle;\n",
       "    }\n",
       "\n",
       "    .dataframe tbody tr th {\n",
       "        vertical-align: top;\n",
       "    }\n",
       "\n",
       "    .dataframe thead th {\n",
       "        text-align: right;\n",
       "    }\n",
       "</style>\n",
       "<table border=\"1\" class=\"dataframe\">\n",
       "  <thead>\n",
       "    <tr style=\"text-align: right;\">\n",
       "      <th></th>\n",
       "      <th>color</th>\n",
       "      <th>a</th>\n",
       "      <th>b</th>\n",
       "      <th>lambda</th>\n",
       "    </tr>\n",
       "  </thead>\n",
       "  <tbody>\n",
       "    <tr>\n",
       "      <td>0</td>\n",
       "      <td>yellow</td>\n",
       "      <td>17.3</td>\n",
       "      <td>56.6</td>\n",
       "      <td>599.844832</td>\n",
       "    </tr>\n",
       "    <tr>\n",
       "      <td>1</td>\n",
       "      <td>orange</td>\n",
       "      <td>19.2</td>\n",
       "      <td>56.6</td>\n",
       "      <td>659.229957</td>\n",
       "    </tr>\n",
       "  </tbody>\n",
       "</table>\n",
       "</div>"
      ],
      "text/plain": [
       "    color     a     b      lambda\n",
       "0  yellow  17.3  56.6  599.844832\n",
       "1  orange  19.2  56.6  659.229957"
      ]
     },
     "execution_count": 37,
     "metadata": {},
     "output_type": "execute_result"
    }
   ],
   "source": [
    "dfB['lambda'] = dfB['a']/(4873e-7 * np.sqrt((dfB['a'])**2 + (dfB['b'])**2))\n",
    "dfC['lambda'] = dfC['a']/(5233e-7 * np.sqrt(dfC['a']**2 + dfC['b']**2))\n",
    "dfB"
   ]
  },
  {
   "cell_type": "code",
   "execution_count": 38,
   "metadata": {},
   "outputs": [
    {
     "data": {
      "text/html": [
       "<div>\n",
       "<style scoped>\n",
       "    .dataframe tbody tr th:only-of-type {\n",
       "        vertical-align: middle;\n",
       "    }\n",
       "\n",
       "    .dataframe tbody tr th {\n",
       "        vertical-align: top;\n",
       "    }\n",
       "\n",
       "    .dataframe thead th {\n",
       "        text-align: right;\n",
       "    }\n",
       "</style>\n",
       "<table border=\"1\" class=\"dataframe\">\n",
       "  <thead>\n",
       "    <tr style=\"text-align: right;\">\n",
       "      <th></th>\n",
       "      <th>color</th>\n",
       "      <th>a</th>\n",
       "      <th>b</th>\n",
       "      <th>lambda</th>\n",
       "    </tr>\n",
       "  </thead>\n",
       "  <tbody>\n",
       "    <tr>\n",
       "      <td>0</td>\n",
       "      <td>green</td>\n",
       "      <td>19.7</td>\n",
       "      <td>70.3</td>\n",
       "      <td>515.637571</td>\n",
       "    </tr>\n",
       "    <tr>\n",
       "      <td>1</td>\n",
       "      <td>yellow</td>\n",
       "      <td>21.3</td>\n",
       "      <td>70.3</td>\n",
       "      <td>554.117354</td>\n",
       "    </tr>\n",
       "  </tbody>\n",
       "</table>\n",
       "</div>"
      ],
      "text/plain": [
       "    color     a     b      lambda\n",
       "0   green  19.7  70.3  515.637571\n",
       "1  yellow  21.3  70.3  554.117354"
      ]
     },
     "execution_count": 38,
     "metadata": {},
     "output_type": "execute_result"
    }
   ],
   "source": [
    "dfC"
   ]
  },
  {
   "cell_type": "markdown",
   "metadata": {},
   "source": [
    "The following scripts were used to find the wavelengths of the spectral lines in experiment 4:"
   ]
  },
  {
   "cell_type": "code",
   "execution_count": 40,
   "metadata": {},
   "outputs": [
    {
     "data": {
      "text/plain": [
       "6.18263453404893e-07"
      ]
     },
     "execution_count": 40,
     "metadata": {},
     "output_type": "execute_result"
    }
   ],
   "source": [
    "# Propagating error for yellow wavelength of tube B\n",
    "\n",
    "a = 17.3\n",
    "b = 56.6\n",
    "db = 0.05\n",
    "da = 0.04\n",
    "D = 4873\n",
    "dD = 49\n",
    "dl = np.sqrt((((a**3 + a*b**2)*dD/D)**2 + (b**2 * da)**2 + (a*b*db)**2) /((a**2 + b**2)**3*D**2))\n",
    "dl"
   ]
  },
  {
   "cell_type": "code",
   "execution_count": 41,
   "metadata": {},
   "outputs": [
    {
     "data": {
      "text/plain": [
       "6.7624764240299e-07"
      ]
     },
     "execution_count": 41,
     "metadata": {},
     "output_type": "execute_result"
    }
   ],
   "source": [
    "# Propagating error for orange wavelength of tube B\n",
    "\n",
    "a = 19.2\n",
    "b = 56.6\n",
    "db = 0.05\n",
    "da = 0.04\n",
    "D = 4873\n",
    "dD = 49\n",
    "dl = np.sqrt((((a**3 + a*b**2)*dD/D)**2 + (b**2 * da)**2 + (a*b*db)**2) /((a**2 + b**2)**3*D**2))\n",
    "dl"
   ]
  },
  {
   "cell_type": "code",
   "execution_count": 42,
   "metadata": {},
   "outputs": [
    {
     "data": {
      "text/plain": [
       "5.056171316722628e-07"
      ]
     },
     "execution_count": 42,
     "metadata": {},
     "output_type": "execute_result"
    }
   ],
   "source": [
    "# Propagating error for green wavelength of tube C\n",
    "\n",
    "a = 17.3\n",
    "b = 70.3\n",
    "db = 0.05\n",
    "da = 0.04\n",
    "D = 4873\n",
    "dD = 49\n",
    "dl = np.sqrt((((a**3 + a*b**2)*dD/D)**2 + (b**2 * da)**2 + (a*b*db)**2) /((a**2 + b**2)**3*D**2))\n",
    "dl"
   ]
  },
  {
   "cell_type": "code",
   "execution_count": 43,
   "metadata": {
    "scrolled": false
   },
   "outputs": [
    {
     "data": {
      "text/plain": [
       "6.082777859038892e-07"
      ]
     },
     "execution_count": 43,
     "metadata": {},
     "output_type": "execute_result"
    }
   ],
   "source": [
    "# Propagating error for yellow wavelength of tube C\n",
    "\n",
    "a = 21.3\n",
    "b = 70.3\n",
    "db = 0.05\n",
    "da = 0.04\n",
    "D = 4873\n",
    "dD = 49\n",
    "dl = np.sqrt((((a**3 + a*b**2)*dD/D)**2 + (b**2 * da)**2 + (a*b*db)**2) /((a**2 + b**2)**3*D**2))\n",
    "dl"
   ]
  },
  {
   "cell_type": "markdown",
   "metadata": {},
   "source": [
    "The following scripts were used to generate the data tables in experiment 2:"
   ]
  },
  {
   "cell_type": "code",
   "execution_count": 2,
   "metadata": {},
   "outputs": [],
   "source": [
    "import pandas as pd\n",
    "import matplotlib.pyplot as plt\n",
    "import numpy as np"
   ]
  },
  {
   "cell_type": "code",
   "execution_count": 3,
   "metadata": {},
   "outputs": [],
   "source": [
    "data1 = pd.DataFrame({\"Distance\": [22.2, 22.1, 22.2, 22.3]})"
   ]
  },
  {
   "cell_type": "code",
   "execution_count": 4,
   "metadata": {},
   "outputs": [],
   "source": [
    "data2 = pd.DataFrame({\"Color\": ['Blue', 'Teal', 'Red'],\n",
    "                     \"a\": [10.1, 11.7, 16.5]})"
   ]
  },
  {
   "cell_type": "code",
   "execution_count": 19,
   "metadata": {},
   "outputs": [],
   "source": [
    "d3 = pd.DataFrame()\n",
    "d2 = data2\n",
    "d3['Color'] = data2.Color\n",
    "d3['lambda'] = d2.a / (4873e-7 * (d2.a **2 + 46.9 **2)**0.5)\n",
    "d3['dlambda'] = ((((d2.a**3) + (d2.a * 46.9**2) * (49/ 4873))**2 + \\\n",
    "                  (0.04 * 46.9**2)**2 + (d2.a * 46.9 * 0.05)**2)/((4873e-7)**2 * (d2.a**2 + 46.9**2)**3))**0.5\n",
    "d3['n'] = [5, 4, 3]\n",
    "\n",
    "d4 = pd.DataFrame()\n",
    "d4['Color'] = d2.Color\n",
    "d4['wl^-1'] = 1/(d3['lambda'] * 1e-9)\n",
    "d4['dwl^-1'] = d3.dlambda * 1e9 / (d3['lambda'] ** 2)\n",
    "d4['n'] = d3.n"
   ]
  },
  {
   "cell_type": "code",
   "execution_count": 20,
   "metadata": {},
   "outputs": [
    {
     "data": {
      "text/html": [
       "<div>\n",
       "<style scoped>\n",
       "    .dataframe tbody tr th:only-of-type {\n",
       "        vertical-align: middle;\n",
       "    }\n",
       "\n",
       "    .dataframe tbody tr th {\n",
       "        vertical-align: top;\n",
       "    }\n",
       "\n",
       "    .dataframe thead th {\n",
       "        text-align: right;\n",
       "    }\n",
       "</style>\n",
       "<table border=\"1\" class=\"dataframe\">\n",
       "  <thead>\n",
       "    <tr style=\"text-align: right;\">\n",
       "      <th></th>\n",
       "      <th>Color</th>\n",
       "      <th>wl^-1</th>\n",
       "      <th>dwl^-1</th>\n",
       "      <th>n</th>\n",
       "    </tr>\n",
       "  </thead>\n",
       "  <tbody>\n",
       "    <tr>\n",
       "      <th>0</th>\n",
       "      <td>Blue</td>\n",
       "      <td>2.314685e+06</td>\n",
       "      <td>125161.823875</td>\n",
       "      <td>5</td>\n",
       "    </tr>\n",
       "    <tr>\n",
       "      <th>1</th>\n",
       "      <td>Teal</td>\n",
       "      <td>2.013230e+06</td>\n",
       "      <td>137176.217853</td>\n",
       "      <td>4</td>\n",
       "    </tr>\n",
       "    <tr>\n",
       "      <th>2</th>\n",
       "      <td>Red</td>\n",
       "      <td>1.468332e+06</td>\n",
       "      <td>174894.483327</td>\n",
       "      <td>3</td>\n",
       "    </tr>\n",
       "  </tbody>\n",
       "</table>\n",
       "</div>"
      ],
      "text/plain": [
       "  Color         wl^-1         dwl^-1  n\n",
       "0  Blue  2.314685e+06  125161.823875  5\n",
       "1  Teal  2.013230e+06  137176.217853  4\n",
       "2   Red  1.468332e+06  174894.483327  3"
      ]
     },
     "execution_count": 20,
     "metadata": {},
     "output_type": "execute_result"
    }
   ],
   "source": [
    "d4"
   ]
  }
 ],
 "metadata": {
  "kernelspec": {
   "display_name": "Python 3",
   "language": "python",
   "name": "python3"
  },
  "language_info": {
   "codemirror_mode": {
    "name": "ipython",
    "version": 3
   },
   "file_extension": ".py",
   "mimetype": "text/x-python",
   "name": "python",
   "nbconvert_exporter": "python",
   "pygments_lexer": "ipython3",
   "version": "3.6.2"
  }
 },
 "nbformat": 4,
 "nbformat_minor": 2
}
