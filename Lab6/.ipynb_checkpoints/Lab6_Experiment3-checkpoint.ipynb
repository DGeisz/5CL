{
 "cells": [
  {
   "cell_type": "code",
   "execution_count": 1,
   "metadata": {},
   "outputs": [],
   "source": [
    "import pandas as pd\n",
    "import numpy as np\n",
    "from IPython.display import Image\n",
    "B = Image('B-Neon.jpg')\n",
    "C = Image('C-Nitrogen.jpg')\n",
    "Argon = Image('standardArgon.jpg')\n",
    "Nitrogen = Image('standardNitrogen.jpg')\n",
    "Neon = Image('standardNeon.jpg')\n",
    "setup = Image('setup.jpg')\n"
   ]
  },
  {
   "cell_type": "markdown",
   "metadata": {},
   "source": [
    "# Experiment 3 Mystery Tubes!\n",
    "## Objective:\n",
    "We will determine the unknown gas tubes by observing and comparing their emission spectra, measure wavelengths of two of the most prominent spectral lines for each tube, and verify them with research results.\n",
    "## Method:\n",
    "- Load tube B into power supply and and set up the spectrometer as illustrated in the figure below to observe the emitted light.   \n",
    "![Experiment 4](setup.jpg)   \n",
    "\n",
    "- Use the sliders to find the distance between prominent spectral lines and the central maximum and record them.\n",
    "- Load tube C into power supply and repeat the procedures above.\n",
    "\n",
    "Note that in the following analysis, we let the variable a equal the distance between the diffraction grating and the spectrometer, and we let the variable b represent the distance between the central maximum and the prominent spectral line. So then, to collect data, we simply found a and b using sliders in the order of first tube B, and then tube C, and then we used the following equations.\n",
    "\n",
    "From theory we know that if θ is the angle between the central maximum and the first fringe, d is the slit width of the diffraction grating, and λ is the wavelength of the light being used, we have:\n",
    "$\\lambda = dsin(\\theta)$\n",
    "We also know that based on how the variables were defined,\n",
    "\n",
    "Finally, it should be noted that in Lab5, we measured the slit density D to be $D = 5233\\pm49 slits·cm^{-1}$."
   ]
  },
  {
   "cell_type": "code",
   "execution_count": null,
   "metadata": {},
   "outputs": [],
   "source": []
  },
  {
   "cell_type": "code",
   "execution_count": null,
   "metadata": {},
   "outputs": [],
   "source": []
  },
  {
   "cell_type": "code",
   "execution_count": null,
   "metadata": {},
   "outputs": [],
   "source": []
  },
  {
   "cell_type": "code",
   "execution_count": null,
   "metadata": {},
   "outputs": [],
   "source": []
  },
  {
   "cell_type": "code",
   "execution_count": 2,
   "metadata": {},
   "outputs": [],
   "source": [
    "B = {'color':['yellow', 'red'], 'b':[17.3, 19.2], 'a':[56.6, 56.6]}\n",
    "C = {'color':['green', 'yellow'], 'b':[19.7, 21.3], 'a':[70.3, 70.3]}\n",
    "dfB = pd.DataFrame(B)\n",
    "dfC = pd.DataFrame(C)"
   ]
  },
  {
   "cell_type": "code",
   "execution_count": null,
   "metadata": {},
   "outputs": [],
   "source": []
  },
  {
   "cell_type": "code",
   "execution_count": null,
   "metadata": {},
   "outputs": [],
   "source": []
  },
  {
   "cell_type": "code",
   "execution_count": null,
   "metadata": {},
   "outputs": [],
   "source": []
  }
 ],
 "metadata": {
  "kernelspec": {
   "display_name": "Python 3",
   "language": "python",
   "name": "python3"
  },
  "language_info": {
   "codemirror_mode": {
    "name": "ipython",
    "version": 3
   },
   "file_extension": ".py",
   "mimetype": "text/x-python",
   "name": "python",
   "nbconvert_exporter": "python",
   "pygments_lexer": "ipython3",
   "version": "3.7.4"
  }
 },
 "nbformat": 4,
 "nbformat_minor": 2
}
