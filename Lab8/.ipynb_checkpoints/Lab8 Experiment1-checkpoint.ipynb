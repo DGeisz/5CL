{
 "cells": [
  {
   "cell_type": "markdown",
   "metadata": {},
   "source": [
    "# Preliminary Tasks\n",
    "## Objectives\n",
    "We determined the absolute volume of the ideal gas apparatus and its leakage under different pressures.\n",
    "## Method:\n",
    "### Task 1 - Determine Absolute Volume\n",
    "We first separately measured the heights, denoted by h, and diameters, denoted by d, of cross sectional areas of metal canister, connecting tube, and a certain amount of the chamber attached to the piston. Then we decided the total absolute volume by using the formula:  $$V_{cylinder} = \\pi(\\frac{d}{2})^{2}h$$  $$V_{abs} = V_{canister} + V_{tube} + V_{chamber}$$   \n",
    "These have the following equations for error propagations:   \n",
    "$$\\delta V_{cylinder} = \\dfrac{\\pi d}{2}\\sqrt{h^{2}\\delta d^{2}+\\frac{d^{2}}{4}\\delta h^{2}}$$\n",
    "$$\\delta V_{abs} = \\delta V_{canister} + \\delta V_{tube} + \\delta V_{chamber}$$ \n",
    "### Task 2 - Determine Leakage\n",
    "We recorded the height of the piston as a function of time when there is no mass on the piston and again for masses of 50g and 100g on the piston. \n",
    "\n",
    "## Answers to Data Analysis Problems\n",
    "### Determine Absolute Volume\n",
    "Our measurements of apparatus dimensions are shown below in the diagram. Note that the height of the piston chamber consists of an initial offset and the reading of piston. We let r represent the reading and h represent the total height of the cylinder :\n",
    "![Experiment 1](ApparatusDimensions.jpg)   \n",
    "\n",
    "The following script calculates the absolute volume of this apparatus and its associated uncertainty using the simple formulas above:   \n",
    "![Experiment 1](Volume.jpg)   \n",
    "![Experiment 1](VolumeError.jpg)   \n",
    "\n",
    "The absolute volume of the ideal gas apparatus is $V = 166.9 + 8.3(0.5 + r) \\pm  5.6+5.1\\sqrt{0.0066 + 0.0025 (0.5 + r)^{2}} cm^{3}$   \n",
    "\n",
    "### Determine Leakage\n",
    "The following three tables below correspond to the data collected when there is no mass, when there is a 50g mass, and when there is a 100g mass above the piston respectively. In the tables below, 't' represents the time elapsed after the piston is released, with unit of second; 'h' represents the reading of piston at the corresponding moment, with unit of millimeter. "
   ]
  },
  {
   "cell_type": "code",
   "execution_count": 52,
   "metadata": {},
   "outputs": [
    {
     "name": "stdout",
     "output_type": "stream",
     "text": [
      "     t   h\n",
      "0    0  75\n",
      "1  156  71\n",
      "2  236  69\n",
      "     t   h\n",
      "0    0  75\n",
      "1   40  73\n",
      "2   76  71\n",
      "3  115  69\n",
      "    t   h\n",
      "0   0  74\n",
      "1  22  72\n",
      "2  66  69\n",
      "3  90  67\n"
     ]
    }
   ],
   "source": [
    "print(df0)\n",
    "print(df50)\n",
    "print(df100)"
   ]
  },
  {
   "cell_type": "markdown",
   "metadata": {},
   "source": [
    "# Experient 1 Isobaric Process (Charles’ Law)\n",
    "## Objectives:\n",
    "In this experiment, we verified Charle's Law and determined the value of absolute zero in the Celsius scale.\n",
    "## Method:\n",
    "### Verify Charle's Law\n",
    "We positioned the ideal gas apparatus horizontally as indicated in the diagram below to maintain a constant internal pressure and minimize the uncertainties due to leakage.   \n",
    "![Experiment 1](GasApparatus.jpg)   \n",
    "\n",
    "We then submerged the metal air canister in water baths of different temperatures, and recorded the temperatures as well as positions of the piston. Then we calculated the respective absolute volumes using equations above. Here we let V represent the absolute volume of ideal gas apparatus and t represent the temperature of water bath.   \n",
    "Thus Charle's Law approximates to the following relation:\n",
    "$$V=\\hat mt + \\hat b$$\n",
    "We then fitted our collected data using weighted least squares linear hypothesis and plotted a residue diagram to verify that our data agrees with the relation stated above.\n",
    "\n",
    "### Determine Absolute Zero\n",
    "From the linear model yielded above, we extrapolated the x-intercept $t_{0}$ and its associated uncertainty $\\delta t_{0}$ using the relations below:  $$t_{0} = -\\frac{\\hat b}{\\hat m}$$\n",
    "$$\\delta t_{0} = \\sqrt{\\left(\\frac{\\delta\\hat m}{\\hat b}\\right)^{2}+ \\left(\\frac{\\hat m}{\\hat b^{2}}\\delta\\hat b\\right)^{2}}$$  \n",
    "\n",
    "The expected x-intercept corresponds to the absolute zero value in degree Celsius, -273. "
   ]
  },
  {
   "cell_type": "markdown",
   "metadata": {},
   "source": [
    "## Answers to Data Analysis Problems:\n",
    "### Verifying Charle's Law\n",
    "The following data table corresponds to the data we took in Experiment 1. Here, \"t\" and \"dt\" refer to the temperature of water bath and its assoiated uncertainty, with unit of degree Celsius; \"r\" and \"dr\" refer to the reading of piston and its associated uncertainty, with unit of meter; \"V\" and \"dV\" refer to the absolute volume of ideal gas apparatus and its associated uncertainty, with unit of metercube.\n"
   ]
  },
  {
   "cell_type": "code",
   "execution_count": 64,
   "metadata": {
    "scrolled": true
   },
   "outputs": [
    {
     "data": {
      "text/html": [
       "<div>\n",
       "<style scoped>\n",
       "    .dataframe tbody tr th:only-of-type {\n",
       "        vertical-align: middle;\n",
       "    }\n",
       "\n",
       "    .dataframe tbody tr th {\n",
       "        vertical-align: top;\n",
       "    }\n",
       "\n",
       "    .dataframe thead th {\n",
       "        text-align: right;\n",
       "    }\n",
       "</style>\n",
       "<table border=\"1\" class=\"dataframe\">\n",
       "  <thead>\n",
       "    <tr style=\"text-align: right;\">\n",
       "      <th></th>\n",
       "      <th>t</th>\n",
       "      <th>dt</th>\n",
       "      <th>r</th>\n",
       "      <th>dr</th>\n",
       "      <th>V</th>\n",
       "      <th>dV</th>\n",
       "    </tr>\n",
       "  </thead>\n",
       "  <tbody>\n",
       "    <tr>\n",
       "      <td>0</td>\n",
       "      <td>2.0</td>\n",
       "      <td>0.5</td>\n",
       "      <td>2.4</td>\n",
       "      <td>0.0005</td>\n",
       "      <td>0.000191</td>\n",
       "      <td>0.000006</td>\n",
       "    </tr>\n",
       "    <tr>\n",
       "      <td>1</td>\n",
       "      <td>14.5</td>\n",
       "      <td>0.5</td>\n",
       "      <td>3.1</td>\n",
       "      <td>0.0005</td>\n",
       "      <td>0.000197</td>\n",
       "      <td>0.000007</td>\n",
       "    </tr>\n",
       "    <tr>\n",
       "      <td>2</td>\n",
       "      <td>26.0</td>\n",
       "      <td>0.5</td>\n",
       "      <td>4.0</td>\n",
       "      <td>0.0005</td>\n",
       "      <td>0.000204</td>\n",
       "      <td>0.000007</td>\n",
       "    </tr>\n",
       "    <tr>\n",
       "      <td>3</td>\n",
       "      <td>34.7</td>\n",
       "      <td>0.5</td>\n",
       "      <td>4.7</td>\n",
       "      <td>0.0005</td>\n",
       "      <td>0.000210</td>\n",
       "      <td>0.000007</td>\n",
       "    </tr>\n",
       "    <tr>\n",
       "      <td>4</td>\n",
       "      <td>44.8</td>\n",
       "      <td>0.5</td>\n",
       "      <td>5.4</td>\n",
       "      <td>0.0005</td>\n",
       "      <td>0.000216</td>\n",
       "      <td>0.000007</td>\n",
       "    </tr>\n",
       "  </tbody>\n",
       "</table>\n",
       "</div>"
      ],
      "text/plain": [
       "      t   dt    r      dr         V        dV\n",
       "0   2.0  0.5  2.4  0.0005  0.000191  0.000006\n",
       "1  14.5  0.5  3.1  0.0005  0.000197  0.000007\n",
       "2  26.0  0.5  4.0  0.0005  0.000204  0.000007\n",
       "3  34.7  0.5  4.7  0.0005  0.000210  0.000007\n",
       "4  44.8  0.5  5.4  0.0005  0.000216  0.000007"
      ]
     },
     "execution_count": 64,
     "metadata": {},
     "output_type": "execute_result"
    }
   ],
   "source": [
    "df"
   ]
  },
  {
   "cell_type": "markdown",
   "metadata": {},
   "source": [
    "I will fit the data from the above data table to a linear hypothesis, $$V = \\hat m t + \\hat b$$ \n",
    "using the weighted least squares method. The following script finds the best fit parameters and their\n",
    "correspond uncertainties."
   ]
  },
  {
   "cell_type": "code",
   "execution_count": 54,
   "metadata": {},
   "outputs": [],
   "source": [
    "# Simple least squares linear hypothesis\n",
    "\n",
    "df['xy'] = df['t'] * df['V']\n",
    "df['x2'] = df['t']**2\n",
    "\n",
    "xymean = np.mean(df['xy'])\n",
    "x2mean = np.mean(df['x2'])\n",
    "xmean = np.mean(df['t'])\n",
    "ymean = np.mean(df['V'])\n",
    "xmean2 = xmean **2\n",
    "sigmax2 = x2mean - xmean2\n",
    "\n",
    "mhat = (xymean - xmean * ymean)/sigmax2\n",
    "bhat = (x2mean * ymean - xmean * xymean)/sigmax2\n",
    "df['expy'] = df['t'] * mhat + bhat\n",
    "dely = np.sqrt(np.sum((df['V'] - df['expy'])**2)/3)\n",
    "delmhat = dely/np.sqrt(4 * sigmax2)\n",
    "delbhat = delmhat * np.sqrt(x2mean)"
   ]
  },
  {
   "cell_type": "code",
   "execution_count": 55,
   "metadata": {
    "scrolled": true
   },
   "outputs": [
    {
     "name": "stdout",
     "output_type": "stream",
     "text": [
      "5.927549999057953e-07\n",
      "0.00018911917442610446\n",
      "2.0214415426081507e-07\n",
      "5.601029857555275e-06\n"
     ]
    }
   ],
   "source": [
    "# Weighted least squares linear hypothesis\n",
    "\n",
    "df['delyequ2'] = df['dV']**2 + (df['dt'] * mhat)**2\n",
    "df['w'] = 1/df['delyequ2']\n",
    "df.wx = df.w * df.t\n",
    "df.wy = df.w * df.V\n",
    "df.wxy = df.w * df.t * df.V\n",
    "df.wx2 = df.w * df.t**2\n",
    "\n",
    "wsum = np.sum(df.w)\n",
    "wxsum = np.sum(df.wx)\n",
    "wysum = np.sum(df.wy)\n",
    "wxysum = np.sum(df.wxy)\n",
    "wx2sum = np.sum(df.wx2)\n",
    "\n",
    "weighted_mhat = (wsum * wxysum - wxsum * wysum)/(wsum * wx2sum - wxsum**2)\n",
    "weighted_bhat = (wysum - weighted_mhat * wxsum)/wsum\n",
    "weighted_delmhat = np.sqrt(wsum/(wsum * wx2sum - wxsum**2))\n",
    "weighted_delbhat = np.sqrt(wx2sum/(wsum * wx2sum - wxsum**2))\n",
    "\n",
    "print(weighted_mhat)\n",
    "print(weighted_bhat)\n",
    "print(weighted_delmhat)\n",
    "print(weighted_delbhat)"
   ]
  },
  {
   "cell_type": "markdown",
   "metadata": {},
   "source": [
    "We see that a weighted least squares fit yields, \n",
    "$$\\hat m = 5.93\\pm2.02 \\times 10^{-7}$$\n",
    "$$\\hat b = 1.89\\pm0.056\\times 10^{-4}$$\n",
    "$$V = 5.93\\times 10^{-7}t + 0.00019$$\n",
    "The following plot shows the residuals of this fit:"
   ]
  },
  {
   "cell_type": "code",
   "execution_count": 56,
   "metadata": {},
   "outputs": [
    {
     "data": {
      "image/png": "[encoded data removed]",
      "text/plain": [
       "<Figure size 432x288 with 1 Axes>"
      ]
     },
     "metadata": {
      "needs_background": "light"
     },
     "output_type": "display_data"
    }
   ],
   "source": [
    "# Plotting Residual\n",
    "res = df.V - (df.t * 5.927549999057953e-07 + ymean - 5.927549999057953e-07 * xmean)\n",
    "plt.errorbar(df.t, res, yerr=df.dV, fmt='.')\n",
    "plt.axhline(0, 0, 1, color='red')\n",
    "plt.xlabel('t')\n",
    "plt.ylabel('Residual')\n",
    "plt.title('Residuals vs. t')\n",
    "plt.show()"
   ]
  },
  {
   "cell_type": "markdown",
   "metadata": {},
   "source": [
    "Clearly all our error bars crossed the x axis, which indicates that our data is strongly linear and verifies Charles's Law well."
   ]
  },
  {
   "cell_type": "markdown",
   "metadata": {},
   "source": [
    "### Determining Value of Absolute Zero\n",
    "Using equatiosn mentioned in the method section, the relation stated above $V = 5.93\\times 10^{-7}t + 0.00019$ yielded the x-intercept $$t_{0} = -320.4\\pm0.0011$$, which corresponds to the value of absolute zero in degree Celsius.    \n",
    "\n",
    "Despite that our data is highly linear, the extrapolated absolute zero value does not agree with the expected value of -273 degree Celsius. This is possibly because we were measuring the temperature of waterbath, which doesn't necessarily equal to the corresponding temperature of ideal gas within the metal canister. Also the absolute volume of ideal gas contained is poorly approximated due to leakage as we can see from the second preliminary task."
   ]
  },
  {
   "cell_type": "markdown",
   "metadata": {},
   "source": [
    "# Summary and Conclusion\n",
    "The objective of this lab was to study calorimetry and heat flow, as well as to observe thermal conductivity and rates of heat transfer.\n",
    "In the preliminary tasks, we determined the absolute volume of the ideal gas apparatus and its leakage under different pressures. Then in experiment 1, we successfully verified Charles's Law, but our calculated value of absolute zero in degree Celsius was different from \n",
    "expected value with a 17.2% error. This, as analyzed above, could due to poor approximations of both volume and temperature of the ideal gas. \n",
    "# Contributions of Each Member\n",
    "Danny and Heidi did equal amounts of work on the actual lab work and on the lab report.\n",
    "# References"
   ]
  },
  {
   "cell_type": "code",
   "execution_count": 57,
   "metadata": {},
   "outputs": [],
   "source": [
    "# We used Python and the open source libraries Pandas, Matplotlib, and Numpy.\n",
    "import pandas as pd\n",
    "import numpy as np\n",
    "import matplotlib.pyplot as plt\n",
    "from IPython.display import Image\n",
    "GasApparatus = Image('GasApparatus.jpg')\n",
    "ApparatusDimensions = Image('ApparatusDimensions.jpg')\n",
    "Volume = Image('Volume.jpg')\n",
    "VolumeError = Image('VolumeError.jpg')"
   ]
  },
  {
   "cell_type": "code",
   "execution_count": 58,
   "metadata": {},
   "outputs": [],
   "source": [
    "# Creating data table used in preliminary task 2\n",
    "data0 = {'t':[0, 156, 236], 'h':[75, 71, 69]}\n",
    "data50 = {'t':[0, 40, 76, 115], 'h':[75, 73, 71, 69]}\n",
    "data100 = {'t':[0, 22, 66, 90], 'h':[74, 72, 69, 67]}\n",
    "df0 = pd.DataFrame(data0)\n",
    "df50 = pd.DataFrame(data50)\n",
    "df100 = pd.DataFrame(data100)"
   ]
  },
  {
   "cell_type": "code",
   "execution_count": 63,
   "metadata": {},
   "outputs": [],
   "source": [
    "# Creating data table used in experiment 1\n",
    "data = {'t':[2.0, 14.5, 26.0, 34.7, 44.8], \n",
    "        'dt':[0.5, 0.5, 0.5, 0.5, 0.5],\n",
    "        'r':[2.4, 3.1, 4.0, 4.7, 5.4],\n",
    "        'dr':[5e-4, 5e-4, 5e-4, 5e-4, 5e-4]\n",
    "       }\n",
    "df = pd.DataFrame(data)\n",
    "df['V'] = (166.9 + 8.3 * (0.5 + df['r']))*(10**-6)\n",
    "df['dV'] = (5.6 + 5.1 * np.sqrt(0.0066 + 0.0025 * (0.5 + df['r'])**2))*(10**-6)"
   ]
  },
  {
   "cell_type": "code",
   "execution_count": 60,
   "metadata": {},
   "outputs": [
    {
     "data": {
      "text/plain": [
       "-320.4047217537943"
      ]
     },
     "execution_count": 60,
     "metadata": {},
     "output_type": "execute_result"
    }
   ],
   "source": [
    "# Extrapolating x-intercept\n",
    "-0.00019/5.93e-07"
   ]
  },
  {
   "cell_type": "code",
   "execution_count": 61,
   "metadata": {},
   "outputs": [
    {
     "data": {
      "text/plain": [
       "0.0010678874513106202"
      ]
     },
     "execution_count": 61,
     "metadata": {},
     "output_type": "execute_result"
    }
   ],
   "source": [
    "# Propagating error for the x-intercept\n",
    "np.sqrt(((-1/0.00019)*2.0214415426081507e-07)**2 + ((5.93e-07/0.00019**2)*5.601029857555275e-06)**2)"
   ]
  },
  {
   "cell_type": "code",
   "execution_count": 62,
   "metadata": {},
   "outputs": [
    {
     "data": {
      "text/plain": [
       "0.17216117216117216"
      ]
     },
     "execution_count": 62,
     "metadata": {},
     "output_type": "execute_result"
    }
   ],
   "source": [
    "(320-273)/273"
   ]
  }
 ],
 "metadata": {
  "kernelspec": {
   "display_name": "Python 3",
   "language": "python",
   "name": "python3"
  },
  "language_info": {
   "codemirror_mode": {
    "name": "ipython",
    "version": 3
   },
   "file_extension": ".py",
   "mimetype": "text/x-python",
   "name": "python",
   "nbconvert_exporter": "python",
   "pygments_lexer": "ipython3",
   "version": "3.7.4"
  }
 },
 "nbformat": 4,
 "nbformat_minor": 2
}
