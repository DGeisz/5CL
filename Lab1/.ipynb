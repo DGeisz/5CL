{
 "cells": [
  {
   "cell_type": "code",
   "execution_count": 5,
   "metadata": {},
   "outputs": [],
   "source": [
    "import numpy as np\n",
    "import pandas as pd\n"
   ]
  },
  {
   "cell_type": "markdown",
   "metadata": {},
   "source": [
    "# Lab 1 - Optical Instruments\n",
    "### 1.0.1Objectives\n",
    "- Further explore the index of refraction.\n",
    "- Explore image formation by spherical mirrors and lenses.\n",
    "- Learn how to approach multiple-optic systems.\n",
    "\n",
    "### 1.0.2 Theory and Background\n"
   ]
  },
  {
   "cell_type": "markdown",
   "metadata": {},
   "source": [
    "\n",
    "## Experiment 1 - Index of Refraction of a Prism\n",
    "### Equipment:\n",
    "- Optical bench\n",
    "- Screen\n",
    "- HeNe laser\n",
    "- Glass prism\n",
    "- Graph paper and a ruler\n",
    "\n",
    "### Procedure\n",
    "#### Setup:  \n",
    "Launch HeNe laser and the glass prism onto the optical bench with the prism's three sides oriented exactly as shown in the diagram.  \n",
    "<br>\n",
    "<br>\n",
    "\n",
    "<img src=\"Fig1.png\" width=\"400\"/>\n",
    "\n",
    "<br>\n",
    "<br>\n",
    "\n",
    "#### Calibration:    \n",
    "Shine the laser on a screen, ensuring that the laser dot on the screen remains in the same place as the screen moves along the optical axis.   \n",
    "\n",
    "\n",
    "#### Design\n",
    "1. Measure the distance between the point of incidence and the HeNe laser $d_{in}$ and the distance between the HeNe laser and the intersection of reflected beam and line of perpendicular with optical bench at the laser $d_{re}$ as shown below.   \n",
    "\n",
    "<br>\n",
    "\n",
    "<img src=\"Fig2.png\" width=\"400\"/>\n",
    "\n",
    "<br>\n",
    "<br>\n",
    "2. Using the inverse-tangent function we can calculate the sum of incident angle and reflected angle $\\boxed{\\theta_{1}+\\theta_{1}' = tan^{-1}(\\frac{d_{re}}{d_{in}}) = 2\\theta_{1}}$\n",
    "<br><br>\n",
    "3. Starting with a large incident angle $\\theta_{1}$ on side AB that is large enough for us to observe a transmitted beam off from side BC, we observed that as the incident angle decreases, light beams can no longer be observed from side BC or AC. This is because total internal reflection has occured within the prism. \n",
    "<br>\n",
    "\n",
    "#### Data Collection\n",
    "\n",
    "Both of us took independent measurements of the incident angle $\\theta_{1}$, at which the angle the beam in the prism makes with BC $\\theta_{3}$ is equal to the __critical angle__ $\\tilde{\\theta}$ as indicated below.\n",
    "<br>\n",
    "\n",
    "<img src=\"Fig3.png\" width=\"400\"/>\n"
   ]
  },
  {
   "cell_type": "code",
   "execution_count": 18,
   "metadata": {},
   "outputs": [
    {
     "data": {
      "text/html": [
       "<div>\n",
       "<style scoped>\n",
       "    .dataframe tbody tr th:only-of-type {\n",
       "        vertical-align: middle;\n",
       "    }\n",
       "\n",
       "    .dataframe tbody tr th {\n",
       "        vertical-align: top;\n",
       "    }\n",
       "\n",
       "    .dataframe thead th {\n",
       "        text-align: right;\n",
       "    }\n",
       "</style>\n",
       "<table border=\"1\" class=\"dataframe\">\n",
       "  <thead>\n",
       "    <tr style=\"text-align: right;\">\n",
       "      <th></th>\n",
       "      <th>$d_{lp}/cm$</th>\n",
       "      <th>$d_{lr}/cm$</th>\n",
       "    </tr>\n",
       "  </thead>\n",
       "  <tbody>\n",
       "    <tr>\n",
       "      <th>Trial 1</th>\n",
       "      <td>23.2</td>\n",
       "      <td>3.3</td>\n",
       "    </tr>\n",
       "    <tr>\n",
       "      <th>Trial 2</th>\n",
       "      <td>23.0</td>\n",
       "      <td>3.5</td>\n",
       "    </tr>\n",
       "  </tbody>\n",
       "</table>\n",
       "</div>"
      ],
      "text/plain": [
       "        $d_{lp}/cm$ $d_{lr}/cm$\n",
       "Trial 1  23.2        3.3       \n",
       "Trial 2  23.0        3.5       "
      ]
     },
     "execution_count": 18,
     "metadata": {},
     "output_type": "execute_result"
    }
   ],
   "source": [
    "data = {'$d_{lp}/cm$':['23.2', '23.0'], '$d_{lr}/cm$':['3.3','3.5']}\n",
    "df = pd.DataFrame(data, index = ['Trial 1', 'Trial 2'])\n",
    "df"
   ]
  },
  {
   "cell_type": "markdown",
   "metadata": {},
   "source": [
    "#### Analysis\n",
    "\n",
    "Using the formulas below: \n",
    "<br><br>\n",
    "\n",
    "<center>$\\theta_{2}=asin\\left(\\dfrac{sin\\theta_{1}}{n}\\right), \\quad    \\theta_{3}=\\dfrac{\\pi}{4}-asin\\left(\\dfrac{sin\\theta_{1}}{n}\\right)$ \n",
    "\n",
    "<br>  \n",
    "\n",
    "<center>$n=\\sqrt{2sin^{2}\\tilde{\\theta}+2\\sqrt{2}sin\\tilde{\\theta}+2}=sqrt{\\left(\\sqrt{2}sin\\tilde{\\theta}+1\\right)^{2}+1}$\n",
    "\n",
    "<br>\n",
    "We were able to determine the index of refraction"
   ]
  }
 ],
 "metadata": {
  "kernelspec": {
   "display_name": "Python 3",
   "language": "python",
   "name": "python3"
  },
  "language_info": {
   "codemirror_mode": {
    "name": "ipython",
    "version": 3
   },
   "file_extension": ".py",
   "mimetype": "text/x-python",
   "name": "python",
   "nbconvert_exporter": "python",
   "pygments_lexer": "ipython3",
   "version": "3.7.3"
  }
 },
 "nbformat": 4,
 "nbformat_minor": 2
}
