{
 "cells": [
  {
   "cell_type": "code",
   "execution_count": 74,
   "metadata": {},
   "outputs": [],
   "source": [
    "import numpy as np\n",
    "import pandas as pd\n",
    "import matplotlib.pyplot as plt"
   ]
  },
  {
   "cell_type": "markdown",
   "metadata": {},
   "source": [
    "# Lab 1 - Optical Instruments\n",
    "### 1.0.1Objectives\n",
    "- Further explore the index of refraction.\n",
    "- Explore image formation by spherical mirrors and lenses.\n",
    "- Learn how to approach multiple-optic systems.\n",
    "\n"
   ]
  },
  {
   "cell_type": "markdown",
   "metadata": {},
   "source": [
    "## Experiment 3 - Simple Magnifier\n",
    "### Equipments\n",
    "- Optical bench\n",
    "- Bench lamp\n",
    "- F object\n",
    "- Lens C\n",
    "- Printed arrow\n",
    "- Phone camera\n",
    "- Ruler\n",
    "<br>\n",
    "### Measure\n",
    "1. By holding a pencil out in front of our eyes, and slowly drawing it closer to us until we are unable to keep it in focus, we determined the distance between our near points and our eyes, __near point distance__ $d_{NP} = 9.9 \\pm 0.1cm$ from the following data."
   ]
  },
  {
   "cell_type": "code",
   "execution_count": 13,
   "metadata": {},
   "outputs": [
    {
     "data": {
      "text/html": [
       "<div>\n",
       "<style scoped>\n",
       "    .dataframe tbody tr th:only-of-type {\n",
       "        vertical-align: middle;\n",
       "    }\n",
       "\n",
       "    .dataframe tbody tr th {\n",
       "        vertical-align: top;\n",
       "    }\n",
       "\n",
       "    .dataframe thead th {\n",
       "        text-align: right;\n",
       "    }\n",
       "</style>\n",
       "<table border=\"1\" class=\"dataframe\">\n",
       "  <thead>\n",
       "    <tr style=\"text-align: right;\">\n",
       "      <th></th>\n",
       "      <th>Trial</th>\n",
       "      <th>Danny's</th>\n",
       "      <th>Heidi's</th>\n",
       "      <th>error</th>\n",
       "    </tr>\n",
       "  </thead>\n",
       "  <tbody>\n",
       "    <tr>\n",
       "      <th>0</th>\n",
       "      <td>1</td>\n",
       "      <td>9.8</td>\n",
       "      <td>9.8</td>\n",
       "      <td>0.1</td>\n",
       "    </tr>\n",
       "    <tr>\n",
       "      <th>1</th>\n",
       "      <td>2</td>\n",
       "      <td>10.0</td>\n",
       "      <td>10.0</td>\n",
       "      <td>0.1</td>\n",
       "    </tr>\n",
       "    <tr>\n",
       "      <th>2</th>\n",
       "      <td>average</td>\n",
       "      <td>9.9</td>\n",
       "      <td>9.9</td>\n",
       "      <td>NaN</td>\n",
       "    </tr>\n",
       "  </tbody>\n",
       "</table>\n",
       "</div>"
      ],
      "text/plain": [
       "     Trial  Danny's   Heidi's  error\n",
       "0        1       9.8      9.8    0.1\n",
       "1        2      10.0     10.0    0.1\n",
       "2  average       9.9      9.9    NaN"
      ]
     },
     "execution_count": 13,
     "metadata": {},
     "output_type": "execute_result"
    }
   ],
   "source": [
    "df = pd.read_csv(\"nearpointdistance.csv\")\n",
    "df"
   ]
  },
  {
   "cell_type": "markdown",
   "metadata": {},
   "source": [
    "### Setup\n",
    "<br>\n",
    "1. Angle the optical bench towards the end of the table so we can comfortably sit and look down the length of it.<br>\n",
    "2. Mount Lens C in a bench stand at the closer-to-us end of the optical bench.<br>\n",
    "3. Mount the printed arrow in a bench stand and place it slightly less than one focal length beyond Lens C. <br>\n",
    "\n",
    "#### A Qualitative Procedure\n",
    "\n",
    "- Remove Lens C and place our eyes so that the printed arrow is at our near point.\n",
    "- Replace Lens C and look at the printed arrow through the lens.\n",
    "<br><br>\n",
    "\n",
    "##### Observation:\n",
    "\n",
    "<br>\n",
    "- We estimated that the __angular magnification__ of the eyepiece is about two times the original object. \n",
    "<br>\n",
    "- Theoretially predicted value <br><center>$m_{eyepiece} = \\dfrac{d_{NP}}{f_eyepiece} = \\dfrac{9.9}{5.4} = 1.83cm$</center><br>\n",
    "- Our theoretical prediction roughly agrees with our estimation.\n",
    "<br><br>\n",
    "\n",
    "#### More Quantitative Procedure\n",
    "\n",
    "<br>\n",
    "- Turn off the automatic focus setting of the camera and place it just before the lens.\n",
    "- Take a photo of the magnified arrow.\n",
    "- Remove Lens C and take another photo of the unmagnified arrow without moving the position of camera.\n",
    "- Record the distance between the camera, lens, and printed arrow.\n"
   ]
  },
  {
   "cell_type": "markdown",
   "metadata": {},
   "source": [
    "### Data Collection   \n",
    "\n",
    "#### Unmagnified original arrow:   \n",
    "<br><br><br><br><br>\n",
    "<img style = \"transform: rotate(90deg)\" src=\"unmagnified_focused.png\" width=\"800\"/> \n",
    "<br><br><br><br><br><br>\n",
    "#### Magnified arrow:\n",
    "<br><br><br><br><br><br>\n",
    "<img style = \"transform: rotate(90deg)\" src=\"magnified_1.png\" width=\"800\"/>\n",
    "<br><br><br>\n",
    "#### The distance between the camera and screen is <br><center>$d_{cs} = 9.2\\pm0.1cm$</center>\n",
    "<br><br><br>\n",
    "### Data Analysis\n",
    "<br><br>\n",
    "By selecting the area of the photo that contains the arrow, we observed and compared the number of vertical pixels that was occupied and used it as the height of arrows respectively.\n",
    "<br><br>\n",
    "<img src = \"unmagnified_size.png\">\n",
    "<img src = \"magnified_size.png\">\n",
    "<br><br>\n",
    "From the screenshots above, we yielded that: <br>height of the unmagnified arrow $h_{u} = 380$ pixel <br>and height of the magnified arrow $h_{m} = 637$ pixel   \n",
    "<br><br><br>\n",
    "Using the equation $M_{EP} \\equiv \\dfrac{\\theta_{EP}}{\\theta_{NP}} = -\\dfrac{d_{NP}}{f_{EP}}$, we predicted that the angular magnification is $M_{predict} = 1.83$. <br><br>\n",
    "Using the equation $M_{EP} = \\dfrac{h_{m}}{h_{u}}$, we determined that the angular magnification is $M_{deter} = 1.68$.\n",
    "<br><br>\n",
    "Thus our determined and predicted angular magnifications are roughly in agreement as well.|\n"
   ]
  },
  {
   "cell_type": "code",
   "execution_count": 35,
   "metadata": {},
   "outputs": [
    {
     "data": {
      "text/plain": [
       "1.6763157894736842"
      ]
     },
     "execution_count": 35,
     "metadata": {},
     "output_type": "execute_result"
    }
   ],
   "source": [
    "mep = 637/380\n",
    "mep"
   ]
  },
  {
   "cell_type": "markdown",
   "metadata": {},
   "source": [
    "## Experiment 4 - A Plethora of Focal Lengths\n",
    "\n",
    "In this experiment we are going to measure the focal lengths of Lens D (a diverging lens), Mirror E (a converging mirror), and Mirror F (a diverging mirror).<br><br>\n",
    "\n",
    "\n",
    "### Mirror E\n",
    "\n",
    "\n",
    "#### Method 1 - Lens Clock\n",
    "\n",
    "__Calibration:__ \n",
    "<br>\n",
    "- The dial of the clock is calibrated to display the optical power of a surface made of crown glass (n = 1.53). To read curvatures, therefore, we need to make a correction:<br>\n",
    "<center>$\\dfrac{1}{𝑅} = \\dfrac{lensclockreading}{0.53}$</center><br>\n",
    "- Our lens clock DC offset was precisely calibrated to zero.\n",
    "<br><br>\n",
    "\n",
    "__Measure__   \n",
    "Two independent trials both yielded the result <br>\n",
    "curvature $C = -1.5\\pm0.25 unit$.\n",
    "<br><br>\n",
    "__Analysis__<br>\n",
    "$R_{1}=\\dfrac{-1.50}{0.53}= -2.83\\pm0.13$<br><br>\n",
    "The focal length of mirror E is <br><center>$f\\approx\\frac{R_{1}}{2}=-1.42\\pm0.07$</center><br><br>\n"
   ]
  },
  {
   "cell_type": "markdown",
   "metadata": {},
   "source": []
  },
  {
   "cell_type": "markdown",
   "metadata": {},
   "source": [
    "\n",
    "<img src=\"lensD.png\"/>\n",
    "<img src=\"mirrorF.png\"/>\n",
    "<br><br><br><br><br><br><br><br><br><br>\n",
    "\n",
    "\n"
   ]
  },
  {
   "cell_type": "markdown",
   "metadata": {},
   "source": [
    "#### Method 2  \n",
    "\n",
    "<br>\n",
    "\n",
    "##### Procedure\n",
    "\n",
    "1. Mount Mirror E, F object, and the bench lamp as the diagram below shows. Place the screen slightly to the side of the optical bench. <br>\n",
    "<img src=\"mirrorE.png\" width = \"600\"/><br><br>\n",
    "2. Adjust the direction mirror E faces and acquire an image of the F object on the screen.<br>\n",
    "3. Measure the height of F image $h_{f}$, distance between Mirror E and the screen $d_{i}$ as well as the distance between Mirror E and the F object $d_{o}$ and record them.<br>\n",
    "4. Change the distances and collect multiple independent data.\n",
    "\n",
    "#### Data Collection\n"
   ]
  },
  {
   "cell_type": "code",
   "execution_count": 163,
   "metadata": {},
   "outputs": [
    {
     "data": {
      "text/html": [
       "<div>\n",
       "<style scoped>\n",
       "    .dataframe tbody tr th:only-of-type {\n",
       "        vertical-align: middle;\n",
       "    }\n",
       "\n",
       "    .dataframe tbody tr th {\n",
       "        vertical-align: top;\n",
       "    }\n",
       "\n",
       "    .dataframe thead th {\n",
       "        text-align: right;\n",
       "    }\n",
       "</style>\n",
       "<table border=\"1\" class=\"dataframe\">\n",
       "  <thead>\n",
       "    <tr style=\"text-align: right;\">\n",
       "      <th></th>\n",
       "      <th>Trial</th>\n",
       "      <th>Hf</th>\n",
       "      <th>Di</th>\n",
       "      <th>Do</th>\n",
       "      <th>del_Di</th>\n",
       "      <th>del_Do</th>\n",
       "      <th>Del_Hf</th>\n",
       "      <th>Ho</th>\n",
       "    </tr>\n",
       "  </thead>\n",
       "  <tbody>\n",
       "    <tr>\n",
       "      <th>0</th>\n",
       "      <td>1</td>\n",
       "      <td>1.0</td>\n",
       "      <td>-26.6</td>\n",
       "      <td>38.2</td>\n",
       "      <td>0.1</td>\n",
       "      <td>0.1</td>\n",
       "      <td>0.05</td>\n",
       "      <td>1.5</td>\n",
       "    </tr>\n",
       "    <tr>\n",
       "      <th>1</th>\n",
       "      <td>2</td>\n",
       "      <td>0.7</td>\n",
       "      <td>-22.8</td>\n",
       "      <td>52.8</td>\n",
       "      <td>0.1</td>\n",
       "      <td>0.1</td>\n",
       "      <td>0.05</td>\n",
       "      <td>1.5</td>\n",
       "    </tr>\n",
       "    <tr>\n",
       "      <th>2</th>\n",
       "      <td>3</td>\n",
       "      <td>0.5</td>\n",
       "      <td>-21.1</td>\n",
       "      <td>63.6</td>\n",
       "      <td>0.1</td>\n",
       "      <td>0.1</td>\n",
       "      <td>0.05</td>\n",
       "      <td>1.5</td>\n",
       "    </tr>\n",
       "    <tr>\n",
       "      <th>3</th>\n",
       "      <td>4</td>\n",
       "      <td>2.1</td>\n",
       "      <td>-38.5</td>\n",
       "      <td>26.9</td>\n",
       "      <td>0.1</td>\n",
       "      <td>0.1</td>\n",
       "      <td>0.05</td>\n",
       "      <td>1.5</td>\n",
       "    </tr>\n",
       "  </tbody>\n",
       "</table>\n",
       "</div>"
      ],
      "text/plain": [
       "   Trial   Hf    Di    Do  del_Di  del_Do  Del_Hf   Ho\n",
       "0      1  1.0 -26.6  38.2     0.1     0.1    0.05  1.5\n",
       "1      2  0.7 -22.8  52.8     0.1     0.1    0.05  1.5\n",
       "2      3  0.5 -21.1  63.6     0.1     0.1    0.05  1.5\n",
       "3      4  2.1 -38.5  26.9     0.1     0.1    0.05  1.5"
      ]
     },
     "execution_count": 163,
     "metadata": {},
     "output_type": "execute_result"
    }
   ],
   "source": [
    "pf = pd.read_csv(\"mirrorE.csv\")\n",
    "pf"
   ]
  },
  {
   "cell_type": "markdown",
   "metadata": {},
   "source": [
    "#### Data Analysis\n",
    "\n",
    "##### Calculate focal length of mirror E"
   ]
  },
  {
   "cell_type": "code",
   "execution_count": 164,
   "metadata": {},
   "outputs": [
    {
     "data": {
      "text/html": [
       "<div>\n",
       "<style scoped>\n",
       "    .dataframe tbody tr th:only-of-type {\n",
       "        vertical-align: middle;\n",
       "    }\n",
       "\n",
       "    .dataframe tbody tr th {\n",
       "        vertical-align: top;\n",
       "    }\n",
       "\n",
       "    .dataframe thead th {\n",
       "        text-align: right;\n",
       "    }\n",
       "</style>\n",
       "<table border=\"1\" class=\"dataframe\">\n",
       "  <thead>\n",
       "    <tr style=\"text-align: right;\">\n",
       "      <th></th>\n",
       "      <th>Trial</th>\n",
       "      <th>Hf</th>\n",
       "      <th>Di</th>\n",
       "      <th>Do</th>\n",
       "      <th>del_Di</th>\n",
       "      <th>del_Do</th>\n",
       "      <th>Del_Hf</th>\n",
       "      <th>Ho</th>\n",
       "      <th>1/Do</th>\n",
       "      <th>1/Di</th>\n",
       "      <th>1/f</th>\n",
       "      <th>f</th>\n",
       "    </tr>\n",
       "  </thead>\n",
       "  <tbody>\n",
       "    <tr>\n",
       "      <th>0</th>\n",
       "      <td>1</td>\n",
       "      <td>1.0</td>\n",
       "      <td>-26.6</td>\n",
       "      <td>38.2</td>\n",
       "      <td>0.1</td>\n",
       "      <td>0.1</td>\n",
       "      <td>0.05</td>\n",
       "      <td>1.5</td>\n",
       "      <td>0.026178</td>\n",
       "      <td>-0.037594</td>\n",
       "      <td>-0.011416</td>\n",
       "      <td>-87.596552</td>\n",
       "    </tr>\n",
       "    <tr>\n",
       "      <th>1</th>\n",
       "      <td>2</td>\n",
       "      <td>0.7</td>\n",
       "      <td>-22.8</td>\n",
       "      <td>52.8</td>\n",
       "      <td>0.1</td>\n",
       "      <td>0.1</td>\n",
       "      <td>0.05</td>\n",
       "      <td>1.5</td>\n",
       "      <td>0.018939</td>\n",
       "      <td>-0.043860</td>\n",
       "      <td>-0.024920</td>\n",
       "      <td>-40.128000</td>\n",
       "    </tr>\n",
       "    <tr>\n",
       "      <th>2</th>\n",
       "      <td>3</td>\n",
       "      <td>0.5</td>\n",
       "      <td>-21.1</td>\n",
       "      <td>63.6</td>\n",
       "      <td>0.1</td>\n",
       "      <td>0.1</td>\n",
       "      <td>0.05</td>\n",
       "      <td>1.5</td>\n",
       "      <td>0.015723</td>\n",
       "      <td>-0.047393</td>\n",
       "      <td>-0.031670</td>\n",
       "      <td>-31.575529</td>\n",
       "    </tr>\n",
       "    <tr>\n",
       "      <th>3</th>\n",
       "      <td>4</td>\n",
       "      <td>2.1</td>\n",
       "      <td>-38.5</td>\n",
       "      <td>26.9</td>\n",
       "      <td>0.1</td>\n",
       "      <td>0.1</td>\n",
       "      <td>0.05</td>\n",
       "      <td>1.5</td>\n",
       "      <td>0.037175</td>\n",
       "      <td>-0.025974</td>\n",
       "      <td>0.011201</td>\n",
       "      <td>89.280172</td>\n",
       "    </tr>\n",
       "  </tbody>\n",
       "</table>\n",
       "</div>"
      ],
      "text/plain": [
       "   Trial   Hf    Di    Do  del_Di  del_Do  Del_Hf   Ho      1/Do      1/Di  \\\n",
       "0      1  1.0 -26.6  38.2     0.1     0.1    0.05  1.5  0.026178 -0.037594   \n",
       "1      2  0.7 -22.8  52.8     0.1     0.1    0.05  1.5  0.018939 -0.043860   \n",
       "2      3  0.5 -21.1  63.6     0.1     0.1    0.05  1.5  0.015723 -0.047393   \n",
       "3      4  2.1 -38.5  26.9     0.1     0.1    0.05  1.5  0.037175 -0.025974   \n",
       "\n",
       "        1/f          f  \n",
       "0 -0.011416 -87.596552  \n",
       "1 -0.024920 -40.128000  \n",
       "2 -0.031670 -31.575529  \n",
       "3  0.011201  89.280172  "
      ]
     },
     "execution_count": 164,
     "metadata": {},
     "output_type": "execute_result"
    }
   ],
   "source": [
    "pf[\"1/Do\"] = 1/pf[\"Do\"]\n",
    "pf[\"1/Di\"] = 1/pf[\"Di\"]\n",
    "pf[\"1/f\"] = pf[\"1/Do\"] + pf[\"1/Di\"]\n",
    "pf[\"f\"] = 1/pf[\"1/f\"]\n",
    "pf"
   ]
  },
  {
   "cell_type": "code",
   "execution_count": 165,
   "metadata": {},
   "outputs": [
    {
     "name": "stdout",
     "output_type": "stream",
     "text": [
      "-17.504977180527383\n",
      "45.375\n",
      "-27.25\n"
     ]
    }
   ],
   "source": [
    "f = np.mean(pf[\"f\"])\n",
    "Do = np.mean(pf[\"Do\"])\n",
    "Di = np.mean(pf[\"Di\"])\n",
    "print(f)\n",
    "print(Do)\n",
    "print(Di)\n"
   ]
  },
  {
   "cell_type": "markdown",
   "metadata": {},
   "source": [
    "\n"
   ]
  },
  {
   "cell_type": "code",
   "execution_count": 171,
   "metadata": {},
   "outputs": [
    {
     "data": {
      "text/plain": [
       "20.291115644196054"
      ]
     },
     "execution_count": 171,
     "metadata": {},
     "output_type": "execute_result"
    }
   ],
   "source": [
    "a = 1/(1/45.375 + 1/-27.35)**2\n",
    "b = np.sqrt((0.1/-27.25)**2 + (0.1/45.375)**2)\n",
    "a*b\n"
   ]
  },
  {
   "cell_type": "code",
   "execution_count": 172,
   "metadata": {},
   "outputs": [
    {
     "data": {
      "text/plain": [
       "-0.9988717992418155"
      ]
     },
     "execution_count": 172,
     "metadata": {},
     "output_type": "execute_result"
    }
   ],
   "source": [
    "#Verifying the linear magnification equation\n",
    "\n",
    "pf[\"di/do\"] = pf[\"Di\"]/pf[\"Do\"]\n",
    "pf[\"hi/ho\"] = pf[\"Hf\"]/pf[\"Ho\"]\n",
    "\n",
    "Rhd = pf[\"hi/ho\"].corr(pf[\"di/do\"])\n",
    "Rhd\n"
   ]
  },
  {
   "cell_type": "markdown",
   "metadata": {},
   "source": [
    "### error propagation \n",
    "$\\delta_{f} = \\sqrt{\\left(\\dfrac{\\dfrac{\\delta_{di}}{d_{i}^2}}{\\left(\\dfrac{1}{d_{o}} + \\dfrac{1}{d_{i}}\\right)^{2}}\\right)^{2} + \\left(\\dfrac{\\dfrac{\\delta_{do}}{d_{o}^2}}{\\left(\\dfrac{1}{d_{o}} + \\dfrac{1}{d_{i}}\\right)^{2}}\\right)^{2}} = 20.3 $"
   ]
  },
  {
   "cell_type": "markdown",
   "metadata": {},
   "source": [
    "Magnification Equation:<br>\n",
    "$M\\equiv\\dfrac{h_{i}}{h_{o}}=-\\dfrac{d_{i}}{d_{o}}$"
   ]
  },
  {
   "cell_type": "markdown",
   "metadata": {},
   "source": [
    "### (b) Diverging Lens D\n",
    "\n",
    "#### Method 1 - Lens Clock\n",
    "\n",
    "__Calibration:__ \n",
    "<br>\n",
    "- The dial of the clock is calibrated to display the optical power of a surface made of crown glass (n = 1.53). To read curvatures, therefore, we need to make a correction:<br>\n",
    "<center>$\\dfrac{1}{𝑅} = \\dfrac{lensclockreading}{0.53}$</center><br>\n",
    "- Our lens clock DC offset was precisely calibrated to zero.\n",
    "<br><br>\n",
    "\n",
    "__Measure__   \n",
    "Two independent trials both yielded the result <br>\n",
    "curvature $C_{front} = C_{back} = -3.0\\pm0.25 unit$.\n",
    "<br><br>\n",
    "__Analysis__<br>\n",
    "$R_{1}=\\dfrac{-3.0}{0.53}= -5.66\\pm0.13$<br><br>\n",
    "$R_{2}=-\\dfrac{-3.0}{0.53}=5.66\\pm0.13$<br><br>\n",
    "$n_{lensE} = 1.53; n_{env} = 1$<br><br>\n",
    "Using the lensmaker's equation:<br>\n",
    "<center>$\\dfrac{1}{f_{lens}} = \\left(\\dfrac{n_{lens}}{n_{env}}-1\\right)\\left(\\dfrac{1}{R_{1}}-\\dfrac{1}{R_{2}}\\right)$</center><br>\n",
    "The focal length of Lens D is <br>$f_{D} = \\dfrac{1}{(1.53 - 1)(\\frac{1}{-5.66}-\\frac{1}{5.66})}=-5.34\\pm0.017cm$\n"
   ]
  },
  {
   "cell_type": "markdown",
   "metadata": {},
   "source": [
    "#### Method 2\n",
    "\n",
    "##### Procedure\n",
    "\n",
    "1. Mount lens D, lens A, F object, the screen, and the bench lamp as the diagram below shows. <br>\n",
    "<img src=\"lensD.png\" width = \"600\"/><br><br>\n",
    "2. Adjust the height and direction lenses are facing so that they all aligh with the optical axis.<br>\n",
    "3. Adjust positions of lens and acquire an image of the F object on the screen<br>\n",
    "4. Measure the height of F image $h_{f}$, distance between screen and the Lens A $d_{SA}$ as well as the distance between Lens D and the F object $d_{DF}$ and the distance between the Lens A and Lens D $d_{AD}$ and record them.<br>\n",
    "4. Change the distances and collect multiple independent data.<br>\n",
    "\n",
    "#### Data Collection"
   ]
  },
  {
   "cell_type": "code",
   "execution_count": 178,
   "metadata": {},
   "outputs": [
    {
     "data": {
      "text/html": [
       "<div>\n",
       "<style scoped>\n",
       "    .dataframe tbody tr th:only-of-type {\n",
       "        vertical-align: middle;\n",
       "    }\n",
       "\n",
       "    .dataframe tbody tr th {\n",
       "        vertical-align: top;\n",
       "    }\n",
       "\n",
       "    .dataframe thead th {\n",
       "        text-align: right;\n",
       "    }\n",
       "</style>\n",
       "<table border=\"1\" class=\"dataframe\">\n",
       "  <thead>\n",
       "    <tr style=\"text-align: right;\">\n",
       "      <th></th>\n",
       "      <th>Trial</th>\n",
       "      <th>ddf</th>\n",
       "      <th>dsa</th>\n",
       "      <th>dad</th>\n",
       "      <th>del_ddf</th>\n",
       "      <th>del_dsa</th>\n",
       "      <th>del_dad</th>\n",
       "    </tr>\n",
       "  </thead>\n",
       "  <tbody>\n",
       "    <tr>\n",
       "      <th>0</th>\n",
       "      <td>1</td>\n",
       "      <td>5.0</td>\n",
       "      <td>29.1</td>\n",
       "      <td>53.2</td>\n",
       "      <td>0.05</td>\n",
       "      <td>0.05</td>\n",
       "      <td>0.05</td>\n",
       "    </tr>\n",
       "    <tr>\n",
       "      <th>1</th>\n",
       "      <td>2</td>\n",
       "      <td>5.0</td>\n",
       "      <td>41.7</td>\n",
       "      <td>27.0</td>\n",
       "      <td>0.05</td>\n",
       "      <td>0.05</td>\n",
       "      <td>0.05</td>\n",
       "    </tr>\n",
       "    <tr>\n",
       "      <th>2</th>\n",
       "      <td>3</td>\n",
       "      <td>14.7</td>\n",
       "      <td>35.4</td>\n",
       "      <td>25.5</td>\n",
       "      <td>0.05</td>\n",
       "      <td>0.05</td>\n",
       "      <td>0.05</td>\n",
       "    </tr>\n",
       "    <tr>\n",
       "      <th>3</th>\n",
       "      <td>4</td>\n",
       "      <td>14.7</td>\n",
       "      <td>50.6</td>\n",
       "      <td>19.5</td>\n",
       "      <td>0.05</td>\n",
       "      <td>0.05</td>\n",
       "      <td>0.05</td>\n",
       "    </tr>\n",
       "  </tbody>\n",
       "</table>\n",
       "</div>"
      ],
      "text/plain": [
       "   Trial   ddf   dsa   dad  del_ddf  del_dsa  del_dad\n",
       "0      1   5.0  29.1  53.2     0.05     0.05     0.05\n",
       "1      2   5.0  41.7  27.0     0.05     0.05     0.05\n",
       "2      3  14.7  35.4  25.5     0.05     0.05     0.05\n",
       "3      4  14.7  50.6  19.5     0.05     0.05     0.05"
      ]
     },
     "execution_count": 178,
     "metadata": {},
     "output_type": "execute_result"
    }
   ],
   "source": [
    "pf = pd.read_csv(\"lensD.csv\")\n",
    "pf"
   ]
  },
  {
   "cell_type": "markdown",
   "metadata": {},
   "source": [
    "#### Data Analysis"
   ]
  },
  {
   "cell_type": "code",
   "execution_count": 179,
   "metadata": {},
   "outputs": [],
   "source": [
    "# Calculating focal length of lens D\n",
    "pf[\"doa\"] = 1/(1/17.6 - 1/pf[\"dsa\"])\n",
    "pf[\"did\"] = pf[\"doa\"] - pf[\"dad\"]"
   ]
  },
  {
   "cell_type": "code",
   "execution_count": 180,
   "metadata": {},
   "outputs": [
    {
     "data": {
      "text/html": [
       "<div>\n",
       "<style scoped>\n",
       "    .dataframe tbody tr th:only-of-type {\n",
       "        vertical-align: middle;\n",
       "    }\n",
       "\n",
       "    .dataframe tbody tr th {\n",
       "        vertical-align: top;\n",
       "    }\n",
       "\n",
       "    .dataframe thead th {\n",
       "        text-align: right;\n",
       "    }\n",
       "</style>\n",
       "<table border=\"1\" class=\"dataframe\">\n",
       "  <thead>\n",
       "    <tr style=\"text-align: right;\">\n",
       "      <th></th>\n",
       "      <th>Trial</th>\n",
       "      <th>ddf</th>\n",
       "      <th>dsa</th>\n",
       "      <th>dad</th>\n",
       "      <th>del_ddf</th>\n",
       "      <th>del_dsa</th>\n",
       "      <th>del_dad</th>\n",
       "      <th>doa</th>\n",
       "      <th>did</th>\n",
       "    </tr>\n",
       "  </thead>\n",
       "  <tbody>\n",
       "    <tr>\n",
       "      <th>0</th>\n",
       "      <td>1</td>\n",
       "      <td>5.0</td>\n",
       "      <td>29.1</td>\n",
       "      <td>53.2</td>\n",
       "      <td>0.05</td>\n",
       "      <td>0.05</td>\n",
       "      <td>0.05</td>\n",
       "      <td>44.535652</td>\n",
       "      <td>-8.664348</td>\n",
       "    </tr>\n",
       "    <tr>\n",
       "      <th>1</th>\n",
       "      <td>2</td>\n",
       "      <td>5.0</td>\n",
       "      <td>41.7</td>\n",
       "      <td>27.0</td>\n",
       "      <td>0.05</td>\n",
       "      <td>0.05</td>\n",
       "      <td>0.05</td>\n",
       "      <td>30.453112</td>\n",
       "      <td>-3.453112</td>\n",
       "    </tr>\n",
       "    <tr>\n",
       "      <th>2</th>\n",
       "      <td>3</td>\n",
       "      <td>14.7</td>\n",
       "      <td>35.4</td>\n",
       "      <td>25.5</td>\n",
       "      <td>0.05</td>\n",
       "      <td>0.05</td>\n",
       "      <td>0.05</td>\n",
       "      <td>35.002247</td>\n",
       "      <td>-9.502247</td>\n",
       "    </tr>\n",
       "    <tr>\n",
       "      <th>3</th>\n",
       "      <td>4</td>\n",
       "      <td>14.7</td>\n",
       "      <td>50.6</td>\n",
       "      <td>19.5</td>\n",
       "      <td>0.05</td>\n",
       "      <td>0.05</td>\n",
       "      <td>0.05</td>\n",
       "      <td>26.986667</td>\n",
       "      <td>-7.486667</td>\n",
       "    </tr>\n",
       "  </tbody>\n",
       "</table>\n",
       "</div>"
      ],
      "text/plain": [
       "   Trial   ddf   dsa   dad  del_ddf  del_dsa  del_dad        doa       did\n",
       "0      1   5.0  29.1  53.2     0.05     0.05     0.05  44.535652 -8.664348\n",
       "1      2   5.0  41.7  27.0     0.05     0.05     0.05  30.453112 -3.453112\n",
       "2      3  14.7  35.4  25.5     0.05     0.05     0.05  35.002247 -9.502247\n",
       "3      4  14.7  50.6  19.5     0.05     0.05     0.05  26.986667 -7.486667"
      ]
     },
     "execution_count": 180,
     "metadata": {},
     "output_type": "execute_result"
    }
   ],
   "source": [
    "newval1 = -pf.at[1, \"did\"] \n",
    "pf.at[1, \"did\"] = newval1\n",
    "newval2 = -pf.at[2, \"did\"] \n",
    "pf.at[2, \"did\"] = newval2\n",
    "newval3 = -pf.at[3,\"did\"]\n",
    "pf.at[3,\"did\"] = newval3\n",
    "pf"
   ]
  },
  {
   "cell_type": "code",
   "execution_count": 181,
   "metadata": {},
   "outputs": [
    {
     "data": {
      "text/html": [
       "<div>\n",
       "<style scoped>\n",
       "    .dataframe tbody tr th:only-of-type {\n",
       "        vertical-align: middle;\n",
       "    }\n",
       "\n",
       "    .dataframe tbody tr th {\n",
       "        vertical-align: top;\n",
       "    }\n",
       "\n",
       "    .dataframe thead th {\n",
       "        text-align: right;\n",
       "    }\n",
       "</style>\n",
       "<table border=\"1\" class=\"dataframe\">\n",
       "  <thead>\n",
       "    <tr style=\"text-align: right;\">\n",
       "      <th></th>\n",
       "      <th>Trial</th>\n",
       "      <th>ddf</th>\n",
       "      <th>dsa</th>\n",
       "      <th>dad</th>\n",
       "      <th>del_ddf</th>\n",
       "      <th>del_dsa</th>\n",
       "      <th>del_dad</th>\n",
       "      <th>doa</th>\n",
       "      <th>did</th>\n",
       "      <th>fd</th>\n",
       "    </tr>\n",
       "  </thead>\n",
       "  <tbody>\n",
       "    <tr>\n",
       "      <th>0</th>\n",
       "      <td>1</td>\n",
       "      <td>5.0</td>\n",
       "      <td>29.1</td>\n",
       "      <td>53.2</td>\n",
       "      <td>0.05</td>\n",
       "      <td>0.05</td>\n",
       "      <td>0.05</td>\n",
       "      <td>44.535652</td>\n",
       "      <td>-8.664348</td>\n",
       "      <td>11.822496</td>\n",
       "    </tr>\n",
       "    <tr>\n",
       "      <th>1</th>\n",
       "      <td>2</td>\n",
       "      <td>5.0</td>\n",
       "      <td>41.7</td>\n",
       "      <td>27.0</td>\n",
       "      <td>0.05</td>\n",
       "      <td>0.05</td>\n",
       "      <td>0.05</td>\n",
       "      <td>30.453112</td>\n",
       "      <td>-3.453112</td>\n",
       "      <td>-11.161481</td>\n",
       "    </tr>\n",
       "    <tr>\n",
       "      <th>2</th>\n",
       "      <td>3</td>\n",
       "      <td>14.7</td>\n",
       "      <td>35.4</td>\n",
       "      <td>25.5</td>\n",
       "      <td>0.05</td>\n",
       "      <td>0.05</td>\n",
       "      <td>0.05</td>\n",
       "      <td>35.002247</td>\n",
       "      <td>-9.502247</td>\n",
       "      <td>-26.873735</td>\n",
       "    </tr>\n",
       "    <tr>\n",
       "      <th>3</th>\n",
       "      <td>4</td>\n",
       "      <td>14.7</td>\n",
       "      <td>50.6</td>\n",
       "      <td>19.5</td>\n",
       "      <td>0.05</td>\n",
       "      <td>0.05</td>\n",
       "      <td>0.05</td>\n",
       "      <td>26.986667</td>\n",
       "      <td>-7.486667</td>\n",
       "      <td>-15.257024</td>\n",
       "    </tr>\n",
       "  </tbody>\n",
       "</table>\n",
       "</div>"
      ],
      "text/plain": [
       "   Trial   ddf   dsa   dad  del_ddf  del_dsa  del_dad        doa       did  \\\n",
       "0      1   5.0  29.1  53.2     0.05     0.05     0.05  44.535652 -8.664348   \n",
       "1      2   5.0  41.7  27.0     0.05     0.05     0.05  30.453112 -3.453112   \n",
       "2      3  14.7  35.4  25.5     0.05     0.05     0.05  35.002247 -9.502247   \n",
       "3      4  14.7  50.6  19.5     0.05     0.05     0.05  26.986667 -7.486667   \n",
       "\n",
       "          fd  \n",
       "0  11.822496  \n",
       "1 -11.161481  \n",
       "2 -26.873735  \n",
       "3 -15.257024  "
      ]
     },
     "execution_count": 181,
     "metadata": {},
     "output_type": "execute_result"
    }
   ],
   "source": [
    "pf[\"fd\"] = 1/(1/pf[\"did\"] + 1/pf[\"ddf\"])\n",
    "pf"
   ]
  },
  {
   "cell_type": "code",
   "execution_count": 184,
   "metadata": {},
   "outputs": [
    {
     "data": {
      "text/plain": [
       "-10.367435921098462"
      ]
     },
     "execution_count": 184,
     "metadata": {},
     "output_type": "execute_result"
    }
   ],
   "source": [
    "f = np.mean(pf[\"fd\"])\n",
    "f"
   ]
  },
  {
   "cell_type": "markdown",
   "metadata": {},
   "source": [
    "### Error Propagation\n",
    "\n",
    "$\\delta_{df} = \\dfrac{1}{\\left(\\dfrac{1}{d_{od}} + \\dfrac{1}{d_{of}}\\right)^{2}}\\sqrt{\\left(\\dfrac{\\delta_{od}}{d_{od}}\\right)^{2} + \\left(\\dfrac{\\delta_{df}}{d_{df}}\\right)^{2}}$   \n",
    "\n",
    "\n",
    "$\\delta_{od} = \\dfrac{1}{\\left({d_{oa} - d_{ad}}\\right)^{2}}\\sqrt{\\delta_{doa}^{2} + \\delta_{dad}^{2}}$\n",
    "\n",
    "$\\delta_{doa} = \\dfrac{1}{\\left(\\dfrac{1}{d_{fa}} + \\dfrac{1}{d_{dsa}}\\right)^{2}}\\sqrt{\\left(\\dfrac{\\delta_{fa}}{d_{fa}}\\right)^{2} + \\left(\\dfrac{\\delta_{dsa}}{d_{dsa}}\\right)^{2}} = $   \n"
   ]
  },
  {
   "cell_type": "code",
   "execution_count": null,
   "metadata": {},
   "outputs": [],
   "source": [
    "del_df = "
   ]
  },
  {
   "cell_type": "markdown",
   "metadata": {},
   "source": [
    "### Diverging Mirror F\n",
    "\n",
    "#### Method 1 Lens Clock\n",
    "\n",
    "__Calibration:__ \n",
    "\n",
    "- The dial of the clock is calibrated to display the optical power of a surface made of crown glass (n = 1.53). To read curvatures, therefore, we need to make a correction:<br>\n",
    "<center>$\\dfrac{1}{𝑅} = \\dfrac{lensclockreading}{0.53}$</center><br>\n",
    "- Our lens clock DC offset was precisely calibrated to zero.\n",
    "\n",
    "__Measure__   \n",
    "Two independent trials both yielded the result <br>\n",
    "curvature $C = -1.25\\pm0.25 unit$.  \n",
    "\n",
    "\n",
    "__Analysis__   \n",
    "\n",
    "$R_{1}=\\dfrac{1.25}{0.53}= 2.36\\pm0.13$   \n",
    "\n",
    "The focal length of mirror F is <br><center>$f\\approx\\frac{R_{1}}{2}=1.18\\pm0.07$</center>\n",
    "\n",
    "\n"
   ]
  },
  {
   "cell_type": "markdown",
   "metadata": {},
   "source": [
    "#### Method 2 \n",
    "1. Mount mirror F, F object, and the bench lamp as the diagram below shows.   \n",
    "2. Place converging lens A and the screen side way, adjust the direction of mirror F so that the reflected ray goes through lens A and form a real image on the screen.\n",
    "<img src=\"mirrorF.png\" width = \"600\"/><br><br>  \n",
    "3. Adjust positions of lens and acquire an image of the F object on the screen<br>\n",
    "4. Measure the distance between screen and the Lens A $d_{as}$ as well as the distance between mirror F and the F object $d_{mf}$ and the distance between the Lens A and Mirror F $d_{ma}$ and record them.<br>\n",
    "4. Change the distances to form different sizes of clear real images on the screen and collect multiple independent data.\n",
    "\n",
    "__Data Collection__\n",
    "\n",
    "\n"
   ]
  },
  {
   "cell_type": "code",
   "execution_count": 147,
   "metadata": {},
   "outputs": [
    {
     "data": {
      "text/html": [
       "<div>\n",
       "<style scoped>\n",
       "    .dataframe tbody tr th:only-of-type {\n",
       "        vertical-align: middle;\n",
       "    }\n",
       "\n",
       "    .dataframe tbody tr th {\n",
       "        vertical-align: top;\n",
       "    }\n",
       "\n",
       "    .dataframe thead th {\n",
       "        text-align: right;\n",
       "    }\n",
       "</style>\n",
       "<table border=\"1\" class=\"dataframe\">\n",
       "  <thead>\n",
       "    <tr style=\"text-align: right;\">\n",
       "      <th></th>\n",
       "      <th>Trial</th>\n",
       "      <th>Dmf</th>\n",
       "      <th>Dma</th>\n",
       "      <th>Das</th>\n",
       "    </tr>\n",
       "  </thead>\n",
       "  <tbody>\n",
       "    <tr>\n",
       "      <th>0</th>\n",
       "      <td>1</td>\n",
       "      <td>26.8</td>\n",
       "      <td>28.3</td>\n",
       "      <td>31.8</td>\n",
       "    </tr>\n",
       "    <tr>\n",
       "      <th>1</th>\n",
       "      <td>2</td>\n",
       "      <td>26.8</td>\n",
       "      <td>17.3</td>\n",
       "      <td>45.2</td>\n",
       "    </tr>\n",
       "    <tr>\n",
       "      <th>2</th>\n",
       "      <td>3</td>\n",
       "      <td>18.8</td>\n",
       "      <td>24.2</td>\n",
       "      <td>36.6</td>\n",
       "    </tr>\n",
       "    <tr>\n",
       "      <th>3</th>\n",
       "      <td>4</td>\n",
       "      <td>18.8</td>\n",
       "      <td>16.8</td>\n",
       "      <td>51.3</td>\n",
       "    </tr>\n",
       "    <tr>\n",
       "      <th>4</th>\n",
       "      <td>5</td>\n",
       "      <td>44.6</td>\n",
       "      <td>31.7</td>\n",
       "      <td>28.7</td>\n",
       "    </tr>\n",
       "    <tr>\n",
       "      <th>5</th>\n",
       "      <td>6</td>\n",
       "      <td>44.6</td>\n",
       "      <td>58.2</td>\n",
       "      <td>23.5</td>\n",
       "    </tr>\n",
       "  </tbody>\n",
       "</table>\n",
       "</div>"
      ],
      "text/plain": [
       "   Trial   Dmf   Dma   Das\n",
       "0      1  26.8  28.3  31.8\n",
       "1      2  26.8  17.3  45.2\n",
       "2      3  18.8  24.2  36.6\n",
       "3      4  18.8  16.8  51.3\n",
       "4      5  44.6  31.7  28.7\n",
       "5      6  44.6  58.2  23.5"
      ]
     },
     "execution_count": 147,
     "metadata": {},
     "output_type": "execute_result"
    }
   ],
   "source": [
    "pf = pd.read_csv(\"mirrorF.csv\")\n",
    "pf"
   ]
  },
  {
   "cell_type": "code",
   "execution_count": 153,
   "metadata": {},
   "outputs": [
    {
     "data": {
      "text/html": [
       "<div>\n",
       "<style scoped>\n",
       "    .dataframe tbody tr th:only-of-type {\n",
       "        vertical-align: middle;\n",
       "    }\n",
       "\n",
       "    .dataframe tbody tr th {\n",
       "        vertical-align: top;\n",
       "    }\n",
       "\n",
       "    .dataframe thead th {\n",
       "        text-align: right;\n",
       "    }\n",
       "</style>\n",
       "<table border=\"1\" class=\"dataframe\">\n",
       "  <thead>\n",
       "    <tr style=\"text-align: right;\">\n",
       "      <th></th>\n",
       "      <th>Trial</th>\n",
       "      <th>Dmf</th>\n",
       "      <th>Dma</th>\n",
       "      <th>Das</th>\n",
       "      <th>doa</th>\n",
       "      <th>dim</th>\n",
       "      <th>fm</th>\n",
       "    </tr>\n",
       "  </thead>\n",
       "  <tbody>\n",
       "    <tr>\n",
       "      <th>0</th>\n",
       "      <td>1</td>\n",
       "      <td>26.8</td>\n",
       "      <td>28.3</td>\n",
       "      <td>31.8</td>\n",
       "      <td>39.414085</td>\n",
       "      <td>11.114085</td>\n",
       "      <td>7.856116</td>\n",
       "    </tr>\n",
       "    <tr>\n",
       "      <th>1</th>\n",
       "      <td>2</td>\n",
       "      <td>26.8</td>\n",
       "      <td>17.3</td>\n",
       "      <td>45.2</td>\n",
       "      <td>28.823188</td>\n",
       "      <td>11.523188</td>\n",
       "      <td>8.058344</td>\n",
       "    </tr>\n",
       "    <tr>\n",
       "      <th>2</th>\n",
       "      <td>3</td>\n",
       "      <td>18.8</td>\n",
       "      <td>24.2</td>\n",
       "      <td>36.6</td>\n",
       "      <td>33.903158</td>\n",
       "      <td>9.703158</td>\n",
       "      <td>6.399970</td>\n",
       "    </tr>\n",
       "    <tr>\n",
       "      <th>3</th>\n",
       "      <td>4</td>\n",
       "      <td>18.8</td>\n",
       "      <td>16.8</td>\n",
       "      <td>51.3</td>\n",
       "      <td>26.791691</td>\n",
       "      <td>9.991691</td>\n",
       "      <td>6.524236</td>\n",
       "    </tr>\n",
       "    <tr>\n",
       "      <th>4</th>\n",
       "      <td>5</td>\n",
       "      <td>44.6</td>\n",
       "      <td>31.7</td>\n",
       "      <td>28.7</td>\n",
       "      <td>45.506306</td>\n",
       "      <td>13.806306</td>\n",
       "      <td>10.542719</td>\n",
       "    </tr>\n",
       "    <tr>\n",
       "      <th>5</th>\n",
       "      <td>6</td>\n",
       "      <td>44.6</td>\n",
       "      <td>58.2</td>\n",
       "      <td>23.5</td>\n",
       "      <td>70.101695</td>\n",
       "      <td>11.901695</td>\n",
       "      <td>9.394684</td>\n",
       "    </tr>\n",
       "  </tbody>\n",
       "</table>\n",
       "</div>"
      ],
      "text/plain": [
       "   Trial   Dmf   Dma   Das        doa        dim         fm\n",
       "0      1  26.8  28.3  31.8  39.414085  11.114085   7.856116\n",
       "1      2  26.8  17.3  45.2  28.823188  11.523188   8.058344\n",
       "2      3  18.8  24.2  36.6  33.903158   9.703158   6.399970\n",
       "3      4  18.8  16.8  51.3  26.791691   9.991691   6.524236\n",
       "4      5  44.6  31.7  28.7  45.506306  13.806306  10.542719\n",
       "5      6  44.6  58.2  23.5  70.101695  11.901695   9.394684"
      ]
     },
     "execution_count": 153,
     "metadata": {},
     "output_type": "execute_result"
    }
   ],
   "source": [
    "#calculating focal length of miror F\n",
    "\n",
    "pf[\"doa\"] = 1/(1/17.6 - 1/pf[\"Das\"])\n",
    "pf[\"dim\"] = pf[\"doa\"] - pf[\"Dma\"]\n",
    "pf[\"fm\"] = 1/(1/pf[\"dim\"] + 1/pf[\"Dmf\"])\n",
    "pf"
   ]
  },
  {
   "cell_type": "code",
   "execution_count": 158,
   "metadata": {},
   "outputs": [
    {
     "data": {
      "text/plain": [
       "8.129345134327423"
      ]
     },
     "execution_count": 158,
     "metadata": {},
     "output_type": "execute_result"
    }
   ],
   "source": [
    "fm = np.mean(pf['fm'])\n",
    "fm"
   ]
  },
  {
   "cell_type": "code",
   "execution_count": 141,
   "metadata": {},
   "outputs": [
    {
     "data": {
      "text/plain": [
       "-2.830188679245283"
      ]
     },
     "execution_count": 141,
     "metadata": {},
     "output_type": "execute_result"
    }
   ],
   "source": [
    "-1.5/0.53"
   ]
  },
  {
   "cell_type": "code",
   "execution_count": null,
   "metadata": {},
   "outputs": [],
   "source": []
  },
  {
   "cell_type": "code",
   "execution_count": null,
   "metadata": {},
   "outputs": [],
   "source": []
  },
  {
   "cell_type": "code",
   "execution_count": 142,
   "metadata": {},
   "outputs": [
    {
     "data": {
      "text/plain": [
       "-2.6698113207547167"
      ]
     },
     "execution_count": 142,
     "metadata": {},
     "output_type": "execute_result"
    }
   ],
   "source": [
    "finverse = (1.53 - 1)*(1/-2.83 - 1/2.83)\n",
    "f = 1/finverse\n",
    "f"
   ]
  },
  {
   "cell_type": "code",
   "execution_count": 33,
   "metadata": {},
   "outputs": [
    {
     "data": {
      "text/plain": [
       "0.1325"
      ]
     },
     "execution_count": 33,
     "metadata": {},
     "output_type": "execute_result"
    }
   ],
   "source": [
    "0.53*0.25"
   ]
  },
  {
   "cell_type": "code",
   "execution_count": 69,
   "metadata": {},
   "outputs": [
    {
     "data": {
      "text/plain": [
       "0.01623194196456442"
      ]
     },
     "execution_count": 69,
     "metadata": {},
     "output_type": "execute_result"
    }
   ],
   "source": [
    "0.13/(2.83*2.83)"
   ]
  },
  {
   "cell_type": "code",
   "execution_count": 70,
   "metadata": {},
   "outputs": [
    {
     "data": {
      "text/plain": [
       "5.660377358490566"
      ]
     },
     "execution_count": 70,
     "metadata": {},
     "output_type": "execute_result"
    }
   ],
   "source": [
    "3/0.53"
   ]
  },
  {
   "cell_type": "code",
   "execution_count": 71,
   "metadata": {},
   "outputs": [
    {
     "data": {
      "text/plain": [
       "-5.339622641509433"
      ]
     },
     "execution_count": 71,
     "metadata": {},
     "output_type": "execute_result"
    }
   ],
   "source": [
    "fdinverse = 0.53*(1/-5.66 - 1/5.66)\n",
    "fd= 1/fdinverse\n",
    "fd"
   ]
  },
  {
   "cell_type": "code",
   "execution_count": 72,
   "metadata": {},
   "outputs": [
    {
     "data": {
      "text/plain": [
       "0.01061319282298443"
      ]
     },
     "execution_count": 72,
     "metadata": {},
     "output_type": "execute_result"
    }
   ],
   "source": [
    "0.34/5.66/5.66"
   ]
  },
  {
   "cell_type": "code",
   "execution_count": 146,
   "metadata": {},
   "outputs": [
    {
     "data": {
      "text/plain": [
       "2.3584905660377355"
      ]
     },
     "execution_count": 146,
     "metadata": {},
     "output_type": "execute_result"
    }
   ],
   "source": [
    "1.25/0.53"
   ]
  },
  {
   "cell_type": "code",
   "execution_count": null,
   "metadata": {},
   "outputs": [],
   "source": []
  }
 ],
 "metadata": {
  "kernelspec": {
   "display_name": "Python 3",
   "language": "python",
   "name": "python3"
  },
  "language_info": {
   "codemirror_mode": {
    "name": "ipython",
    "version": 3
   },
   "file_extension": ".py",
   "mimetype": "text/x-python",
   "name": "python",
   "nbconvert_exporter": "python",
   "pygments_lexer": "ipython3",
   "version": "3.7.3"
  }
 },
 "nbformat": 4,
 "nbformat_minor": 2
}
